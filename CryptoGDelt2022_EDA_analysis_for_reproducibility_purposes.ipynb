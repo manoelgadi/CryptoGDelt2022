{
 "cells": [
  {
   "cell_type": "markdown",
   "id": "bad044d8",
   "metadata": {},
   "source": [
    "# CryptoGDelt2022 - EDA for reproducibility purposes"
   ]
  },
  {
   "cell_type": "code",
   "execution_count": 1,
   "id": "239d9996",
   "metadata": {},
   "outputs": [],
   "source": [
    "import pandas as pd\n",
    "#df = pd.read_csv(\"https://raw.githubusercontent.com/manoelgadi/CryptoGDelt2022/main/CryptoGDelt2022.csv\")\n",
    "df = pd.read_csv(\"CryptoGDelt2022.csv\")\n"
   ]
  },
  {
   "cell_type": "code",
   "execution_count": 2,
   "id": "57d14e7c",
   "metadata": {},
   "outputs": [],
   "source": [
    "pd.set_option('max_colwidth', 400)"
   ]
  },
  {
   "cell_type": "code",
   "execution_count": 3,
   "id": "9d743868",
   "metadata": {},
   "outputs": [
    {
     "data": {
      "text/plain": [
       "(243422, 19)"
      ]
     },
     "execution_count": 3,
     "metadata": {},
     "output_type": "execute_result"
    }
   ],
   "source": [
    "df.shape"
   ]
  },
  {
   "cell_type": "code",
   "execution_count": 4,
   "id": "ea33924f",
   "metadata": {},
   "outputs": [
    {
     "data": {
      "text/plain": [
       "Index(['id', 'url', 'url_mobile', 'title', 'seendate', 'socialimage', 'domain',\n",
       "       'language', 'sourcecountry', 'lemmetized_titles',\n",
       "       'relevance_probability', 'relevance_class',\n",
       "       'sentiment_negative_probability', 'sentiment_neutral_probability',\n",
       "       'sentiment_positive_probability', 'sentiment_class', 'strength_score',\n",
       "       'date_format', 'real_percent_change'],\n",
       "      dtype='object')"
      ]
     },
     "execution_count": 4,
     "metadata": {},
     "output_type": "execute_result"
    }
   ],
   "source": [
    "df.columns"
   ]
  },
  {
   "cell_type": "code",
   "execution_count": 5,
   "id": "b8f1d198",
   "metadata": {},
   "outputs": [
    {
     "data": {
      "text/plain": [
       "Index(['id', 'url', 'url_mobile', 'title', 'seendate', 'socialimage', 'domain',\n",
       "       'language', 'sourcecountry', 'lemmetized_titles',\n",
       "       'relevance_probability', 'relevance_class',\n",
       "       'sentiment_negative_probability', 'sentiment_neutral_probability',\n",
       "       'sentiment_positive_probability', 'sentiment_class', 'strength_score',\n",
       "       'date_format', 'real_percent_change'],\n",
       "      dtype='object')"
      ]
     },
     "execution_count": 5,
     "metadata": {},
     "output_type": "execute_result"
    }
   ],
   "source": [
    "df.columns"
   ]
  },
  {
   "cell_type": "code",
   "execution_count": 6,
   "id": "d95153d4",
   "metadata": {},
   "outputs": [
    {
     "data": {
      "text/html": [
       "<div>\n",
       "<style scoped>\n",
       "    .dataframe tbody tr th:only-of-type {\n",
       "        vertical-align: middle;\n",
       "    }\n",
       "\n",
       "    .dataframe tbody tr th {\n",
       "        vertical-align: top;\n",
       "    }\n",
       "\n",
       "    .dataframe thead th {\n",
       "        text-align: right;\n",
       "    }\n",
       "</style>\n",
       "<table border=\"1\" class=\"dataframe\">\n",
       "  <thead>\n",
       "    <tr style=\"text-align: right;\">\n",
       "      <th></th>\n",
       "      <th>count</th>\n",
       "      <th>mean</th>\n",
       "      <th>std</th>\n",
       "      <th>min</th>\n",
       "      <th>25%</th>\n",
       "      <th>50%</th>\n",
       "      <th>75%</th>\n",
       "      <th>max</th>\n",
       "    </tr>\n",
       "  </thead>\n",
       "  <tbody>\n",
       "    <tr>\n",
       "      <th>relevance_probability</th>\n",
       "      <td>243422.0</td>\n",
       "      <td>0.365207</td>\n",
       "      <td>0.176954</td>\n",
       "      <td>0.016472</td>\n",
       "      <td>0.231597</td>\n",
       "      <td>0.324303</td>\n",
       "      <td>0.473571</td>\n",
       "      <td>0.983138</td>\n",
       "    </tr>\n",
       "    <tr>\n",
       "      <th>sentiment_negative_probability</th>\n",
       "      <td>243422.0</td>\n",
       "      <td>0.158769</td>\n",
       "      <td>0.303045</td>\n",
       "      <td>0.001313</td>\n",
       "      <td>0.008902</td>\n",
       "      <td>0.014592</td>\n",
       "      <td>0.067717</td>\n",
       "      <td>0.987690</td>\n",
       "    </tr>\n",
       "    <tr>\n",
       "      <th>sentiment_neutral_probability</th>\n",
       "      <td>243422.0</td>\n",
       "      <td>0.483232</td>\n",
       "      <td>0.363384</td>\n",
       "      <td>0.005555</td>\n",
       "      <td>0.089831</td>\n",
       "      <td>0.489286</td>\n",
       "      <td>0.867897</td>\n",
       "      <td>0.971657</td>\n",
       "    </tr>\n",
       "    <tr>\n",
       "      <th>sentiment_positive_probability</th>\n",
       "      <td>243422.0</td>\n",
       "      <td>0.357999</td>\n",
       "      <td>0.363488</td>\n",
       "      <td>0.002367</td>\n",
       "      <td>0.043732</td>\n",
       "      <td>0.165156</td>\n",
       "      <td>0.744326</td>\n",
       "      <td>0.990510</td>\n",
       "    </tr>\n",
       "    <tr>\n",
       "      <th>strength_score</th>\n",
       "      <td>243422.0</td>\n",
       "      <td>0.669163</td>\n",
       "      <td>0.470515</td>\n",
       "      <td>0.000000</td>\n",
       "      <td>0.000000</td>\n",
       "      <td>1.000000</td>\n",
       "      <td>1.000000</td>\n",
       "      <td>1.000000</td>\n",
       "    </tr>\n",
       "    <tr>\n",
       "      <th>real_percent_change</th>\n",
       "      <td>243422.0</td>\n",
       "      <td>-0.000502</td>\n",
       "      <td>0.038612</td>\n",
       "      <td>-0.137661</td>\n",
       "      <td>-0.023055</td>\n",
       "      <td>-0.000442</td>\n",
       "      <td>0.020678</td>\n",
       "      <td>0.145412</td>\n",
       "    </tr>\n",
       "  </tbody>\n",
       "</table>\n",
       "</div>"
      ],
      "text/plain": [
       "                                   count      mean       std       min  \\\n",
       "relevance_probability           243422.0  0.365207  0.176954  0.016472   \n",
       "sentiment_negative_probability  243422.0  0.158769  0.303045  0.001313   \n",
       "sentiment_neutral_probability   243422.0  0.483232  0.363384  0.005555   \n",
       "sentiment_positive_probability  243422.0  0.357999  0.363488  0.002367   \n",
       "strength_score                  243422.0  0.669163  0.470515  0.000000   \n",
       "real_percent_change             243422.0 -0.000502  0.038612 -0.137661   \n",
       "\n",
       "                                     25%       50%       75%       max  \n",
       "relevance_probability           0.231597  0.324303  0.473571  0.983138  \n",
       "sentiment_negative_probability  0.008902  0.014592  0.067717  0.987690  \n",
       "sentiment_neutral_probability   0.089831  0.489286  0.867897  0.971657  \n",
       "sentiment_positive_probability  0.043732  0.165156  0.744326  0.990510  \n",
       "strength_score                  0.000000  1.000000  1.000000  1.000000  \n",
       "real_percent_change            -0.023055 -0.000442  0.020678  0.145412  "
      ]
     },
     "execution_count": 6,
     "metadata": {},
     "output_type": "execute_result"
    }
   ],
   "source": [
    "df[['relevance_probability',\n",
    "    'sentiment_negative_probability',\n",
    "    'sentiment_neutral_probability',\n",
    "    'sentiment_positive_probability',\n",
    "    'strength_score',\n",
    "    'real_percent_change']].describe().T"
   ]
  },
  {
   "cell_type": "code",
   "execution_count": 7,
   "id": "216b7388",
   "metadata": {},
   "outputs": [
    {
     "data": {
      "image/png": "[encoded data removed]",
      "text/plain": [
       "<Figure size 1440x720 with 6 Axes>"
      ]
     },
     "metadata": {
      "needs_background": "light"
     },
     "output_type": "display_data"
    }
   ],
   "source": [
    "import matplotlib.pyplot as plt\n",
    "df[['relevance_probability',\n",
    "    'sentiment_negative_probability',\n",
    "    'sentiment_neutral_probability',\n",
    "    'sentiment_positive_probability',\n",
    "    'strength_score',\n",
    "    'real_percent_change']].hist(alpha=0.5, figsize=(20, 10))\n",
    "plt.tight_layout()\n",
    "plt.show()"
   ]
  },
  {
   "cell_type": "code",
   "execution_count": 8,
   "id": "7fa675ef",
   "metadata": {},
   "outputs": [
    {
     "data": {
      "text/html": [
       "<div>\n",
       "<style scoped>\n",
       "    .dataframe tbody tr th:only-of-type {\n",
       "        vertical-align: middle;\n",
       "    }\n",
       "\n",
       "    .dataframe tbody tr th {\n",
       "        vertical-align: top;\n",
       "    }\n",
       "\n",
       "    .dataframe thead th {\n",
       "        text-align: right;\n",
       "    }\n",
       "</style>\n",
       "<table border=\"1\" class=\"dataframe\">\n",
       "  <thead>\n",
       "    <tr style=\"text-align: right;\">\n",
       "      <th></th>\n",
       "      <th>counts</th>\n",
       "      <th>%</th>\n",
       "    </tr>\n",
       "  </thead>\n",
       "  <tbody>\n",
       "    <tr>\n",
       "      <th>0.0</th>\n",
       "      <td>190115</td>\n",
       "      <td>0.78101</td>\n",
       "    </tr>\n",
       "    <tr>\n",
       "      <th>1.0</th>\n",
       "      <td>53307</td>\n",
       "      <td>0.21899</td>\n",
       "    </tr>\n",
       "  </tbody>\n",
       "</table>\n",
       "</div>"
      ],
      "text/plain": [
       "     counts        %\n",
       "0.0  190115  0.78101\n",
       "1.0   53307  0.21899"
      ]
     },
     "execution_count": 8,
     "metadata": {},
     "output_type": "execute_result"
    }
   ],
   "source": [
    "c = df['relevance_class'].value_counts()\n",
    "p = df['relevance_class'].value_counts(normalize=True)\n",
    "pd.concat([c,p], axis=1, keys=['counts', '%'])"
   ]
  },
  {
   "cell_type": "code",
   "execution_count": 9,
   "id": "69e2e7d2",
   "metadata": {},
   "outputs": [
    {
     "data": {
      "text/html": [
       "<div>\n",
       "<style scoped>\n",
       "    .dataframe tbody tr th:only-of-type {\n",
       "        vertical-align: middle;\n",
       "    }\n",
       "\n",
       "    .dataframe tbody tr th {\n",
       "        vertical-align: top;\n",
       "    }\n",
       "\n",
       "    .dataframe thead th {\n",
       "        text-align: right;\n",
       "    }\n",
       "</style>\n",
       "<table border=\"1\" class=\"dataframe\">\n",
       "  <thead>\n",
       "    <tr style=\"text-align: right;\">\n",
       "      <th></th>\n",
       "      <th>counts</th>\n",
       "      <th>%</th>\n",
       "    </tr>\n",
       "  </thead>\n",
       "  <tbody>\n",
       "    <tr>\n",
       "      <th>0</th>\n",
       "      <td>122966</td>\n",
       "      <td>0.505156</td>\n",
       "    </tr>\n",
       "    <tr>\n",
       "      <th>1</th>\n",
       "      <td>83362</td>\n",
       "      <td>0.342459</td>\n",
       "    </tr>\n",
       "    <tr>\n",
       "      <th>-1</th>\n",
       "      <td>37094</td>\n",
       "      <td>0.152386</td>\n",
       "    </tr>\n",
       "  </tbody>\n",
       "</table>\n",
       "</div>"
      ],
      "text/plain": [
       "    counts         %\n",
       " 0  122966  0.505156\n",
       " 1   83362  0.342459\n",
       "-1   37094  0.152386"
      ]
     },
     "execution_count": 9,
     "metadata": {},
     "output_type": "execute_result"
    }
   ],
   "source": [
    "c = df['sentiment_class'].value_counts()\n",
    "p = df['sentiment_class'].value_counts(normalize=True)\n",
    "pd.concat([c,p], axis=1, keys=['counts', '%'])"
   ]
  },
  {
   "cell_type": "code",
   "execution_count": null,
   "id": "0fd86577",
   "metadata": {},
   "outputs": [],
   "source": []
  },
  {
   "cell_type": "code",
   "execution_count": null,
   "id": "04ed9395",
   "metadata": {},
   "outputs": [],
   "source": []
  }
 ],
 "metadata": {
  "kernelspec": {
   "display_name": "Python 3",
   "language": "python",
   "name": "python3"
  },
  "language_info": {
   "codemirror_mode": {
    "name": "ipython",
    "version": 3
   },
   "file_extension": ".py",
   "mimetype": "text/x-python",
   "name": "python",
   "nbconvert_exporter": "python",
   "pygments_lexer": "ipython3",
   "version": "3.8.8"
  }
 },
 "nbformat": 4,
 "nbformat_minor": 5
}
