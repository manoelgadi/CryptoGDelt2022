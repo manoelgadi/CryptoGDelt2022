{
 "cells": [
  {
   "cell_type": "markdown",
   "metadata": {},
   "source": [
    "# Model Training for Score Relevance"
   ]
  },
  {
   "cell_type": "code",
   "execution_count": 1,
   "metadata": {},
   "outputs": [],
   "source": [
    "import pandas as pd\n",
    "import numpy as np"
   ]
  },
  {
   "cell_type": "markdown",
   "metadata": {},
   "source": [
    "## Training a simple model "
   ]
  },
  {
   "cell_type": "code",
   "execution_count": 2,
   "metadata": {},
   "outputs": [],
   "source": [
    "import seaborn as sns\n",
    "from nltk.stem import *\n",
    "from nltk.corpus import stopwords\n",
    "from sklearn.feature_extraction.text import CountVectorizer\n",
    "from sklearn.model_selection import train_test_split\n",
    "import matplotlib.pyplot as plt\n",
    "from sklearn.feature_extraction.text import TfidfVectorizer\n",
    "from sklearn.naive_bayes import MultinomialNB\n",
    "from sklearn.pipeline import make_pipeline\n",
    "from sklearn.metrics import f1_score\n",
    "from sklearn.metrics import recall_score\n",
    "from sklearn.metrics import precision_score\n",
    "from sklearn.metrics import roc_auc_score\n",
    "from sklearn.metrics import confusion_matrix\n",
    "from sklearn.metrics import accuracy_score\n",
    "import nltk\n",
    "from nltk.corpus import stopwords\n",
    "import re"
   ]
  },
  {
   "cell_type": "code",
   "execution_count": 3,
   "metadata": {},
   "outputs": [],
   "source": [
    "final_df = pd.read_csv('all_score_training.csv')"
   ]
  },
  {
   "cell_type": "code",
   "execution_count": 4,
   "metadata": {},
   "outputs": [
    {
     "data": {
      "text/html": [
       "<div>\n",
       "<style scoped>\n",
       "    .dataframe tbody tr th:only-of-type {\n",
       "        vertical-align: middle;\n",
       "    }\n",
       "\n",
       "    .dataframe tbody tr th {\n",
       "        vertical-align: top;\n",
       "    }\n",
       "\n",
       "    .dataframe thead th {\n",
       "        text-align: right;\n",
       "    }\n",
       "</style>\n",
       "<table border=\"1\" class=\"dataframe\">\n",
       "  <thead>\n",
       "    <tr style=\"text-align: right;\">\n",
       "      <th></th>\n",
       "      <th>Unnamed: 0</th>\n",
       "      <th>Unnamed: 0.1</th>\n",
       "      <th>Unnamed: 0.1.1</th>\n",
       "      <th>headlines</th>\n",
       "      <th>target</th>\n",
       "    </tr>\n",
       "  </thead>\n",
       "  <tbody>\n",
       "    <tr>\n",
       "      <th>0</th>\n",
       "      <td>0</td>\n",
       "      <td>0</td>\n",
       "      <td>0.0</td>\n",
       "      <td>‘Obviously I don’t think women are any less in...</td>\n",
       "      <td>1.0</td>\n",
       "    </tr>\n",
       "    <tr>\n",
       "      <th>1</th>\n",
       "      <td>1</td>\n",
       "      <td>1</td>\n",
       "      <td>1.0</td>\n",
       "      <td>Layoffs hit crypto and real estate tech partic...</td>\n",
       "      <td>1.0</td>\n",
       "    </tr>\n",
       "    <tr>\n",
       "      <th>2</th>\n",
       "      <td>2</td>\n",
       "      <td>2</td>\n",
       "      <td>2.0</td>\n",
       "      <td>A brief recap of one of the worst weeks in cry...</td>\n",
       "      <td>1.0</td>\n",
       "    </tr>\n",
       "    <tr>\n",
       "      <th>3</th>\n",
       "      <td>3</td>\n",
       "      <td>3</td>\n",
       "      <td>3.0</td>\n",
       "      <td>Wells Fargo economist likens crypto collapse t...</td>\n",
       "      <td>1.0</td>\n",
       "    </tr>\n",
       "    <tr>\n",
       "      <th>4</th>\n",
       "      <td>4</td>\n",
       "      <td>4</td>\n",
       "      <td>4.0</td>\n",
       "      <td>Crypto's Excruciating Week Has Traders Bracing...</td>\n",
       "      <td>1.0</td>\n",
       "    </tr>\n",
       "  </tbody>\n",
       "</table>\n",
       "</div>"
      ],
      "text/plain": [
       "   Unnamed: 0  Unnamed: 0.1  Unnamed: 0.1.1  \\\n",
       "0           0             0             0.0   \n",
       "1           1             1             1.0   \n",
       "2           2             2             2.0   \n",
       "3           3             3             3.0   \n",
       "4           4             4             4.0   \n",
       "\n",
       "                                           headlines  target  \n",
       "0  ‘Obviously I don’t think women are any less in...     1.0  \n",
       "1  Layoffs hit crypto and real estate tech partic...     1.0  \n",
       "2  A brief recap of one of the worst weeks in cry...     1.0  \n",
       "3  Wells Fargo economist likens crypto collapse t...     1.0  \n",
       "4  Crypto's Excruciating Week Has Traders Bracing...     1.0  "
      ]
     },
     "execution_count": 4,
     "metadata": {},
     "output_type": "execute_result"
    }
   ],
   "source": [
    "final_df.head()"
   ]
  },
  {
   "cell_type": "code",
   "execution_count": 5,
   "metadata": {},
   "outputs": [
    {
     "data": {
      "text/html": [
       "<div>\n",
       "<style scoped>\n",
       "    .dataframe tbody tr th:only-of-type {\n",
       "        vertical-align: middle;\n",
       "    }\n",
       "\n",
       "    .dataframe tbody tr th {\n",
       "        vertical-align: top;\n",
       "    }\n",
       "\n",
       "    .dataframe thead th {\n",
       "        text-align: right;\n",
       "    }\n",
       "</style>\n",
       "<table border=\"1\" class=\"dataframe\">\n",
       "  <thead>\n",
       "    <tr style=\"text-align: right;\">\n",
       "      <th></th>\n",
       "      <th>counts</th>\n",
       "      <th>%</th>\n",
       "    </tr>\n",
       "  </thead>\n",
       "  <tbody>\n",
       "    <tr>\n",
       "      <th>0.0</th>\n",
       "      <td>1187</td>\n",
       "      <td>0.684939</td>\n",
       "    </tr>\n",
       "    <tr>\n",
       "      <th>1.0</th>\n",
       "      <td>546</td>\n",
       "      <td>0.315061</td>\n",
       "    </tr>\n",
       "  </tbody>\n",
       "</table>\n",
       "</div>"
      ],
      "text/plain": [
       "     counts         %\n",
       "0.0    1187  0.684939\n",
       "1.0     546  0.315061"
      ]
     },
     "execution_count": 5,
     "metadata": {},
     "output_type": "execute_result"
    }
   ],
   "source": [
    "c = final_df['target'].value_counts()\n",
    "p = final_df['target'].value_counts(normalize=True)\n",
    "pd.concat([c,p], axis=1, keys=['counts', '%'])\n",
    "# final_df['target'].value_counts()"
   ]
  },
  {
   "cell_type": "code",
   "execution_count": 6,
   "metadata": {},
   "outputs": [],
   "source": [
    "final_df.drop(['Unnamed: 0'],axis=1,inplace=True)\n",
    "final_df.drop(['Unnamed: 0.1'],axis=1,inplace=True)\n",
    "final_df.drop(['Unnamed: 0.1.1'],axis=1,inplace=True)"
   ]
  },
  {
   "cell_type": "code",
   "execution_count": 7,
   "metadata": {},
   "outputs": [
    {
     "data": {
      "text/plain": [
       "1635    Paramount+, Starz, Showtime & More Are on Sale...\n",
       "1583    Couple Slain in Parade Nightmare in Front of T...\n",
       "979     Coinbase Stock Tumbles, Robinhood Slumps As Bi...\n",
       "1720    4 bears killed in Alaska campground reserved f...\n",
       "Name: headlines, dtype: object"
      ]
     },
     "execution_count": 7,
     "metadata": {},
     "output_type": "execute_result"
    }
   ],
   "source": [
    "X_train, X_test, y_train, y_test = train_test_split(final_df['headlines'],final_df['target'], stratify=final_df['target'])\n",
    "X_train.head(4)"
   ]
  },
  {
   "cell_type": "code",
   "execution_count": 8,
   "metadata": {},
   "outputs": [],
   "source": [
    "# Building a Naive Bayes Classifier\n",
    "model = make_pipeline(TfidfVectorizer(), MultinomialNB())"
   ]
  },
  {
   "cell_type": "code",
   "execution_count": 9,
   "metadata": {},
   "outputs": [
    {
     "data": {
      "text/plain": [
       "Pipeline(steps=[('tfidfvectorizer', TfidfVectorizer()),\n",
       "                ('multinomialnb', MultinomialNB())])"
      ]
     },
     "execution_count": 9,
     "metadata": {},
     "output_type": "execute_result"
    }
   ],
   "source": [
    "model.fit(X_train,y_train)"
   ]
  },
  {
   "cell_type": "code",
   "execution_count": 10,
   "metadata": {},
   "outputs": [],
   "source": [
    "y_pred = model.predict(X_test)\n",
    "score_pred = model.predict_proba(X_test)[:,1]"
   ]
  },
  {
   "cell_type": "code",
   "execution_count": 11,
   "metadata": {},
   "outputs": [
    {
     "data": {
      "text/plain": [
       "0.8594470046082949"
      ]
     },
     "execution_count": 11,
     "metadata": {},
     "output_type": "execute_result"
    }
   ],
   "source": [
    "accuracy_score(y_test, y_pred)"
   ]
  },
  {
   "cell_type": "markdown",
   "metadata": {},
   "source": [
    "Let's apply some techniques to enhance the result:\n",
    "- all lowercase\n",
    "- removal of points\n",
    "- removal of stopwords\n",
    "- lemmatization"
   ]
  },
  {
   "cell_type": "markdown",
   "metadata": {},
   "source": [
    "#### Testing the first 3 techniques "
   ]
  },
  {
   "cell_type": "code",
   "execution_count": 12,
   "metadata": {},
   "outputs": [],
   "source": [
    "final_df['headlines'] = final_df['headlines'].map(lambda x: x.lower())"
   ]
  },
  {
   "cell_type": "code",
   "execution_count": 13,
   "metadata": {},
   "outputs": [],
   "source": [
    "final_df['headlines'] = final_df['headlines'].map(lambda x: re.sub('[^A-Za-z0-9]+', ' ', x))"
   ]
  },
  {
   "cell_type": "code",
   "execution_count": 14,
   "metadata": {},
   "outputs": [
    {
     "name": "stderr",
     "output_type": "stream",
     "text": [
      "[nltk_data] Downloading package stopwords to C:\\Users\\Nicolas\n",
      "[nltk_data]     Ponte\\AppData\\Roaming\\nltk_data...\n",
      "[nltk_data]   Package stopwords is already up-to-date!\n"
     ]
    }
   ],
   "source": [
    "nltk.download('stopwords')\n",
    "english_stop_words = stopwords.words('english')"
   ]
  },
  {
   "cell_type": "code",
   "execution_count": 15,
   "metadata": {},
   "outputs": [],
   "source": [
    "def remove_stop_words(corpus):\n",
    "    removed_stop_words = []\n",
    "    for review in corpus:\n",
    "        removed_stop_words.append(\n",
    "            ' '.join([word for word in review.split() \n",
    "                      if word not in english_stop_words])\n",
    "        )\n",
    "    return removed_stop_words"
   ]
  },
  {
   "cell_type": "code",
   "execution_count": 16,
   "metadata": {},
   "outputs": [],
   "source": [
    "final_df['titles'] = remove_stop_words(final_df['headlines'])"
   ]
  },
  {
   "cell_type": "code",
   "execution_count": 17,
   "metadata": {},
   "outputs": [
    {
     "data": {
      "text/plain": [
       "907     independent al gross says ending alaska house bid\n",
       "1162    distracted putin tumble new bloodbath official...\n",
       "1059          gas prices coming without biden tax holiday\n",
       "821     denmark keeps f 16 fighter jets flying due rus...\n",
       "Name: titles, dtype: object"
      ]
     },
     "execution_count": 17,
     "metadata": {},
     "output_type": "execute_result"
    }
   ],
   "source": [
    "X_train, X_test, y_train, y_test = train_test_split(final_df['titles'],final_df['target'], stratify=final_df['target'])\n",
    "X_train.head(4)"
   ]
  },
  {
   "cell_type": "code",
   "execution_count": 18,
   "metadata": {},
   "outputs": [],
   "source": [
    "model.fit(X_train,y_train)\n",
    "y_pred = model.predict(X_test)\n",
    "score_pred = model.predict_proba(X_test)[:,1]"
   ]
  },
  {
   "cell_type": "code",
   "execution_count": 19,
   "metadata": {},
   "outputs": [
    {
     "data": {
      "text/plain": [
       "0.9101382488479263"
      ]
     },
     "execution_count": 19,
     "metadata": {},
     "output_type": "execute_result"
    }
   ],
   "source": [
    "accuracy_score(y_test, y_pred)"
   ]
  },
  {
   "cell_type": "code",
   "execution_count": 20,
   "metadata": {},
   "outputs": [
    {
     "data": {
      "text/plain": [
       "array([[293,   4],\n",
       "       [ 35, 102]], dtype=int64)"
      ]
     },
     "execution_count": 20,
     "metadata": {},
     "output_type": "execute_result"
    }
   ],
   "source": [
    "confusion_matrix(y_test, y_pred)"
   ]
  },
  {
   "cell_type": "markdown",
   "metadata": {},
   "source": [
    "### Applying Lemmatization "
   ]
  },
  {
   "cell_type": "code",
   "execution_count": 21,
   "metadata": {},
   "outputs": [
    {
     "name": "stderr",
     "output_type": "stream",
     "text": [
      "[nltk_data] Downloading package punkt to C:\\Users\\Nicolas\n",
      "[nltk_data]     Ponte\\AppData\\Roaming\\nltk_data...\n",
      "[nltk_data]   Package punkt is already up-to-date!\n",
      "[nltk_data] Downloading package wordnet to C:\\Users\\Nicolas\n",
      "[nltk_data]     Ponte\\AppData\\Roaming\\nltk_data...\n",
      "[nltk_data]   Package wordnet is already up-to-date!\n"
     ]
    },
    {
     "data": {
      "text/plain": [
       "True"
      ]
     },
     "execution_count": 21,
     "metadata": {},
     "output_type": "execute_result"
    }
   ],
   "source": [
    "from nltk.stem import WordNetLemmatizer\n",
    "from nltk.tokenize import word_tokenize\n",
    "nltk.download('punkt')\n",
    "nltk.download('wordnet')"
   ]
  },
  {
   "cell_type": "code",
   "execution_count": 22,
   "metadata": {},
   "outputs": [],
   "source": [
    "#We need to use the final_df['titles'] to  lemmatize each word:\n",
    "lemmatizer = WordNetLemmatizer()"
   ]
  },
  {
   "cell_type": "code",
   "execution_count": 23,
   "metadata": {},
   "outputs": [],
   "source": [
    "#Function to apply for each word the proper lemmatization.\n",
    "def lemmetize_titles(words):\n",
    "    a = []\n",
    "    tokens = word_tokenize(words)\n",
    "    for token in tokens:\n",
    "        lemmetized_word = lemmatizer.lemmatize(token)\n",
    "        a.append(lemmetized_word)\n",
    "    lemmatized_title = ' '.join(a)\n",
    "    return lemmatized_title "
   ]
  },
  {
   "cell_type": "code",
   "execution_count": 24,
   "metadata": {},
   "outputs": [],
   "source": [
    "final_df['lemmetized_titles'] = final_df['titles'].apply(lemmetize_titles)"
   ]
  },
  {
   "cell_type": "code",
   "execution_count": 25,
   "metadata": {},
   "outputs": [
    {
     "data": {
      "text/plain": [
       "694     3 tuck mba graduate made successful career pivot\n",
       "733    stock still expensive rising rate may shock fi...\n",
       "367    despite plea leniency expert say ghislaine max...\n",
       "695            reit performing compared rest market 2022\n",
       "Name: lemmetized_titles, dtype: object"
      ]
     },
     "execution_count": 25,
     "metadata": {},
     "output_type": "execute_result"
    }
   ],
   "source": [
    "X_train, X_test, y_train, y_test = train_test_split(final_df['lemmetized_titles'],final_df['target'], stratify=final_df['target'])\n",
    "X_train.head(4)"
   ]
  },
  {
   "cell_type": "code",
   "execution_count": 26,
   "metadata": {},
   "outputs": [],
   "source": [
    "model.fit(X_train,y_train)\n",
    "y_pred = model.predict(X_test)\n",
    "score_pred = model.predict_proba(X_test)[:,1]"
   ]
  },
  {
   "cell_type": "markdown",
   "metadata": {},
   "source": [
    "### Train Set Scores "
   ]
  },
  {
   "cell_type": "code",
   "execution_count": 27,
   "metadata": {},
   "outputs": [],
   "source": [
    "y_train_pred = model.predict(X_train)"
   ]
  },
  {
   "cell_type": "code",
   "execution_count": 28,
   "metadata": {},
   "outputs": [
    {
     "data": {
      "text/plain": [
       "0.976905311778291"
      ]
     },
     "execution_count": 28,
     "metadata": {},
     "output_type": "execute_result"
    }
   ],
   "source": [
    "accuracy_score(y_train, y_train_pred)"
   ]
  },
  {
   "cell_type": "code",
   "execution_count": 29,
   "metadata": {},
   "outputs": [
    {
     "data": {
      "text/plain": [
       "0.9896640826873385"
      ]
     },
     "execution_count": 29,
     "metadata": {},
     "output_type": "execute_result"
    }
   ],
   "source": [
    "precision_score(y_train, y_train_pred)"
   ]
  },
  {
   "cell_type": "code",
   "execution_count": 30,
   "metadata": {},
   "outputs": [
    {
     "data": {
      "text/plain": [
       "0.9364303178484108"
      ]
     },
     "execution_count": 30,
     "metadata": {},
     "output_type": "execute_result"
    }
   ],
   "source": [
    "recall_score(y_train, y_train_pred)"
   ]
  },
  {
   "cell_type": "code",
   "execution_count": 31,
   "metadata": {},
   "outputs": [
    {
     "data": {
      "text/plain": [
       "0.9623115577889447"
      ]
     },
     "execution_count": 31,
     "metadata": {},
     "output_type": "execute_result"
    }
   ],
   "source": [
    "f1_score(y_train, y_train_pred)"
   ]
  },
  {
   "cell_type": "code",
   "execution_count": 32,
   "metadata": {},
   "outputs": [
    {
     "data": {
      "text/plain": [
       "0.9659679679129695"
      ]
     },
     "execution_count": 32,
     "metadata": {},
     "output_type": "execute_result"
    }
   ],
   "source": [
    "roc_auc_score(y_train, y_train_pred)"
   ]
  },
  {
   "cell_type": "markdown",
   "metadata": {},
   "source": [
    "### Test Set Scores "
   ]
  },
  {
   "cell_type": "code",
   "execution_count": 33,
   "metadata": {},
   "outputs": [
    {
     "data": {
      "text/plain": [
       "0.9193548387096774"
      ]
     },
     "execution_count": 33,
     "metadata": {},
     "output_type": "execute_result"
    }
   ],
   "source": [
    "accuracy_score(y_test, y_pred)"
   ]
  },
  {
   "cell_type": "code",
   "execution_count": 34,
   "metadata": {},
   "outputs": [
    {
     "data": {
      "text/plain": [
       "0.9553571428571429"
      ]
     },
     "execution_count": 34,
     "metadata": {},
     "output_type": "execute_result"
    }
   ],
   "source": [
    "precision_score(y_test, y_pred)"
   ]
  },
  {
   "cell_type": "code",
   "execution_count": 35,
   "metadata": {},
   "outputs": [
    {
     "data": {
      "text/plain": [
       "0.781021897810219"
      ]
     },
     "execution_count": 35,
     "metadata": {},
     "output_type": "execute_result"
    }
   ],
   "source": [
    "recall_score(y_test, y_pred)"
   ]
  },
  {
   "cell_type": "code",
   "execution_count": 36,
   "metadata": {},
   "outputs": [
    {
     "data": {
      "text/plain": [
       "0.8594377510040162"
      ]
     },
     "execution_count": 36,
     "metadata": {},
     "output_type": "execute_result"
    }
   ],
   "source": [
    "f1_score(y_test, y_pred)"
   ]
  },
  {
   "cell_type": "code",
   "execution_count": 37,
   "metadata": {},
   "outputs": [
    {
     "data": {
      "text/plain": [
       "0.8820934404876011"
      ]
     },
     "execution_count": 37,
     "metadata": {},
     "output_type": "execute_result"
    }
   ],
   "source": [
    "roc_auc_score(y_test, y_pred)"
   ]
  },
  {
   "cell_type": "code",
   "execution_count": 38,
   "metadata": {},
   "outputs": [
    {
     "data": {
      "text/plain": [
       "array([[292,   5],\n",
       "       [ 30, 107]], dtype=int64)"
      ]
     },
     "execution_count": 38,
     "metadata": {},
     "output_type": "execute_result"
    }
   ],
   "source": [
    "confusion_matrix(y_test, y_pred)"
   ]
  },
  {
   "cell_type": "code",
   "execution_count": null,
   "metadata": {},
   "outputs": [],
   "source": [
    "#Let's store the model for later use:\n",
    "import pickle\n",
    "pickle.dump(model, open('SimpleRelScoreModel.sav', 'wb'))"
   ]
  },
  {
   "cell_type": "markdown",
   "metadata": {},
   "source": [
    "### Check Manoel File "
   ]
  },
  {
   "cell_type": "code",
   "execution_count": 39,
   "metadata": {},
   "outputs": [],
   "source": [
    "df_study = pd.read_csv('../OneYearNewsDataset.csv')"
   ]
  },
  {
   "cell_type": "code",
   "execution_count": 40,
   "metadata": {},
   "outputs": [
    {
     "data": {
      "text/html": [
       "<div>\n",
       "<style scoped>\n",
       "    .dataframe tbody tr th:only-of-type {\n",
       "        vertical-align: middle;\n",
       "    }\n",
       "\n",
       "    .dataframe tbody tr th {\n",
       "        vertical-align: top;\n",
       "    }\n",
       "\n",
       "    .dataframe thead th {\n",
       "        text-align: right;\n",
       "    }\n",
       "</style>\n",
       "<table border=\"1\" class=\"dataframe\">\n",
       "  <thead>\n",
       "    <tr style=\"text-align: right;\">\n",
       "      <th></th>\n",
       "      <th>Unnamed: 0</th>\n",
       "      <th>url</th>\n",
       "      <th>url_mobile</th>\n",
       "      <th>title</th>\n",
       "      <th>seendate</th>\n",
       "      <th>socialimage</th>\n",
       "      <th>domain</th>\n",
       "      <th>language</th>\n",
       "      <th>sourcecountry</th>\n",
       "    </tr>\n",
       "  </thead>\n",
       "  <tbody>\n",
       "    <tr>\n",
       "      <th>0</th>\n",
       "      <td>0</td>\n",
       "      <td>https://www.digitaljournal.com/pr/longhash-ven...</td>\n",
       "      <td>NaN</td>\n",
       "      <td>LongHash Ventures and Terraform Labs Join Forc...</td>\n",
       "      <td>20220406T163000Z</td>\n",
       "      <td>NaN</td>\n",
       "      <td>digitaljournal.com</td>\n",
       "      <td>English</td>\n",
       "      <td>United States</td>\n",
       "    </tr>\n",
       "    <tr>\n",
       "      <th>1</th>\n",
       "      <td>1</td>\n",
       "      <td>https://www.prnewswire.com/news-releases/terra...</td>\n",
       "      <td>NaN</td>\n",
       "      <td>TERRA . DO TO COMPETE IN FINAL 20 GROUP FOR ED...</td>\n",
       "      <td>20220406T001500Z</td>\n",
       "      <td>NaN</td>\n",
       "      <td>prnewswire.com</td>\n",
       "      <td>English</td>\n",
       "      <td>United States</td>\n",
       "    </tr>\n",
       "    <tr>\n",
       "      <th>2</th>\n",
       "      <td>2</td>\n",
       "      <td>https://www.fool.com/investing/2022/04/06/can-...</td>\n",
       "      <td>NaN</td>\n",
       "      <td>Can THORchain Keep Surging ? | The Motley Fool</td>\n",
       "      <td>20220406T120000Z</td>\n",
       "      <td>NaN</td>\n",
       "      <td>fool.com</td>\n",
       "      <td>English</td>\n",
       "      <td>United States</td>\n",
       "    </tr>\n",
       "    <tr>\n",
       "      <th>3</th>\n",
       "      <td>3</td>\n",
       "      <td>https://www.finanznachrichten.de/nachrichten-2...</td>\n",
       "      <td>NaN</td>\n",
       "      <td>Gold Terra Resource Corp : Gold Terra Intersec...</td>\n",
       "      <td>20220406T123000Z</td>\n",
       "      <td>NaN</td>\n",
       "      <td>finanznachrichten.de</td>\n",
       "      <td>English</td>\n",
       "      <td>Germany</td>\n",
       "    </tr>\n",
       "    <tr>\n",
       "      <th>4</th>\n",
       "      <td>4</td>\n",
       "      <td>https://economictimes.indiatimes.com/tech/tech...</td>\n",
       "      <td>NaN</td>\n",
       "      <td>Crypto wallet Leap raises $3 . 2 million throu...</td>\n",
       "      <td>20220406T114500Z</td>\n",
       "      <td>NaN</td>\n",
       "      <td>economictimes.indiatimes.com</td>\n",
       "      <td>English</td>\n",
       "      <td>India</td>\n",
       "    </tr>\n",
       "  </tbody>\n",
       "</table>\n",
       "</div>"
      ],
      "text/plain": [
       "   Unnamed: 0                                                url url_mobile  \\\n",
       "0           0  https://www.digitaljournal.com/pr/longhash-ven...        NaN   \n",
       "1           1  https://www.prnewswire.com/news-releases/terra...        NaN   \n",
       "2           2  https://www.fool.com/investing/2022/04/06/can-...        NaN   \n",
       "3           3  https://www.finanznachrichten.de/nachrichten-2...        NaN   \n",
       "4           4  https://economictimes.indiatimes.com/tech/tech...        NaN   \n",
       "\n",
       "                                               title          seendate  \\\n",
       "0  LongHash Ventures and Terraform Labs Join Forc...  20220406T163000Z   \n",
       "1  TERRA . DO TO COMPETE IN FINAL 20 GROUP FOR ED...  20220406T001500Z   \n",
       "2     Can THORchain Keep Surging ? | The Motley Fool  20220406T120000Z   \n",
       "3  Gold Terra Resource Corp : Gold Terra Intersec...  20220406T123000Z   \n",
       "4  Crypto wallet Leap raises $3 . 2 million throu...  20220406T114500Z   \n",
       "\n",
       "  socialimage                        domain language  sourcecountry  \n",
       "0         NaN            digitaljournal.com  English  United States  \n",
       "1         NaN                prnewswire.com  English  United States  \n",
       "2         NaN                      fool.com  English  United States  \n",
       "3         NaN          finanznachrichten.de  English        Germany  \n",
       "4         NaN  economictimes.indiatimes.com  English          India  "
      ]
     },
     "execution_count": 40,
     "metadata": {},
     "output_type": "execute_result"
    }
   ],
   "source": [
    "df_study.head(5)"
   ]
  },
  {
   "cell_type": "code",
   "execution_count": 41,
   "metadata": {},
   "outputs": [],
   "source": [
    "df_study.drop(['Unnamed: 0'],axis=1,inplace=True)"
   ]
  },
  {
   "cell_type": "code",
   "execution_count": 42,
   "metadata": {},
   "outputs": [],
   "source": [
    "df_study['lemmetized_titles'] = df_study['title'].map(lambda x: x.lower())\n",
    "df_study['lemmetized_titles'] = df_study['lemmetized_titles'].map(lambda x: re.sub('[^A-Za-z0-9]+', ' ', x))\n",
    "df_study['lemmetized_titles'] = remove_stop_words(df_study['lemmetized_titles'])\n",
    "df_study['lemmetized_titles'] = df_study['lemmetized_titles'].apply(lemmetize_titles)"
   ]
  },
  {
   "cell_type": "code",
   "execution_count": 43,
   "metadata": {},
   "outputs": [],
   "source": [
    "proba = model.predict_proba(df_study['lemmetized_titles'])[:,1]"
   ]
  },
  {
   "cell_type": "code",
   "execution_count": 44,
   "metadata": {},
   "outputs": [],
   "source": [
    "df_study['relevance_probability']=proba"
   ]
  },
  {
   "cell_type": "code",
   "execution_count": 45,
   "metadata": {},
   "outputs": [],
   "source": [
    "Strength_ = model.predict(df_study['lemmetized_titles'])"
   ]
  },
  {
   "cell_type": "code",
   "execution_count": 46,
   "metadata": {},
   "outputs": [],
   "source": [
    "df_study['relevance_class']=Strength_"
   ]
  },
  {
   "cell_type": "code",
   "execution_count": 47,
   "metadata": {},
   "outputs": [
    {
     "data": {
      "text/html": [
       "<div>\n",
       "<style scoped>\n",
       "    .dataframe tbody tr th:only-of-type {\n",
       "        vertical-align: middle;\n",
       "    }\n",
       "\n",
       "    .dataframe tbody tr th {\n",
       "        vertical-align: top;\n",
       "    }\n",
       "\n",
       "    .dataframe thead th {\n",
       "        text-align: right;\n",
       "    }\n",
       "</style>\n",
       "<table border=\"1\" class=\"dataframe\">\n",
       "  <thead>\n",
       "    <tr style=\"text-align: right;\">\n",
       "      <th></th>\n",
       "      <th>url</th>\n",
       "      <th>url_mobile</th>\n",
       "      <th>title</th>\n",
       "      <th>seendate</th>\n",
       "      <th>socialimage</th>\n",
       "      <th>domain</th>\n",
       "      <th>language</th>\n",
       "      <th>sourcecountry</th>\n",
       "      <th>lemmetized_titles</th>\n",
       "      <th>relevance_probability</th>\n",
       "      <th>relevance_class</th>\n",
       "    </tr>\n",
       "  </thead>\n",
       "  <tbody>\n",
       "    <tr>\n",
       "      <th>0</th>\n",
       "      <td>https://www.digitaljournal.com/pr/longhash-ven...</td>\n",
       "      <td>NaN</td>\n",
       "      <td>LongHash Ventures and Terraform Labs Join Forc...</td>\n",
       "      <td>20220406T163000Z</td>\n",
       "      <td>NaN</td>\n",
       "      <td>digitaljournal.com</td>\n",
       "      <td>English</td>\n",
       "      <td>United States</td>\n",
       "      <td>longhash venture terraform lab join force adva...</td>\n",
       "      <td>0.608537</td>\n",
       "      <td>1.0</td>\n",
       "    </tr>\n",
       "    <tr>\n",
       "      <th>1</th>\n",
       "      <td>https://www.prnewswire.com/news-releases/terra...</td>\n",
       "      <td>NaN</td>\n",
       "      <td>TERRA . DO TO COMPETE IN FINAL 20 GROUP FOR ED...</td>\n",
       "      <td>20220406T001500Z</td>\n",
       "      <td>NaN</td>\n",
       "      <td>prnewswire.com</td>\n",
       "      <td>English</td>\n",
       "      <td>United States</td>\n",
       "      <td>terra compete final 20 group edtech competitio...</td>\n",
       "      <td>0.289958</td>\n",
       "      <td>0.0</td>\n",
       "    </tr>\n",
       "    <tr>\n",
       "      <th>2</th>\n",
       "      <td>https://www.fool.com/investing/2022/04/06/can-...</td>\n",
       "      <td>NaN</td>\n",
       "      <td>Can THORchain Keep Surging ? | The Motley Fool</td>\n",
       "      <td>20220406T120000Z</td>\n",
       "      <td>NaN</td>\n",
       "      <td>fool.com</td>\n",
       "      <td>English</td>\n",
       "      <td>United States</td>\n",
       "      <td>thorchain keep surging motley fool</td>\n",
       "      <td>0.288098</td>\n",
       "      <td>0.0</td>\n",
       "    </tr>\n",
       "    <tr>\n",
       "      <th>3</th>\n",
       "      <td>https://www.finanznachrichten.de/nachrichten-2...</td>\n",
       "      <td>NaN</td>\n",
       "      <td>Gold Terra Resource Corp : Gold Terra Intersec...</td>\n",
       "      <td>20220406T123000Z</td>\n",
       "      <td>NaN</td>\n",
       "      <td>finanznachrichten.de</td>\n",
       "      <td>English</td>\n",
       "      <td>Germany</td>\n",
       "      <td>gold terra resource corp gold terra intersects...</td>\n",
       "      <td>0.201722</td>\n",
       "      <td>0.0</td>\n",
       "    </tr>\n",
       "    <tr>\n",
       "      <th>4</th>\n",
       "      <td>https://economictimes.indiatimes.com/tech/tech...</td>\n",
       "      <td>NaN</td>\n",
       "      <td>Crypto wallet Leap raises $3 . 2 million throu...</td>\n",
       "      <td>20220406T114500Z</td>\n",
       "      <td>NaN</td>\n",
       "      <td>economictimes.indiatimes.com</td>\n",
       "      <td>English</td>\n",
       "      <td>India</td>\n",
       "      <td>crypto wallet leap raise 3 2 million token sale</td>\n",
       "      <td>0.719981</td>\n",
       "      <td>1.0</td>\n",
       "    </tr>\n",
       "    <tr>\n",
       "      <th>...</th>\n",
       "      <td>...</td>\n",
       "      <td>...</td>\n",
       "      <td>...</td>\n",
       "      <td>...</td>\n",
       "      <td>...</td>\n",
       "      <td>...</td>\n",
       "      <td>...</td>\n",
       "      <td>...</td>\n",
       "      <td>...</td>\n",
       "      <td>...</td>\n",
       "      <td>...</td>\n",
       "    </tr>\n",
       "    <tr>\n",
       "      <th>243499</th>\n",
       "      <td>https://www.crowdfundinsider.com/2021/04/17474...</td>\n",
       "      <td>https://www.crowdfundinsider.com/2021/04/17474...</td>\n",
       "      <td>Digital Asset Firm Paxos Raises $300 Million ,...</td>\n",
       "      <td>20210429T151500Z</td>\n",
       "      <td>https://www.crowdfundinsider.com/wp-content/up...</td>\n",
       "      <td>crowdfundinsider.com</td>\n",
       "      <td>English</td>\n",
       "      <td>United Kingdom</td>\n",
       "      <td>digital asset firm paxos raise 300 million val...</td>\n",
       "      <td>0.497565</td>\n",
       "      <td>0.0</td>\n",
       "    </tr>\n",
       "    <tr>\n",
       "      <th>243500</th>\n",
       "      <td>https://www.jdsupra.com/legalnews/occ-conditio...</td>\n",
       "      <td>NaN</td>\n",
       "      <td>OCC Conditionally Approves Trust Company Chart...</td>\n",
       "      <td>20210429T204500Z</td>\n",
       "      <td>https://jdsupra-static.s3.amazonaws.com/profil...</td>\n",
       "      <td>jdsupra.com</td>\n",
       "      <td>English</td>\n",
       "      <td>United States</td>\n",
       "      <td>occ conditionally approves trust company chart...</td>\n",
       "      <td>0.520409</td>\n",
       "      <td>1.0</td>\n",
       "    </tr>\n",
       "    <tr>\n",
       "      <th>243501</th>\n",
       "      <td>https://www.bangkokpost.com/tech/2107743/think...</td>\n",
       "      <td>NaN</td>\n",
       "      <td>Think twice before going with Huawei</td>\n",
       "      <td>20210429T054500Z</td>\n",
       "      <td>https://static.bangkokpost.com/media/content/2...</td>\n",
       "      <td>bangkokpost.com</td>\n",
       "      <td>English</td>\n",
       "      <td>Thailand</td>\n",
       "      <td>think twice going huawei</td>\n",
       "      <td>0.315166</td>\n",
       "      <td>0.0</td>\n",
       "    </tr>\n",
       "    <tr>\n",
       "      <th>243502</th>\n",
       "      <td>http://www.tynmagazine.com/cryptoeconomy-china...</td>\n",
       "      <td>NaN</td>\n",
       "      <td>Cryptoeconomy : China downgrades bitcoin into ...</td>\n",
       "      <td>20210429T153000Z</td>\n",
       "      <td>http://tynmedia.com/tynmag/wp-content/uploads/...</td>\n",
       "      <td>tynmagazine.com</td>\n",
       "      <td>English</td>\n",
       "      <td>United States</td>\n",
       "      <td>cryptoeconomy china downgrade bitcoin investme...</td>\n",
       "      <td>0.333374</td>\n",
       "      <td>0.0</td>\n",
       "    </tr>\n",
       "    <tr>\n",
       "      <th>243503</th>\n",
       "      <td>https://www.tmcnet.com/usubmit/2021/04/29/9357...</td>\n",
       "      <td>NaN</td>\n",
       "      <td>Paxos Raises $300 Million in Series D Funding ...</td>\n",
       "      <td>20210429T103000Z</td>\n",
       "      <td>NaN</td>\n",
       "      <td>tmcnet.com</td>\n",
       "      <td>English</td>\n",
       "      <td>United States</td>\n",
       "      <td>paxos raise 300 million series funding 2 4 bil...</td>\n",
       "      <td>0.372671</td>\n",
       "      <td>0.0</td>\n",
       "    </tr>\n",
       "  </tbody>\n",
       "</table>\n",
       "<p>243504 rows × 11 columns</p>\n",
       "</div>"
      ],
      "text/plain": [
       "                                                      url  \\\n",
       "0       https://www.digitaljournal.com/pr/longhash-ven...   \n",
       "1       https://www.prnewswire.com/news-releases/terra...   \n",
       "2       https://www.fool.com/investing/2022/04/06/can-...   \n",
       "3       https://www.finanznachrichten.de/nachrichten-2...   \n",
       "4       https://economictimes.indiatimes.com/tech/tech...   \n",
       "...                                                   ...   \n",
       "243499  https://www.crowdfundinsider.com/2021/04/17474...   \n",
       "243500  https://www.jdsupra.com/legalnews/occ-conditio...   \n",
       "243501  https://www.bangkokpost.com/tech/2107743/think...   \n",
       "243502  http://www.tynmagazine.com/cryptoeconomy-china...   \n",
       "243503  https://www.tmcnet.com/usubmit/2021/04/29/9357...   \n",
       "\n",
       "                                               url_mobile  \\\n",
       "0                                                     NaN   \n",
       "1                                                     NaN   \n",
       "2                                                     NaN   \n",
       "3                                                     NaN   \n",
       "4                                                     NaN   \n",
       "...                                                   ...   \n",
       "243499  https://www.crowdfundinsider.com/2021/04/17474...   \n",
       "243500                                                NaN   \n",
       "243501                                                NaN   \n",
       "243502                                                NaN   \n",
       "243503                                                NaN   \n",
       "\n",
       "                                                    title          seendate  \\\n",
       "0       LongHash Ventures and Terraform Labs Join Forc...  20220406T163000Z   \n",
       "1       TERRA . DO TO COMPETE IN FINAL 20 GROUP FOR ED...  20220406T001500Z   \n",
       "2          Can THORchain Keep Surging ? | The Motley Fool  20220406T120000Z   \n",
       "3       Gold Terra Resource Corp : Gold Terra Intersec...  20220406T123000Z   \n",
       "4       Crypto wallet Leap raises $3 . 2 million throu...  20220406T114500Z   \n",
       "...                                                   ...               ...   \n",
       "243499  Digital Asset Firm Paxos Raises $300 Million ,...  20210429T151500Z   \n",
       "243500  OCC Conditionally Approves Trust Company Chart...  20210429T204500Z   \n",
       "243501               Think twice before going with Huawei  20210429T054500Z   \n",
       "243502  Cryptoeconomy : China downgrades bitcoin into ...  20210429T153000Z   \n",
       "243503  Paxos Raises $300 Million in Series D Funding ...  20210429T103000Z   \n",
       "\n",
       "                                              socialimage  \\\n",
       "0                                                     NaN   \n",
       "1                                                     NaN   \n",
       "2                                                     NaN   \n",
       "3                                                     NaN   \n",
       "4                                                     NaN   \n",
       "...                                                   ...   \n",
       "243499  https://www.crowdfundinsider.com/wp-content/up...   \n",
       "243500  https://jdsupra-static.s3.amazonaws.com/profil...   \n",
       "243501  https://static.bangkokpost.com/media/content/2...   \n",
       "243502  http://tynmedia.com/tynmag/wp-content/uploads/...   \n",
       "243503                                                NaN   \n",
       "\n",
       "                              domain language   sourcecountry  \\\n",
       "0                 digitaljournal.com  English   United States   \n",
       "1                     prnewswire.com  English   United States   \n",
       "2                           fool.com  English   United States   \n",
       "3               finanznachrichten.de  English         Germany   \n",
       "4       economictimes.indiatimes.com  English           India   \n",
       "...                              ...      ...             ...   \n",
       "243499          crowdfundinsider.com  English  United Kingdom   \n",
       "243500                   jdsupra.com  English   United States   \n",
       "243501               bangkokpost.com  English        Thailand   \n",
       "243502               tynmagazine.com  English   United States   \n",
       "243503                    tmcnet.com  English   United States   \n",
       "\n",
       "                                        lemmetized_titles  \\\n",
       "0       longhash venture terraform lab join force adva...   \n",
       "1       terra compete final 20 group edtech competitio...   \n",
       "2                      thorchain keep surging motley fool   \n",
       "3       gold terra resource corp gold terra intersects...   \n",
       "4         crypto wallet leap raise 3 2 million token sale   \n",
       "...                                                   ...   \n",
       "243499  digital asset firm paxos raise 300 million val...   \n",
       "243500  occ conditionally approves trust company chart...   \n",
       "243501                           think twice going huawei   \n",
       "243502  cryptoeconomy china downgrade bitcoin investme...   \n",
       "243503  paxos raise 300 million series funding 2 4 bil...   \n",
       "\n",
       "        relevance_probability  relevance_class  \n",
       "0                    0.608537              1.0  \n",
       "1                    0.289958              0.0  \n",
       "2                    0.288098              0.0  \n",
       "3                    0.201722              0.0  \n",
       "4                    0.719981              1.0  \n",
       "...                       ...              ...  \n",
       "243499               0.497565              0.0  \n",
       "243500               0.520409              1.0  \n",
       "243501               0.315166              0.0  \n",
       "243502               0.333374              0.0  \n",
       "243503               0.372671              0.0  \n",
       "\n",
       "[243504 rows x 11 columns]"
      ]
     },
     "execution_count": 47,
     "metadata": {},
     "output_type": "execute_result"
    }
   ],
   "source": [
    "df_study"
   ]
  },
  {
   "cell_type": "code",
   "execution_count": 48,
   "metadata": {},
   "outputs": [],
   "source": [
    "df_study.to_csv('../OneYearNewsDataset_AfterRelevance.csv')"
   ]
  },
  {
   "cell_type": "code",
   "execution_count": null,
   "metadata": {},
   "outputs": [],
   "source": []
  },
  {
   "cell_type": "code",
   "execution_count": null,
   "metadata": {},
   "outputs": [],
   "source": []
  }
 ],
 "metadata": {
  "kernelspec": {
   "display_name": "Python 3",
   "language": "python",
   "name": "python3"
  },
  "language_info": {
   "codemirror_mode": {
    "name": "ipython",
    "version": 3
   },
   "file_extension": ".py",
   "mimetype": "text/x-python",
   "name": "python",
   "nbconvert_exporter": "python",
   "pygments_lexer": "ipython3",
   "version": "3.8.8"
  }
 },
 "nbformat": 4,
 "nbformat_minor": 4
}
