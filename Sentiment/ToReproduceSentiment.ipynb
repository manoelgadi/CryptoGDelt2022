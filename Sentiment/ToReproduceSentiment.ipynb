{
 "cells": [
  {
   "cell_type": "markdown",
   "id": "f5665703",
   "metadata": {},
   "source": [
    "## Sentiment Analysis from CryptoLin"
   ]
  },
  {
   "cell_type": "markdown",
   "id": "10390b43",
   "metadata": {},
   "source": [
    "### Importing the data of CryptoLin for finBERT model Training "
   ]
  },
  {
   "cell_type": "code",
   "execution_count": 1,
   "id": "4c951112",
   "metadata": {},
   "outputs": [],
   "source": [
    "import warnings\n",
    "import pandas as pd\n",
    "warnings.filterwarnings('ignore')\n",
    "from sklearn.metrics import accuracy_score, recall_score, precision_score, f1_score"
   ]
  },
  {
   "cell_type": "code",
   "execution_count": 2,
   "id": "5cd81d11",
   "metadata": {},
   "outputs": [
    {
     "data": {
      "text/html": [
       "<div>\n",
       "<style scoped>\n",
       "    .dataframe tbody tr th:only-of-type {\n",
       "        vertical-align: middle;\n",
       "    }\n",
       "\n",
       "    .dataframe tbody tr th {\n",
       "        vertical-align: top;\n",
       "    }\n",
       "\n",
       "    .dataframe thead th {\n",
       "        text-align: right;\n",
       "    }\n",
       "</style>\n",
       "<table border=\"1\" class=\"dataframe\">\n",
       "  <thead>\n",
       "    <tr style=\"text-align: right;\">\n",
       "      <th></th>\n",
       "      <th>counts</th>\n",
       "      <th>%</th>\n",
       "    </tr>\n",
       "  </thead>\n",
       "  <tbody>\n",
       "    <tr>\n",
       "      <th>1</th>\n",
       "      <td>1366</td>\n",
       "      <td>0.509132</td>\n",
       "    </tr>\n",
       "    <tr>\n",
       "      <th>0</th>\n",
       "      <td>921</td>\n",
       "      <td>0.343272</td>\n",
       "    </tr>\n",
       "    <tr>\n",
       "      <th>-1</th>\n",
       "      <td>396</td>\n",
       "      <td>0.147596</td>\n",
       "    </tr>\n",
       "  </tbody>\n",
       "</table>\n",
       "</div>"
      ],
      "text/plain": [
       "    counts         %\n",
       " 1    1366  0.509132\n",
       " 0     921  0.343272\n",
       "-1     396  0.147596"
      ]
     },
     "execution_count": 2,
     "metadata": {},
     "output_type": "execute_result"
    }
   ],
   "source": [
    "df = pd.read_csv(\"CryptoLin_IE_v2.csv\")\n",
    "c = df['final_manual_labelling'].value_counts()\n",
    "p = df['final_manual_labelling'].value_counts(normalize=True)\n",
    "pd.concat([c,p], axis=1, keys=['counts', '%'])"
   ]
  },
  {
   "cell_type": "code",
   "execution_count": 3,
   "id": "183ff2bf",
   "metadata": {},
   "outputs": [
    {
     "data": {
      "text/plain": [
       "Index(['id', 'date', 'news', 'final_manual_labelling', 'text_span',\n",
       "       'type_abnormal_return_fama_frech', 'vader', 'textblob', 'flair',\n",
       "       'finbert_positive', 'finbert_negative', 'finbert_neutral',\n",
       "       'vader_class', 'textblob_class', 'flair_class',\n",
       "       'finbert_positive_class', 'finbert_negative_class',\n",
       "       'finbert_neutral_class'],\n",
       "      dtype='object')"
      ]
     },
     "execution_count": 3,
     "metadata": {},
     "output_type": "execute_result"
    }
   ],
   "source": [
    "df.columns"
   ]
  },
  {
   "cell_type": "code",
   "execution_count": 4,
   "id": "041778cf",
   "metadata": {},
   "outputs": [],
   "source": [
    "df.drop(['id'],inplace=True,axis=1)"
   ]
  },
  {
   "cell_type": "code",
   "execution_count": 5,
   "id": "fcdabd87",
   "metadata": {},
   "outputs": [
    {
     "data": {
      "text/html": [
       "<div>\n",
       "<style scoped>\n",
       "    .dataframe tbody tr th:only-of-type {\n",
       "        vertical-align: middle;\n",
       "    }\n",
       "\n",
       "    .dataframe tbody tr th {\n",
       "        vertical-align: top;\n",
       "    }\n",
       "\n",
       "    .dataframe thead th {\n",
       "        text-align: right;\n",
       "    }\n",
       "</style>\n",
       "<table border=\"1\" class=\"dataframe\">\n",
       "  <thead>\n",
       "    <tr style=\"text-align: right;\">\n",
       "      <th></th>\n",
       "      <th>date</th>\n",
       "      <th>news</th>\n",
       "      <th>final_manual_labelling</th>\n",
       "      <th>text_span</th>\n",
       "      <th>type_abnormal_return_fama_frech</th>\n",
       "      <th>vader</th>\n",
       "      <th>textblob</th>\n",
       "      <th>flair</th>\n",
       "      <th>finbert_positive</th>\n",
       "      <th>finbert_negative</th>\n",
       "      <th>finbert_neutral</th>\n",
       "      <th>vader_class</th>\n",
       "      <th>textblob_class</th>\n",
       "      <th>flair_class</th>\n",
       "      <th>finbert_positive_class</th>\n",
       "      <th>finbert_negative_class</th>\n",
       "      <th>finbert_neutral_class</th>\n",
       "    </tr>\n",
       "  </thead>\n",
       "  <tbody>\n",
       "    <tr>\n",
       "      <th>0</th>\n",
       "      <td>2022-01-25</td>\n",
       "      <td>Ripple announces stock buyback, nabs $15 billi...</td>\n",
       "      <td>1</td>\n",
       "      <td>{annotator1_id:22;annotator1_label:1; annotato...</td>\n",
       "      <td>0</td>\n",
       "      <td>0.0000</td>\n",
       "      <td>0.000000</td>\n",
       "      <td>0.875877</td>\n",
       "      <td>0.098288</td>\n",
       "      <td>-0.020569</td>\n",
       "      <td>0.881142</td>\n",
       "      <td>0</td>\n",
       "      <td>-1</td>\n",
       "      <td>-1</td>\n",
       "      <td>1</td>\n",
       "      <td>0</td>\n",
       "      <td>1</td>\n",
       "    </tr>\n",
       "    <tr>\n",
       "      <th>1</th>\n",
       "      <td>2022-01-25</td>\n",
       "      <td>IMF directors urge El Salvador to remove Bitco...</td>\n",
       "      <td>-1</td>\n",
       "      <td>{annotator1_id:16;annotator1_label:-1; annotat...</td>\n",
       "      <td>0</td>\n",
       "      <td>0.1280</td>\n",
       "      <td>0.200000</td>\n",
       "      <td>0.998796</td>\n",
       "      <td>0.047823</td>\n",
       "      <td>-0.162971</td>\n",
       "      <td>0.789206</td>\n",
       "      <td>1</td>\n",
       "      <td>1</td>\n",
       "      <td>1</td>\n",
       "      <td>-1</td>\n",
       "      <td>-1</td>\n",
       "      <td>1</td>\n",
       "    </tr>\n",
       "    <tr>\n",
       "      <th>2</th>\n",
       "      <td>2022-01-25</td>\n",
       "      <td>Dragonfly Capital is raising $500 million for ...</td>\n",
       "      <td>1</td>\n",
       "      <td>{annotator1_id:45;annotator1_label:1; annotato...</td>\n",
       "      <td>0</td>\n",
       "      <td>0.0000</td>\n",
       "      <td>0.136364</td>\n",
       "      <td>0.984027</td>\n",
       "      <td>0.156997</td>\n",
       "      <td>-0.008097</td>\n",
       "      <td>0.834906</td>\n",
       "      <td>0</td>\n",
       "      <td>1</td>\n",
       "      <td>1</td>\n",
       "      <td>1</td>\n",
       "      <td>1</td>\n",
       "      <td>1</td>\n",
       "    </tr>\n",
       "    <tr>\n",
       "      <th>3</th>\n",
       "      <td>2022-01-25</td>\n",
       "      <td>Rick and Morty co-creator collaborates with Pa...</td>\n",
       "      <td>0</td>\n",
       "      <td>{annotator1_id:32;annotator1_label:0; annotato...</td>\n",
       "      <td>0</td>\n",
       "      <td>0.0000</td>\n",
       "      <td>0.000000</td>\n",
       "      <td>0.996666</td>\n",
       "      <td>0.055608</td>\n",
       "      <td>-0.015489</td>\n",
       "      <td>0.928903</td>\n",
       "      <td>0</td>\n",
       "      <td>-1</td>\n",
       "      <td>1</td>\n",
       "      <td>0</td>\n",
       "      <td>0</td>\n",
       "      <td>1</td>\n",
       "    </tr>\n",
       "    <tr>\n",
       "      <th>4</th>\n",
       "      <td>2022-01-25</td>\n",
       "      <td>How fintech SPACs lost their shine</td>\n",
       "      <td>0</td>\n",
       "      <td>{annotator1_id:48;annotator1_label:0; annotato...</td>\n",
       "      <td>0</td>\n",
       "      <td>-0.3182</td>\n",
       "      <td>0.000000</td>\n",
       "      <td>0.999921</td>\n",
       "      <td>0.039964</td>\n",
       "      <td>-0.472788</td>\n",
       "      <td>0.487248</td>\n",
       "      <td>-1</td>\n",
       "      <td>-1</td>\n",
       "      <td>1</td>\n",
       "      <td>-1</td>\n",
       "      <td>-1</td>\n",
       "      <td>-1</td>\n",
       "    </tr>\n",
       "  </tbody>\n",
       "</table>\n",
       "</div>"
      ],
      "text/plain": [
       "         date                                               news  \\\n",
       "0  2022-01-25  Ripple announces stock buyback, nabs $15 billi...   \n",
       "1  2022-01-25  IMF directors urge El Salvador to remove Bitco...   \n",
       "2  2022-01-25  Dragonfly Capital is raising $500 million for ...   \n",
       "3  2022-01-25  Rick and Morty co-creator collaborates with Pa...   \n",
       "4  2022-01-25                 How fintech SPACs lost their shine   \n",
       "\n",
       "   final_manual_labelling                                          text_span  \\\n",
       "0                       1  {annotator1_id:22;annotator1_label:1; annotato...   \n",
       "1                      -1  {annotator1_id:16;annotator1_label:-1; annotat...   \n",
       "2                       1  {annotator1_id:45;annotator1_label:1; annotato...   \n",
       "3                       0  {annotator1_id:32;annotator1_label:0; annotato...   \n",
       "4                       0  {annotator1_id:48;annotator1_label:0; annotato...   \n",
       "\n",
       "   type_abnormal_return_fama_frech   vader  textblob     flair  \\\n",
       "0                                0  0.0000  0.000000  0.875877   \n",
       "1                                0  0.1280  0.200000  0.998796   \n",
       "2                                0  0.0000  0.136364  0.984027   \n",
       "3                                0  0.0000  0.000000  0.996666   \n",
       "4                                0 -0.3182  0.000000  0.999921   \n",
       "\n",
       "   finbert_positive  finbert_negative  finbert_neutral  vader_class  \\\n",
       "0          0.098288         -0.020569         0.881142            0   \n",
       "1          0.047823         -0.162971         0.789206            1   \n",
       "2          0.156997         -0.008097         0.834906            0   \n",
       "3          0.055608         -0.015489         0.928903            0   \n",
       "4          0.039964         -0.472788         0.487248           -1   \n",
       "\n",
       "   textblob_class  flair_class  finbert_positive_class  \\\n",
       "0              -1           -1                       1   \n",
       "1               1            1                      -1   \n",
       "2               1            1                       1   \n",
       "3              -1            1                       0   \n",
       "4              -1            1                      -1   \n",
       "\n",
       "   finbert_negative_class  finbert_neutral_class  \n",
       "0                       0                      1  \n",
       "1                      -1                      1  \n",
       "2                       1                      1  \n",
       "3                       0                      1  \n",
       "4                      -1                     -1  "
      ]
     },
     "execution_count": 5,
     "metadata": {},
     "output_type": "execute_result"
    }
   ],
   "source": [
    "df.head()"
   ]
  },
  {
   "cell_type": "code",
   "execution_count": 6,
   "id": "9db3a36d",
   "metadata": {},
   "outputs": [],
   "source": [
    "#We ae going to use the reduce manual_labeled df for training our finBERT model:\n",
    "input_df = df[['date','news','final_manual_labelling','text_span']]"
   ]
  },
  {
   "cell_type": "markdown",
   "id": "c49f7d3a",
   "metadata": {},
   "source": [
    "## FinBERT Sentiment Analysis\n",
    "ref: https://wandb.ai/ivangoncharov/FinBERT_Sentiment_Analysis_Project/reports/Financial-Sentiment-Analysis-on-Stock-Market-Headlines-With-FinBERT-Hugging-Face--VmlldzoxMDQ4NjM0\n",
    "\n",
    "HuggingFace makes it really easy for us to try out different NLP models. We can find the FinBERT model on the HuggingFace model hub (https://huggingface.co/ProsusAI/finbert) & even run a test inference using a little text box right on their website (https://huggingface.co/ProsusAI/finbert)! "
   ]
  },
  {
   "cell_type": "markdown",
   "id": "8e1e5314",
   "metadata": {},
   "source": [
    "#### Using Finbert as it is, checking the output "
   ]
  },
  {
   "cell_type": "code",
   "execution_count": 7,
   "id": "86a25279",
   "metadata": {},
   "outputs": [],
   "source": [
    "#!pip install transformers"
   ]
  },
  {
   "cell_type": "code",
   "execution_count": 8,
   "id": "3cfb058e",
   "metadata": {},
   "outputs": [],
   "source": [
    "import torch\n",
    "from transformers import AutoTokenizer, AutoModelForSequenceClassification"
   ]
  },
  {
   "cell_type": "code",
   "execution_count": 9,
   "id": "986c9518",
   "metadata": {},
   "outputs": [],
   "source": [
    "tokenizer = AutoTokenizer.from_pretrained(\"ProsusAI/finbert\")\n",
    "model = AutoModelForSequenceClassification.from_pretrained(\"ProsusAI/finbert\")"
   ]
  },
  {
   "cell_type": "code",
   "execution_count": 10,
   "id": "fec37063",
   "metadata": {},
   "outputs": [],
   "source": [
    "def apply_finbert(x):\n",
    "    inputs = tokenizer([x], padding = True, truncation = True, return_tensors='pt')\n",
    "    outputs = model(**inputs)\n",
    "    predictions = torch.nn.functional.softmax(outputs.logits, dim=1) \n",
    "    return predictions[:, 0].tolist()[0], predictions[:, 1].tolist()[0], predictions[:, 2].tolist()[0]"
   ]
  },
  {
   "cell_type": "code",
   "execution_count": 11,
   "id": "d9242c6e",
   "metadata": {},
   "outputs": [],
   "source": [
    "input_df[['Positive','Negative','Neutral']] = (input_df['news'].apply(apply_finbert)).apply(pd.Series)"
   ]
  },
  {
   "cell_type": "code",
   "execution_count": 12,
   "id": "cddc7358",
   "metadata": {},
   "outputs": [
    {
     "data": {
      "text/html": [
       "<div>\n",
       "<style scoped>\n",
       "    .dataframe tbody tr th:only-of-type {\n",
       "        vertical-align: middle;\n",
       "    }\n",
       "\n",
       "    .dataframe tbody tr th {\n",
       "        vertical-align: top;\n",
       "    }\n",
       "\n",
       "    .dataframe thead th {\n",
       "        text-align: right;\n",
       "    }\n",
       "</style>\n",
       "<table border=\"1\" class=\"dataframe\">\n",
       "  <thead>\n",
       "    <tr style=\"text-align: right;\">\n",
       "      <th></th>\n",
       "      <th>date</th>\n",
       "      <th>news</th>\n",
       "      <th>final_manual_labelling</th>\n",
       "      <th>text_span</th>\n",
       "      <th>Positive</th>\n",
       "      <th>Negative</th>\n",
       "      <th>Neutral</th>\n",
       "    </tr>\n",
       "  </thead>\n",
       "  <tbody>\n",
       "    <tr>\n",
       "      <th>0</th>\n",
       "      <td>2022-01-25</td>\n",
       "      <td>Ripple announces stock buyback, nabs $15 billi...</td>\n",
       "      <td>1</td>\n",
       "      <td>{annotator1_id:22;annotator1_label:1; annotato...</td>\n",
       "      <td>0.098288</td>\n",
       "      <td>0.020569</td>\n",
       "      <td>0.881142</td>\n",
       "    </tr>\n",
       "    <tr>\n",
       "      <th>1</th>\n",
       "      <td>2022-01-25</td>\n",
       "      <td>IMF directors urge El Salvador to remove Bitco...</td>\n",
       "      <td>-1</td>\n",
       "      <td>{annotator1_id:16;annotator1_label:-1; annotat...</td>\n",
       "      <td>0.047823</td>\n",
       "      <td>0.162971</td>\n",
       "      <td>0.789207</td>\n",
       "    </tr>\n",
       "    <tr>\n",
       "      <th>2</th>\n",
       "      <td>2022-01-25</td>\n",
       "      <td>Dragonfly Capital is raising $500 million for ...</td>\n",
       "      <td>1</td>\n",
       "      <td>{annotator1_id:45;annotator1_label:1; annotato...</td>\n",
       "      <td>0.156997</td>\n",
       "      <td>0.008097</td>\n",
       "      <td>0.834906</td>\n",
       "    </tr>\n",
       "    <tr>\n",
       "      <th>3</th>\n",
       "      <td>2022-01-25</td>\n",
       "      <td>Rick and Morty co-creator collaborates with Pa...</td>\n",
       "      <td>0</td>\n",
       "      <td>{annotator1_id:32;annotator1_label:0; annotato...</td>\n",
       "      <td>0.055608</td>\n",
       "      <td>0.015489</td>\n",
       "      <td>0.928903</td>\n",
       "    </tr>\n",
       "    <tr>\n",
       "      <th>4</th>\n",
       "      <td>2022-01-25</td>\n",
       "      <td>How fintech SPACs lost their shine</td>\n",
       "      <td>0</td>\n",
       "      <td>{annotator1_id:48;annotator1_label:0; annotato...</td>\n",
       "      <td>0.039964</td>\n",
       "      <td>0.472788</td>\n",
       "      <td>0.487248</td>\n",
       "    </tr>\n",
       "    <tr>\n",
       "      <th>...</th>\n",
       "      <td>...</td>\n",
       "      <td>...</td>\n",
       "      <td>...</td>\n",
       "      <td>...</td>\n",
       "      <td>...</td>\n",
       "      <td>...</td>\n",
       "      <td>...</td>\n",
       "    </tr>\n",
       "    <tr>\n",
       "      <th>2678</th>\n",
       "      <td>2020-05-01</td>\n",
       "      <td>Gambling for a good cause  CryptoSlots donate...</td>\n",
       "      <td>1</td>\n",
       "      <td>{annotator1_id:80;annotator1_label:1; annotato...</td>\n",
       "      <td>0.178831</td>\n",
       "      <td>0.008580</td>\n",
       "      <td>0.812589</td>\n",
       "    </tr>\n",
       "    <tr>\n",
       "      <th>2679</th>\n",
       "      <td>2020-04-18</td>\n",
       "      <td>Litecoin, The Chinese Alternative to Bitcoin</td>\n",
       "      <td>0</td>\n",
       "      <td>{annotator1_id:10;annotator1_label:0; annotato...</td>\n",
       "      <td>0.105272</td>\n",
       "      <td>0.009314</td>\n",
       "      <td>0.885414</td>\n",
       "    </tr>\n",
       "    <tr>\n",
       "      <th>2680</th>\n",
       "      <td>2020-04-10</td>\n",
       "      <td>Do You Know What is Happening to Money?</td>\n",
       "      <td>0</td>\n",
       "      <td>{annotator1_id:32;annotator1_label:0; annotato...</td>\n",
       "      <td>0.027453</td>\n",
       "      <td>0.304318</td>\n",
       "      <td>0.668229</td>\n",
       "    </tr>\n",
       "    <tr>\n",
       "      <th>2681</th>\n",
       "      <td>2018-07-30</td>\n",
       "      <td>Download CoinMarketCal app on App Store</td>\n",
       "      <td>0</td>\n",
       "      <td>{annotator1_id:33;annotator1_label:0; annotato...</td>\n",
       "      <td>0.046135</td>\n",
       "      <td>0.015244</td>\n",
       "      <td>0.938621</td>\n",
       "    </tr>\n",
       "    <tr>\n",
       "      <th>2682</th>\n",
       "      <td>2018-07-30</td>\n",
       "      <td>Download CoinMarketCal app on Google Play</td>\n",
       "      <td>0</td>\n",
       "      <td>{annotator1_id:47;annotator1_label:0; annotato...</td>\n",
       "      <td>0.042141</td>\n",
       "      <td>0.017657</td>\n",
       "      <td>0.940202</td>\n",
       "    </tr>\n",
       "  </tbody>\n",
       "</table>\n",
       "<p>2683 rows × 7 columns</p>\n",
       "</div>"
      ],
      "text/plain": [
       "            date                                               news  \\\n",
       "0     2022-01-25  Ripple announces stock buyback, nabs $15 billi...   \n",
       "1     2022-01-25  IMF directors urge El Salvador to remove Bitco...   \n",
       "2     2022-01-25  Dragonfly Capital is raising $500 million for ...   \n",
       "3     2022-01-25  Rick and Morty co-creator collaborates with Pa...   \n",
       "4     2022-01-25                 How fintech SPACs lost their shine   \n",
       "...          ...                                                ...   \n",
       "2678  2020-05-01  Gambling for a good cause  CryptoSlots donate...   \n",
       "2679  2020-04-18       Litecoin, The Chinese Alternative to Bitcoin   \n",
       "2680  2020-04-10            Do You Know What is Happening to Money?   \n",
       "2681  2018-07-30            Download CoinMarketCal app on App Store   \n",
       "2682  2018-07-30          Download CoinMarketCal app on Google Play   \n",
       "\n",
       "      final_manual_labelling  \\\n",
       "0                          1   \n",
       "1                         -1   \n",
       "2                          1   \n",
       "3                          0   \n",
       "4                          0   \n",
       "...                      ...   \n",
       "2678                       1   \n",
       "2679                       0   \n",
       "2680                       0   \n",
       "2681                       0   \n",
       "2682                       0   \n",
       "\n",
       "                                              text_span  Positive  Negative  \\\n",
       "0     {annotator1_id:22;annotator1_label:1; annotato...  0.098288  0.020569   \n",
       "1     {annotator1_id:16;annotator1_label:-1; annotat...  0.047823  0.162971   \n",
       "2     {annotator1_id:45;annotator1_label:1; annotato...  0.156997  0.008097   \n",
       "3     {annotator1_id:32;annotator1_label:0; annotato...  0.055608  0.015489   \n",
       "4     {annotator1_id:48;annotator1_label:0; annotato...  0.039964  0.472788   \n",
       "...                                                 ...       ...       ...   \n",
       "2678  {annotator1_id:80;annotator1_label:1; annotato...  0.178831  0.008580   \n",
       "2679  {annotator1_id:10;annotator1_label:0; annotato...  0.105272  0.009314   \n",
       "2680  {annotator1_id:32;annotator1_label:0; annotato...  0.027453  0.304318   \n",
       "2681  {annotator1_id:33;annotator1_label:0; annotato...  0.046135  0.015244   \n",
       "2682  {annotator1_id:47;annotator1_label:0; annotato...  0.042141  0.017657   \n",
       "\n",
       "       Neutral  \n",
       "0     0.881142  \n",
       "1     0.789207  \n",
       "2     0.834906  \n",
       "3     0.928903  \n",
       "4     0.487248  \n",
       "...        ...  \n",
       "2678  0.812589  \n",
       "2679  0.885414  \n",
       "2680  0.668229  \n",
       "2681  0.938621  \n",
       "2682  0.940202  \n",
       "\n",
       "[2683 rows x 7 columns]"
      ]
     },
     "execution_count": 12,
     "metadata": {},
     "output_type": "execute_result"
    }
   ],
   "source": [
    "input_df"
   ]
  },
  {
   "cell_type": "code",
   "execution_count": 13,
   "id": "4a98c93b",
   "metadata": {},
   "outputs": [
    {
     "data": {
      "text/plain": [
       " 1    419\n",
       " 0     95\n",
       "-1     11\n",
       "Name: final_manual_labelling, dtype: int64"
      ]
     },
     "execution_count": 13,
     "metadata": {},
     "output_type": "execute_result"
    }
   ],
   "source": [
    "input_df[input_df['Positive']>0.5]['final_manual_labelling'].value_counts()"
   ]
  },
  {
   "cell_type": "code",
   "execution_count": 14,
   "id": "667d15b2",
   "metadata": {},
   "outputs": [
    {
     "data": {
      "text/plain": [
       "-1    202\n",
       " 0     73\n",
       " 1     32\n",
       "Name: final_manual_labelling, dtype: int64"
      ]
     },
     "execution_count": 14,
     "metadata": {},
     "output_type": "execute_result"
    }
   ],
   "source": [
    "input_df[input_df['Negative']>0.5]['final_manual_labelling'].value_counts()"
   ]
  },
  {
   "cell_type": "code",
   "execution_count": 15,
   "id": "42ac9e3f",
   "metadata": {},
   "outputs": [
    {
     "data": {
      "text/plain": [
       " 1    901\n",
       " 0    743\n",
       "-1    172\n",
       "Name: final_manual_labelling, dtype: int64"
      ]
     },
     "execution_count": 15,
     "metadata": {},
     "output_type": "execute_result"
    }
   ],
   "source": [
    "input_df[input_df['Neutral']>0.5]['final_manual_labelling'].value_counts()"
   ]
  },
  {
   "cell_type": "code",
   "execution_count": 16,
   "id": "2419cc62",
   "metadata": {},
   "outputs": [],
   "source": [
    "def calculate_result(df):\n",
    "    largo = df.shape[0]\n",
    "    result = []\n",
    "    for i in range(0,largo):\n",
    "        if df.iloc[i]['Positive']>0.5:\n",
    "            result.append(1)\n",
    "        elif df.iloc[i]['Negative']>0.5:\n",
    "            result.append(-1)\n",
    "        elif df.iloc[i]['Neutral']>0.5:\n",
    "            result.append(0)\n",
    "        elif df.iloc[i]['Neutral']>df.iloc[i]['Positive'] and df.iloc[i]['Neutral']>df.iloc[i]['Negative']:\n",
    "            result.append(0)\n",
    "        elif df.iloc[i]['Positive']>df.iloc[i]['Neutral'] and df.iloc[i]['Positive']>df.iloc[i]['Negative']:\n",
    "            result.append(1)\n",
    "        else:\n",
    "            result.append(-1)\n",
    "\n",
    "    df['result']=result\n",
    "    return df"
   ]
  },
  {
   "cell_type": "code",
   "execution_count": 17,
   "id": "9cdfbad6",
   "metadata": {},
   "outputs": [],
   "source": [
    "non_trained_result = calculate_result(input_df)"
   ]
  },
  {
   "cell_type": "code",
   "execution_count": 18,
   "id": "e6615dd1",
   "metadata": {},
   "outputs": [
    {
     "data": {
      "text/html": [
       "<div>\n",
       "<style scoped>\n",
       "    .dataframe tbody tr th:only-of-type {\n",
       "        vertical-align: middle;\n",
       "    }\n",
       "\n",
       "    .dataframe tbody tr th {\n",
       "        vertical-align: top;\n",
       "    }\n",
       "\n",
       "    .dataframe thead th {\n",
       "        text-align: right;\n",
       "    }\n",
       "</style>\n",
       "<table border=\"1\" class=\"dataframe\">\n",
       "  <thead>\n",
       "    <tr style=\"text-align: right;\">\n",
       "      <th></th>\n",
       "      <th>date</th>\n",
       "      <th>news</th>\n",
       "      <th>final_manual_labelling</th>\n",
       "      <th>text_span</th>\n",
       "      <th>Positive</th>\n",
       "      <th>Negative</th>\n",
       "      <th>Neutral</th>\n",
       "      <th>result</th>\n",
       "    </tr>\n",
       "  </thead>\n",
       "  <tbody>\n",
       "    <tr>\n",
       "      <th>0</th>\n",
       "      <td>2022-01-25</td>\n",
       "      <td>Ripple announces stock buyback, nabs $15 billi...</td>\n",
       "      <td>1</td>\n",
       "      <td>{annotator1_id:22;annotator1_label:1; annotato...</td>\n",
       "      <td>0.098288</td>\n",
       "      <td>0.020569</td>\n",
       "      <td>0.881142</td>\n",
       "      <td>0</td>\n",
       "    </tr>\n",
       "    <tr>\n",
       "      <th>1</th>\n",
       "      <td>2022-01-25</td>\n",
       "      <td>IMF directors urge El Salvador to remove Bitco...</td>\n",
       "      <td>-1</td>\n",
       "      <td>{annotator1_id:16;annotator1_label:-1; annotat...</td>\n",
       "      <td>0.047823</td>\n",
       "      <td>0.162971</td>\n",
       "      <td>0.789207</td>\n",
       "      <td>0</td>\n",
       "    </tr>\n",
       "    <tr>\n",
       "      <th>2</th>\n",
       "      <td>2022-01-25</td>\n",
       "      <td>Dragonfly Capital is raising $500 million for ...</td>\n",
       "      <td>1</td>\n",
       "      <td>{annotator1_id:45;annotator1_label:1; annotato...</td>\n",
       "      <td>0.156997</td>\n",
       "      <td>0.008097</td>\n",
       "      <td>0.834906</td>\n",
       "      <td>0</td>\n",
       "    </tr>\n",
       "    <tr>\n",
       "      <th>3</th>\n",
       "      <td>2022-01-25</td>\n",
       "      <td>Rick and Morty co-creator collaborates with Pa...</td>\n",
       "      <td>0</td>\n",
       "      <td>{annotator1_id:32;annotator1_label:0; annotato...</td>\n",
       "      <td>0.055608</td>\n",
       "      <td>0.015489</td>\n",
       "      <td>0.928903</td>\n",
       "      <td>0</td>\n",
       "    </tr>\n",
       "    <tr>\n",
       "      <th>4</th>\n",
       "      <td>2022-01-25</td>\n",
       "      <td>How fintech SPACs lost their shine</td>\n",
       "      <td>0</td>\n",
       "      <td>{annotator1_id:48;annotator1_label:0; annotato...</td>\n",
       "      <td>0.039964</td>\n",
       "      <td>0.472788</td>\n",
       "      <td>0.487248</td>\n",
       "      <td>0</td>\n",
       "    </tr>\n",
       "    <tr>\n",
       "      <th>5</th>\n",
       "      <td>2022-01-25</td>\n",
       "      <td>Multichain vulnerability put a billion dollars...</td>\n",
       "      <td>-1</td>\n",
       "      <td>{annotator1_id:77;annotator1_label:-1; annotat...</td>\n",
       "      <td>0.101357</td>\n",
       "      <td>0.194968</td>\n",
       "      <td>0.703675</td>\n",
       "      <td>0</td>\n",
       "    </tr>\n",
       "    <tr>\n",
       "      <th>6</th>\n",
       "      <td>2022-01-25</td>\n",
       "      <td>YouTube wants to help content creators capital...</td>\n",
       "      <td>0</td>\n",
       "      <td>{annotator1_id:52;annotator1_label:0; annotato...</td>\n",
       "      <td>0.475624</td>\n",
       "      <td>0.007213</td>\n",
       "      <td>0.517163</td>\n",
       "      <td>0</td>\n",
       "    </tr>\n",
       "    <tr>\n",
       "      <th>7</th>\n",
       "      <td>2022-01-25</td>\n",
       "      <td>OpenSea is reimbursing users who sold NFTs bel...</td>\n",
       "      <td>0</td>\n",
       "      <td>{annotator1_id:10;annotator1_label:0; annotato...</td>\n",
       "      <td>0.011183</td>\n",
       "      <td>0.952579</td>\n",
       "      <td>0.036238</td>\n",
       "      <td>-1</td>\n",
       "    </tr>\n",
       "    <tr>\n",
       "      <th>8</th>\n",
       "      <td>2022-01-25</td>\n",
       "      <td>GoodDollar Launches Key Protocol Upgrade to Ex...</td>\n",
       "      <td>1</td>\n",
       "      <td>{annotator1_id:22;annotator1_label:1; annotato...</td>\n",
       "      <td>0.853262</td>\n",
       "      <td>0.009177</td>\n",
       "      <td>0.137562</td>\n",
       "      <td>1</td>\n",
       "    </tr>\n",
       "    <tr>\n",
       "      <th>9</th>\n",
       "      <td>2022-01-25</td>\n",
       "      <td>BCB Group raises a $60 million Series A round ...</td>\n",
       "      <td>1</td>\n",
       "      <td>{annotator1_id:43;annotator1_label:1; annotato...</td>\n",
       "      <td>0.218266</td>\n",
       "      <td>0.010609</td>\n",
       "      <td>0.771125</td>\n",
       "      <td>0</td>\n",
       "    </tr>\n",
       "  </tbody>\n",
       "</table>\n",
       "</div>"
      ],
      "text/plain": [
       "         date                                               news  \\\n",
       "0  2022-01-25  Ripple announces stock buyback, nabs $15 billi...   \n",
       "1  2022-01-25  IMF directors urge El Salvador to remove Bitco...   \n",
       "2  2022-01-25  Dragonfly Capital is raising $500 million for ...   \n",
       "3  2022-01-25  Rick and Morty co-creator collaborates with Pa...   \n",
       "4  2022-01-25                 How fintech SPACs lost their shine   \n",
       "5  2022-01-25  Multichain vulnerability put a billion dollars...   \n",
       "6  2022-01-25  YouTube wants to help content creators capital...   \n",
       "7  2022-01-25  OpenSea is reimbursing users who sold NFTs bel...   \n",
       "8  2022-01-25  GoodDollar Launches Key Protocol Upgrade to Ex...   \n",
       "9  2022-01-25  BCB Group raises a $60 million Series A round ...   \n",
       "\n",
       "   final_manual_labelling                                          text_span  \\\n",
       "0                       1  {annotator1_id:22;annotator1_label:1; annotato...   \n",
       "1                      -1  {annotator1_id:16;annotator1_label:-1; annotat...   \n",
       "2                       1  {annotator1_id:45;annotator1_label:1; annotato...   \n",
       "3                       0  {annotator1_id:32;annotator1_label:0; annotato...   \n",
       "4                       0  {annotator1_id:48;annotator1_label:0; annotato...   \n",
       "5                      -1  {annotator1_id:77;annotator1_label:-1; annotat...   \n",
       "6                       0  {annotator1_id:52;annotator1_label:0; annotato...   \n",
       "7                       0  {annotator1_id:10;annotator1_label:0; annotato...   \n",
       "8                       1  {annotator1_id:22;annotator1_label:1; annotato...   \n",
       "9                       1  {annotator1_id:43;annotator1_label:1; annotato...   \n",
       "\n",
       "   Positive  Negative   Neutral  result  \n",
       "0  0.098288  0.020569  0.881142       0  \n",
       "1  0.047823  0.162971  0.789207       0  \n",
       "2  0.156997  0.008097  0.834906       0  \n",
       "3  0.055608  0.015489  0.928903       0  \n",
       "4  0.039964  0.472788  0.487248       0  \n",
       "5  0.101357  0.194968  0.703675       0  \n",
       "6  0.475624  0.007213  0.517163       0  \n",
       "7  0.011183  0.952579  0.036238      -1  \n",
       "8  0.853262  0.009177  0.137562       1  \n",
       "9  0.218266  0.010609  0.771125       0  "
      ]
     },
     "execution_count": 18,
     "metadata": {},
     "output_type": "execute_result"
    }
   ],
   "source": [
    "non_trained_result.head(10)"
   ]
  },
  {
   "cell_type": "code",
   "execution_count": 19,
   "id": "98bec8fe",
   "metadata": {},
   "outputs": [
    {
     "data": {
      "text/plain": [
       "0.5143496086470369"
      ]
     },
     "execution_count": 19,
     "metadata": {},
     "output_type": "execute_result"
    }
   ],
   "source": [
    "#The accuracy with the original FinBERT:\n",
    "accuracy_score(y_true=non_trained_result['final_manual_labelling'], y_pred=non_trained_result['result'])"
   ]
  },
  {
   "cell_type": "markdown",
   "id": "dc4dd1a0",
   "metadata": {},
   "source": [
    "## Retraining Finbert"
   ]
  },
  {
   "cell_type": "code",
   "execution_count": 20,
   "id": "32ccc227",
   "metadata": {},
   "outputs": [],
   "source": [
    "df = input_df[['news','final_manual_labelling']]"
   ]
  },
  {
   "cell_type": "code",
   "execution_count": 21,
   "id": "5d26cd78",
   "metadata": {},
   "outputs": [
    {
     "data": {
      "text/html": [
       "<div>\n",
       "<style scoped>\n",
       "    .dataframe tbody tr th:only-of-type {\n",
       "        vertical-align: middle;\n",
       "    }\n",
       "\n",
       "    .dataframe tbody tr th {\n",
       "        vertical-align: top;\n",
       "    }\n",
       "\n",
       "    .dataframe thead th {\n",
       "        text-align: right;\n",
       "    }\n",
       "</style>\n",
       "<table border=\"1\" class=\"dataframe\">\n",
       "  <thead>\n",
       "    <tr style=\"text-align: right;\">\n",
       "      <th></th>\n",
       "      <th>news</th>\n",
       "      <th>final_manual_labelling</th>\n",
       "    </tr>\n",
       "  </thead>\n",
       "  <tbody>\n",
       "    <tr>\n",
       "      <th>0</th>\n",
       "      <td>Ripple announces stock buyback, nabs $15 billi...</td>\n",
       "      <td>1</td>\n",
       "    </tr>\n",
       "    <tr>\n",
       "      <th>1</th>\n",
       "      <td>IMF directors urge El Salvador to remove Bitco...</td>\n",
       "      <td>-1</td>\n",
       "    </tr>\n",
       "    <tr>\n",
       "      <th>2</th>\n",
       "      <td>Dragonfly Capital is raising $500 million for ...</td>\n",
       "      <td>1</td>\n",
       "    </tr>\n",
       "    <tr>\n",
       "      <th>3</th>\n",
       "      <td>Rick and Morty co-creator collaborates with Pa...</td>\n",
       "      <td>0</td>\n",
       "    </tr>\n",
       "    <tr>\n",
       "      <th>4</th>\n",
       "      <td>How fintech SPACs lost their shine</td>\n",
       "      <td>0</td>\n",
       "    </tr>\n",
       "  </tbody>\n",
       "</table>\n",
       "</div>"
      ],
      "text/plain": [
       "                                                news  final_manual_labelling\n",
       "0  Ripple announces stock buyback, nabs $15 billi...                       1\n",
       "1  IMF directors urge El Salvador to remove Bitco...                      -1\n",
       "2  Dragonfly Capital is raising $500 million for ...                       1\n",
       "3  Rick and Morty co-creator collaborates with Pa...                       0\n",
       "4                 How fintech SPACs lost their shine                       0"
      ]
     },
     "execution_count": 21,
     "metadata": {},
     "output_type": "execute_result"
    }
   ],
   "source": [
    "df.head()"
   ]
  },
  {
   "cell_type": "code",
   "execution_count": 22,
   "id": "dd2df7b4",
   "metadata": {},
   "outputs": [
    {
     "data": {
      "text/html": [
       "<div>\n",
       "<style scoped>\n",
       "    .dataframe tbody tr th:only-of-type {\n",
       "        vertical-align: middle;\n",
       "    }\n",
       "\n",
       "    .dataframe tbody tr th {\n",
       "        vertical-align: top;\n",
       "    }\n",
       "\n",
       "    .dataframe thead th {\n",
       "        text-align: right;\n",
       "    }\n",
       "</style>\n",
       "<table border=\"1\" class=\"dataframe\">\n",
       "  <thead>\n",
       "    <tr style=\"text-align: right;\">\n",
       "      <th></th>\n",
       "      <th>news</th>\n",
       "      <th>labels</th>\n",
       "    </tr>\n",
       "  </thead>\n",
       "  <tbody>\n",
       "    <tr>\n",
       "      <th>0</th>\n",
       "      <td>Ripple announces stock buyback, nabs $15 billi...</td>\n",
       "      <td>1</td>\n",
       "    </tr>\n",
       "    <tr>\n",
       "      <th>1</th>\n",
       "      <td>IMF directors urge El Salvador to remove Bitco...</td>\n",
       "      <td>-1</td>\n",
       "    </tr>\n",
       "    <tr>\n",
       "      <th>2</th>\n",
       "      <td>Dragonfly Capital is raising $500 million for ...</td>\n",
       "      <td>1</td>\n",
       "    </tr>\n",
       "    <tr>\n",
       "      <th>3</th>\n",
       "      <td>Rick and Morty co-creator collaborates with Pa...</td>\n",
       "      <td>0</td>\n",
       "    </tr>\n",
       "    <tr>\n",
       "      <th>4</th>\n",
       "      <td>How fintech SPACs lost their shine</td>\n",
       "      <td>0</td>\n",
       "    </tr>\n",
       "  </tbody>\n",
       "</table>\n",
       "</div>"
      ],
      "text/plain": [
       "                                                news  labels\n",
       "0  Ripple announces stock buyback, nabs $15 billi...       1\n",
       "1  IMF directors urge El Salvador to remove Bitco...      -1\n",
       "2  Dragonfly Capital is raising $500 million for ...       1\n",
       "3  Rick and Morty co-creator collaborates with Pa...       0\n",
       "4                 How fintech SPACs lost their shine       0"
      ]
     },
     "execution_count": 22,
     "metadata": {},
     "output_type": "execute_result"
    }
   ],
   "source": [
    "df.columns = ['news','labels']\n",
    "df.head()"
   ]
  },
  {
   "cell_type": "code",
   "execution_count": 23,
   "id": "c4e5f25a",
   "metadata": {},
   "outputs": [],
   "source": [
    "#Giving a +1 offset to the target variable:\n",
    "df['labels'].replace({1:2},inplace=True)\n",
    "df['labels'].replace({0:1},inplace=True)\n",
    "df['labels'].replace({-1:0},inplace=True)"
   ]
  },
  {
   "cell_type": "code",
   "execution_count": 24,
   "id": "007c17ee",
   "metadata": {},
   "outputs": [
    {
     "data": {
      "text/plain": [
       "2    1366\n",
       "1     921\n",
       "0     396\n",
       "Name: labels, dtype: int64"
      ]
     },
     "execution_count": 24,
     "metadata": {},
     "output_type": "execute_result"
    }
   ],
   "source": [
    "df['labels'].value_counts()"
   ]
  },
  {
   "cell_type": "code",
   "execution_count": 25,
   "id": "5100faa8",
   "metadata": {},
   "outputs": [],
   "source": [
    "from sklearn.model_selection import train_test_split\n",
    "from sklearn.metrics import accuracy_score, recall_score, precision_score, f1_score\n",
    "import torch\n",
    "from transformers import TrainingArguments, Trainer\n",
    "from transformers import BertTokenizer, BertForSequenceClassification\n",
    "from transformers import EarlyStoppingCallback\n",
    "import numpy as np"
   ]
  },
  {
   "cell_type": "code",
   "execution_count": 26,
   "id": "ce029b36",
   "metadata": {},
   "outputs": [],
   "source": [
    "# Preprocess data\n",
    "X = list(df[\"news\"])\n",
    "y = list(df[\"labels\"])\n",
    "X_train, X_val, y_train, y_val = train_test_split(X, y, test_size=0.2)\n",
    "X_val_2, X_test, y_val_2, y_test = train_test_split(X_val, y_val, test_size=0.2)\n",
    "X_train_tokenized = tokenizer(X_train, padding=True, truncation=True, max_length=512)\n",
    "X_val_tokenized = tokenizer(X_val_2, padding=True, truncation=True, max_length=512)\n",
    "X_test_tokenized = tokenizer(X_test, padding=True, truncation=True, max_length=512)"
   ]
  },
  {
   "cell_type": "code",
   "execution_count": 27,
   "id": "806dba17",
   "metadata": {},
   "outputs": [],
   "source": [
    "# Create torch dataset\n",
    "class Dataset(torch.utils.data.Dataset):\n",
    "    def __init__(self, encodings, labels=None):\n",
    "        self.encodings = encodings\n",
    "        self.labels = labels\n",
    "\n",
    "    def __getitem__(self, idx):\n",
    "        item = {key: torch.tensor(val[idx]) for key, val in self.encodings.items()}\n",
    "        if self.labels:\n",
    "            item[\"labels\"] = torch.tensor(self.labels[idx])\n",
    "        return item\n",
    "\n",
    "    def __len__(self):\n",
    "        return len(self.encodings[\"input_ids\"])"
   ]
  },
  {
   "cell_type": "code",
   "execution_count": 28,
   "id": "dc3bd590",
   "metadata": {},
   "outputs": [],
   "source": [
    "train_dataset = Dataset(X_train_tokenized, y_train)\n",
    "val_dataset = Dataset(X_val_tokenized, y_val)"
   ]
  },
  {
   "cell_type": "code",
   "execution_count": 29,
   "id": "78d46824",
   "metadata": {},
   "outputs": [],
   "source": [
    "# Define Trainer parameters\n",
    "def compute_metrics(p):\n",
    "    pred, labels = p\n",
    "    pred = np.argmax(pred, axis=1)\n",
    "\n",
    "    accuracy = accuracy_score(y_true=labels, y_pred=pred)\n",
    "    #recall = recall_score(y_true=labels, y_pred=pred,'weighted')\n",
    "    #precision = precision_score(y_true=labels, y_pred=pred)\n",
    "    #f1 = f1_score(y_true=labels, y_pred=pred)\n",
    "    \n",
    "    return {\"accuracy\": accuracy}#, \"precision\": precision, \"recall\": recall, \"f1\": f1}"
   ]
  },
  {
   "cell_type": "code",
   "execution_count": 30,
   "id": "54ffb5b9",
   "metadata": {},
   "outputs": [],
   "source": [
    "# Define Trainer\n",
    "args = TrainingArguments(\n",
    "    output_dir=\"first_test\",\n",
    "    evaluation_strategy=\"steps\",\n",
    "    eval_steps=500,\n",
    "    per_device_train_batch_size=8,\n",
    "    per_device_eval_batch_size=8,\n",
    "    num_train_epochs=4,\n",
    "    seed=0,\n",
    "    load_best_model_at_end=True,\n",
    ")"
   ]
  },
  {
   "cell_type": "code",
   "execution_count": 31,
   "id": "3492de7c",
   "metadata": {},
   "outputs": [],
   "source": [
    "trainer = Trainer(\n",
    "    model=model,\n",
    "    args=args,\n",
    "    train_dataset=train_dataset,\n",
    "    eval_dataset=val_dataset,\n",
    "    compute_metrics=compute_metrics,\n",
    "    callbacks=[EarlyStoppingCallback(early_stopping_patience=3)],\n",
    ")"
   ]
  },
  {
   "cell_type": "code",
   "execution_count": 32,
   "id": "17fa7f3b",
   "metadata": {},
   "outputs": [
    {
     "name": "stderr",
     "output_type": "stream",
     "text": [
      "***** Running training *****\n",
      "  Num examples = 2146\n",
      "  Num Epochs = 4\n",
      "  Instantaneous batch size per device = 8\n",
      "  Total train batch size (w. parallel, distributed & accumulation) = 8\n",
      "  Gradient Accumulation steps = 1\n",
      "  Total optimization steps = 1076\n"
     ]
    },
    {
     "data": {
      "text/html": [
       "\n",
       "    <div>\n",
       "      \n",
       "      <progress value='1076' max='1076' style='width:300px; height:20px; vertical-align: middle;'></progress>\n",
       "      [1076/1076 1:06:45, Epoch 4/4]\n",
       "    </div>\n",
       "    <table border=\"1\" class=\"dataframe\">\n",
       "  <thead>\n",
       " <tr style=\"text-align: left;\">\n",
       "      <th>Step</th>\n",
       "      <th>Training Loss</th>\n",
       "      <th>Validation Loss</th>\n",
       "      <th>Accuracy</th>\n",
       "    </tr>\n",
       "  </thead>\n",
       "  <tbody>\n",
       "    <tr>\n",
       "      <td>500</td>\n",
       "      <td>0.680800</td>\n",
       "      <td>1.950375</td>\n",
       "      <td>0.431235</td>\n",
       "    </tr>\n",
       "    <tr>\n",
       "      <td>1000</td>\n",
       "      <td>0.272800</td>\n",
       "      <td>3.390586</td>\n",
       "      <td>0.379953</td>\n",
       "    </tr>\n",
       "  </tbody>\n",
       "</table><p>"
      ],
      "text/plain": [
       "<IPython.core.display.HTML object>"
      ]
     },
     "metadata": {},
     "output_type": "display_data"
    },
    {
     "name": "stderr",
     "output_type": "stream",
     "text": [
      "***** Running Evaluation *****\n",
      "  Num examples = 429\n",
      "  Batch size = 8\n",
      "Saving model checkpoint to first_test\\checkpoint-500\n",
      "Configuration saved in first_test\\checkpoint-500\\config.json\n",
      "Model weights saved in first_test\\checkpoint-500\\pytorch_model.bin\n",
      "***** Running Evaluation *****\n",
      "  Num examples = 429\n",
      "  Batch size = 8\n",
      "Saving model checkpoint to first_test\\checkpoint-1000\n",
      "Configuration saved in first_test\\checkpoint-1000\\config.json\n",
      "Model weights saved in first_test\\checkpoint-1000\\pytorch_model.bin\n",
      "\n",
      "\n",
      "Training completed. Do not forget to share your model on huggingface.co/models =)\n",
      "\n",
      "\n",
      "Loading best model from first_test\\checkpoint-500 (score: 1.9503753185272217).\n"
     ]
    },
    {
     "data": {
      "text/plain": [
       "TrainOutput(global_step=1076, training_loss=0.451753720031795, metrics={'train_runtime': 4009.9953, 'train_samples_per_second': 2.141, 'train_steps_per_second': 0.268, 'total_flos': 185272957552032.0, 'train_loss': 0.451753720031795, 'epoch': 4.0})"
      ]
     },
     "execution_count": 32,
     "metadata": {},
     "output_type": "execute_result"
    }
   ],
   "source": [
    "# Train pre-trained model\n",
    "trainer.train()"
   ]
  },
  {
   "cell_type": "code",
   "execution_count": 33,
   "id": "692e9009",
   "metadata": {},
   "outputs": [],
   "source": [
    "# ----- 3. Predicting -----#\n",
    "# Create torch dataset\n",
    "test_dataset = Dataset(X_test_tokenized, y_test)"
   ]
  },
  {
   "cell_type": "code",
   "execution_count": 34,
   "id": "b649a215",
   "metadata": {},
   "outputs": [
    {
     "name": "stderr",
     "output_type": "stream",
     "text": [
      "loading configuration file first_test/checkpoint-500\\config.json\n",
      "Model config BertConfig {\n",
      "  \"_name_or_path\": \"ProsusAI/finbert\",\n",
      "  \"architectures\": [\n",
      "    \"BertForSequenceClassification\"\n",
      "  ],\n",
      "  \"attention_probs_dropout_prob\": 0.1,\n",
      "  \"classifier_dropout\": null,\n",
      "  \"gradient_checkpointing\": false,\n",
      "  \"hidden_act\": \"gelu\",\n",
      "  \"hidden_dropout_prob\": 0.1,\n",
      "  \"hidden_size\": 768,\n",
      "  \"id2label\": {\n",
      "    \"0\": \"positive\",\n",
      "    \"1\": \"negative\",\n",
      "    \"2\": \"neutral\"\n",
      "  },\n",
      "  \"initializer_range\": 0.02,\n",
      "  \"intermediate_size\": 3072,\n",
      "  \"label2id\": {\n",
      "    \"negative\": 1,\n",
      "    \"neutral\": 2,\n",
      "    \"positive\": 0\n",
      "  },\n",
      "  \"layer_norm_eps\": 1e-12,\n",
      "  \"max_position_embeddings\": 512,\n",
      "  \"model_type\": \"bert\",\n",
      "  \"num_attention_heads\": 12,\n",
      "  \"num_hidden_layers\": 12,\n",
      "  \"pad_token_id\": 0,\n",
      "  \"position_embedding_type\": \"absolute\",\n",
      "  \"problem_type\": \"single_label_classification\",\n",
      "  \"torch_dtype\": \"float32\",\n",
      "  \"transformers_version\": \"4.20.0\",\n",
      "  \"type_vocab_size\": 2,\n",
      "  \"use_cache\": true,\n",
      "  \"vocab_size\": 30522\n",
      "}\n",
      "\n",
      "loading weights file first_test/checkpoint-500\\pytorch_model.bin\n",
      "All model checkpoint weights were used when initializing BertForSequenceClassification.\n",
      "\n",
      "All the weights of BertForSequenceClassification were initialized from the model checkpoint at first_test/checkpoint-500.\n",
      "If your task is similar to the task the model of the checkpoint was trained on, you can already use BertForSequenceClassification for predictions without further training.\n"
     ]
    }
   ],
   "source": [
    "# Load trained model\n",
    "model_path = \"first_test/checkpoint-500\"\n",
    "model = BertForSequenceClassification.from_pretrained(model_path, num_labels=3)"
   ]
  },
  {
   "cell_type": "code",
   "execution_count": 35,
   "id": "4350a44c",
   "metadata": {},
   "outputs": [
    {
     "name": "stderr",
     "output_type": "stream",
     "text": [
      "No `TrainingArguments` passed, using `output_dir=tmp_trainer`.\n",
      "PyTorch: setting up devices\n",
      "The default value for the training argument `--report_to` will change in v5 (from all installed integrations to none). In v5, you will need to use `--report_to all` to get the same behavior as now. You should start updating your code and make this info disappear :-).\n"
     ]
    }
   ],
   "source": [
    "# Define test trainer\n",
    "test_trainer = Trainer(model)"
   ]
  },
  {
   "cell_type": "code",
   "execution_count": 36,
   "id": "541327cf",
   "metadata": {},
   "outputs": [
    {
     "name": "stderr",
     "output_type": "stream",
     "text": [
      "***** Running Prediction *****\n",
      "  Num examples = 108\n",
      "  Batch size = 8\n"
     ]
    },
    {
     "data": {
      "text/html": [
       "\n",
       "    <div>\n",
       "      \n",
       "      <progress value='14' max='14' style='width:300px; height:20px; vertical-align: middle;'></progress>\n",
       "      [14/14 00:07]\n",
       "    </div>\n",
       "    "
      ],
      "text/plain": [
       "<IPython.core.display.HTML object>"
      ]
     },
     "metadata": {},
     "output_type": "display_data"
    }
   ],
   "source": [
    " #Make prediction\n",
    "raw_pred, _, _ = test_trainer.predict(test_dataset)"
   ]
  },
  {
   "cell_type": "code",
   "execution_count": 37,
   "id": "ed2e0631",
   "metadata": {},
   "outputs": [],
   "source": [
    "# Preprocess raw predictions\n",
    "y_pred = np.argmax(raw_pred, axis=1)"
   ]
  },
  {
   "cell_type": "code",
   "execution_count": 38,
   "id": "ffdb8207",
   "metadata": {},
   "outputs": [
    {
     "data": {
      "text/plain": [
       "0.6759259259259259"
      ]
     },
     "execution_count": 38,
     "metadata": {},
     "output_type": "execute_result"
    }
   ],
   "source": [
    "#The accuracy with the re-trained FinBERT:\n",
    "accuracy_score(y_true=y_test, y_pred=y_pred)"
   ]
  },
  {
   "cell_type": "code",
   "execution_count": 39,
   "id": "d5ae45c7",
   "metadata": {},
   "outputs": [],
   "source": [
    "#The accuracy of the original finbert:\n",
    "X_test_df = pd.DataFrame()\n",
    "X_test_df['news']=X_test\n",
    "X_test_df['labels']=y_test"
   ]
  },
  {
   "cell_type": "code",
   "execution_count": 40,
   "id": "b0d517b7",
   "metadata": {},
   "outputs": [
    {
     "data": {
      "text/html": [
       "<div>\n",
       "<style scoped>\n",
       "    .dataframe tbody tr th:only-of-type {\n",
       "        vertical-align: middle;\n",
       "    }\n",
       "\n",
       "    .dataframe tbody tr th {\n",
       "        vertical-align: top;\n",
       "    }\n",
       "\n",
       "    .dataframe thead th {\n",
       "        text-align: right;\n",
       "    }\n",
       "</style>\n",
       "<table border=\"1\" class=\"dataframe\">\n",
       "  <thead>\n",
       "    <tr style=\"text-align: right;\">\n",
       "      <th></th>\n",
       "      <th>news</th>\n",
       "      <th>labels</th>\n",
       "    </tr>\n",
       "  </thead>\n",
       "  <tbody>\n",
       "    <tr>\n",
       "      <th>0</th>\n",
       "      <td>DeFi platform Parsec launches with $1.25 milli...</td>\n",
       "      <td>2</td>\n",
       "    </tr>\n",
       "    <tr>\n",
       "      <th>1</th>\n",
       "      <td>Ontario securities regulator slams Binance aft...</td>\n",
       "      <td>0</td>\n",
       "    </tr>\n",
       "    <tr>\n",
       "      <th>2</th>\n",
       "      <td>CME to launch micro ether futures next month</td>\n",
       "      <td>2</td>\n",
       "    </tr>\n",
       "    <tr>\n",
       "      <th>3</th>\n",
       "      <td>Coinbase to offer secondary market for private...</td>\n",
       "      <td>2</td>\n",
       "    </tr>\n",
       "    <tr>\n",
       "      <th>4</th>\n",
       "      <td>Bank of France completes CBDC settlement exper...</td>\n",
       "      <td>1</td>\n",
       "    </tr>\n",
       "  </tbody>\n",
       "</table>\n",
       "</div>"
      ],
      "text/plain": [
       "                                                news  labels\n",
       "0  DeFi platform Parsec launches with $1.25 milli...       2\n",
       "1  Ontario securities regulator slams Binance aft...       0\n",
       "2       CME to launch micro ether futures next month       2\n",
       "3  Coinbase to offer secondary market for private...       2\n",
       "4  Bank of France completes CBDC settlement exper...       1"
      ]
     },
     "execution_count": 40,
     "metadata": {},
     "output_type": "execute_result"
    }
   ],
   "source": [
    "X_test_df.head()"
   ]
  },
  {
   "cell_type": "code",
   "execution_count": 41,
   "id": "d02bc7da",
   "metadata": {},
   "outputs": [
    {
     "data": {
      "text/plain": [
       "(108, 2)"
      ]
     },
     "execution_count": 41,
     "metadata": {},
     "output_type": "execute_result"
    }
   ],
   "source": [
    "X_test_df.shape"
   ]
  },
  {
   "cell_type": "code",
   "execution_count": 42,
   "id": "e6391588",
   "metadata": {},
   "outputs": [],
   "source": [
    "X_test_df['labels'].replace({0:-1},inplace=True)\n",
    "X_test_df['labels'].replace({1:0},inplace=True)\n",
    "X_test_df['labels'].replace({2:1},inplace=True)"
   ]
  },
  {
   "cell_type": "code",
   "execution_count": 43,
   "id": "a37ffe7e",
   "metadata": {},
   "outputs": [
    {
     "data": {
      "text/html": [
       "<div>\n",
       "<style scoped>\n",
       "    .dataframe tbody tr th:only-of-type {\n",
       "        vertical-align: middle;\n",
       "    }\n",
       "\n",
       "    .dataframe tbody tr th {\n",
       "        vertical-align: top;\n",
       "    }\n",
       "\n",
       "    .dataframe thead th {\n",
       "        text-align: right;\n",
       "    }\n",
       "</style>\n",
       "<table border=\"1\" class=\"dataframe\">\n",
       "  <thead>\n",
       "    <tr style=\"text-align: right;\">\n",
       "      <th></th>\n",
       "      <th>news</th>\n",
       "      <th>labels</th>\n",
       "    </tr>\n",
       "  </thead>\n",
       "  <tbody>\n",
       "    <tr>\n",
       "      <th>0</th>\n",
       "      <td>DeFi platform Parsec launches with $1.25 milli...</td>\n",
       "      <td>1</td>\n",
       "    </tr>\n",
       "    <tr>\n",
       "      <th>1</th>\n",
       "      <td>Ontario securities regulator slams Binance aft...</td>\n",
       "      <td>-1</td>\n",
       "    </tr>\n",
       "    <tr>\n",
       "      <th>2</th>\n",
       "      <td>CME to launch micro ether futures next month</td>\n",
       "      <td>1</td>\n",
       "    </tr>\n",
       "    <tr>\n",
       "      <th>3</th>\n",
       "      <td>Coinbase to offer secondary market for private...</td>\n",
       "      <td>1</td>\n",
       "    </tr>\n",
       "    <tr>\n",
       "      <th>4</th>\n",
       "      <td>Bank of France completes CBDC settlement exper...</td>\n",
       "      <td>0</td>\n",
       "    </tr>\n",
       "  </tbody>\n",
       "</table>\n",
       "</div>"
      ],
      "text/plain": [
       "                                                news  labels\n",
       "0  DeFi platform Parsec launches with $1.25 milli...       1\n",
       "1  Ontario securities regulator slams Binance aft...      -1\n",
       "2       CME to launch micro ether futures next month       1\n",
       "3  Coinbase to offer secondary market for private...       1\n",
       "4  Bank of France completes CBDC settlement exper...       0"
      ]
     },
     "execution_count": 43,
     "metadata": {},
     "output_type": "execute_result"
    }
   ],
   "source": [
    "X_test_df.head()"
   ]
  },
  {
   "cell_type": "code",
   "execution_count": 44,
   "id": "74e7a829",
   "metadata": {},
   "outputs": [],
   "source": [
    "X_test_df[['Positive','Negative','Neutral']] = (X_test_df['news'].apply(apply_finbert)).apply(pd.Series)"
   ]
  },
  {
   "cell_type": "code",
   "execution_count": 45,
   "id": "1a3a8f43",
   "metadata": {},
   "outputs": [],
   "source": [
    "result_df = calculate_result(X_test_df)"
   ]
  },
  {
   "cell_type": "code",
   "execution_count": 46,
   "id": "00bdad9a",
   "metadata": {},
   "outputs": [
    {
     "data": {
      "text/html": [
       "<div>\n",
       "<style scoped>\n",
       "    .dataframe tbody tr th:only-of-type {\n",
       "        vertical-align: middle;\n",
       "    }\n",
       "\n",
       "    .dataframe tbody tr th {\n",
       "        vertical-align: top;\n",
       "    }\n",
       "\n",
       "    .dataframe thead th {\n",
       "        text-align: right;\n",
       "    }\n",
       "</style>\n",
       "<table border=\"1\" class=\"dataframe\">\n",
       "  <thead>\n",
       "    <tr style=\"text-align: right;\">\n",
       "      <th></th>\n",
       "      <th>news</th>\n",
       "      <th>labels</th>\n",
       "      <th>Positive</th>\n",
       "      <th>Negative</th>\n",
       "      <th>Neutral</th>\n",
       "      <th>result</th>\n",
       "    </tr>\n",
       "  </thead>\n",
       "  <tbody>\n",
       "    <tr>\n",
       "      <th>0</th>\n",
       "      <td>DeFi platform Parsec launches with $1.25 milli...</td>\n",
       "      <td>1</td>\n",
       "      <td>0.004410</td>\n",
       "      <td>0.041571</td>\n",
       "      <td>0.954019</td>\n",
       "      <td>0</td>\n",
       "    </tr>\n",
       "    <tr>\n",
       "      <th>1</th>\n",
       "      <td>Ontario securities regulator slams Binance aft...</td>\n",
       "      <td>-1</td>\n",
       "      <td>0.954800</td>\n",
       "      <td>0.034571</td>\n",
       "      <td>0.010629</td>\n",
       "      <td>1</td>\n",
       "    </tr>\n",
       "    <tr>\n",
       "      <th>2</th>\n",
       "      <td>CME to launch micro ether futures next month</td>\n",
       "      <td>1</td>\n",
       "      <td>0.007117</td>\n",
       "      <td>0.230409</td>\n",
       "      <td>0.762474</td>\n",
       "      <td>0</td>\n",
       "    </tr>\n",
       "    <tr>\n",
       "      <th>3</th>\n",
       "      <td>Coinbase to offer secondary market for private...</td>\n",
       "      <td>1</td>\n",
       "      <td>0.005643</td>\n",
       "      <td>0.198445</td>\n",
       "      <td>0.795912</td>\n",
       "      <td>0</td>\n",
       "    </tr>\n",
       "    <tr>\n",
       "      <th>4</th>\n",
       "      <td>Bank of France completes CBDC settlement exper...</td>\n",
       "      <td>0</td>\n",
       "      <td>0.007316</td>\n",
       "      <td>0.187450</td>\n",
       "      <td>0.805234</td>\n",
       "      <td>0</td>\n",
       "    </tr>\n",
       "    <tr>\n",
       "      <th>5</th>\n",
       "      <td>State Street named fund administrator for VanE...</td>\n",
       "      <td>1</td>\n",
       "      <td>0.004823</td>\n",
       "      <td>0.091230</td>\n",
       "      <td>0.903947</td>\n",
       "      <td>0</td>\n",
       "    </tr>\n",
       "    <tr>\n",
       "      <th>6</th>\n",
       "      <td>Rise in privately funded crypto unicorns worri...</td>\n",
       "      <td>-1</td>\n",
       "      <td>0.198039</td>\n",
       "      <td>0.099655</td>\n",
       "      <td>0.702306</td>\n",
       "      <td>0</td>\n",
       "    </tr>\n",
       "    <tr>\n",
       "      <th>7</th>\n",
       "      <td>The MiamiCoin project has generated $22.5 mill...</td>\n",
       "      <td>0</td>\n",
       "      <td>0.006150</td>\n",
       "      <td>0.044683</td>\n",
       "      <td>0.949167</td>\n",
       "      <td>0</td>\n",
       "    </tr>\n",
       "    <tr>\n",
       "      <th>8</th>\n",
       "      <td>Gemini pledges to offset 350,000 tons of bitco...</td>\n",
       "      <td>1</td>\n",
       "      <td>0.857962</td>\n",
       "      <td>0.103936</td>\n",
       "      <td>0.038102</td>\n",
       "      <td>1</td>\n",
       "    </tr>\n",
       "    <tr>\n",
       "      <th>9</th>\n",
       "      <td>Citadel Securities raises $1.15 billion from S...</td>\n",
       "      <td>1</td>\n",
       "      <td>0.004999</td>\n",
       "      <td>0.040776</td>\n",
       "      <td>0.954226</td>\n",
       "      <td>0</td>\n",
       "    </tr>\n",
       "  </tbody>\n",
       "</table>\n",
       "</div>"
      ],
      "text/plain": [
       "                                                news  labels  Positive  \\\n",
       "0  DeFi platform Parsec launches with $1.25 milli...       1  0.004410   \n",
       "1  Ontario securities regulator slams Binance aft...      -1  0.954800   \n",
       "2       CME to launch micro ether futures next month       1  0.007117   \n",
       "3  Coinbase to offer secondary market for private...       1  0.005643   \n",
       "4  Bank of France completes CBDC settlement exper...       0  0.007316   \n",
       "5  State Street named fund administrator for VanE...       1  0.004823   \n",
       "6  Rise in privately funded crypto unicorns worri...      -1  0.198039   \n",
       "7  The MiamiCoin project has generated $22.5 mill...       0  0.006150   \n",
       "8  Gemini pledges to offset 350,000 tons of bitco...       1  0.857962   \n",
       "9  Citadel Securities raises $1.15 billion from S...       1  0.004999   \n",
       "\n",
       "   Negative   Neutral  result  \n",
       "0  0.041571  0.954019       0  \n",
       "1  0.034571  0.010629       1  \n",
       "2  0.230409  0.762474       0  \n",
       "3  0.198445  0.795912       0  \n",
       "4  0.187450  0.805234       0  \n",
       "5  0.091230  0.903947       0  \n",
       "6  0.099655  0.702306       0  \n",
       "7  0.044683  0.949167       0  \n",
       "8  0.103936  0.038102       1  \n",
       "9  0.040776  0.954226       0  "
      ]
     },
     "execution_count": 46,
     "metadata": {},
     "output_type": "execute_result"
    }
   ],
   "source": [
    "result_df.head(10)"
   ]
  },
  {
   "cell_type": "code",
   "execution_count": 47,
   "id": "874fc046",
   "metadata": {},
   "outputs": [
    {
     "data": {
      "text/plain": [
       "(108, 6)"
      ]
     },
     "execution_count": 47,
     "metadata": {},
     "output_type": "execute_result"
    }
   ],
   "source": [
    "result_df.shape"
   ]
  },
  {
   "cell_type": "code",
   "execution_count": 48,
   "id": "9fbfd87f",
   "metadata": {},
   "outputs": [
    {
     "data": {
      "text/plain": [
       "0.18518518518518517"
      ]
     },
     "execution_count": 48,
     "metadata": {},
     "output_type": "execute_result"
    }
   ],
   "source": [
    "#The accuracy with the original FinBERT:\n",
    "accuracy_score(y_true=result_df['labels'], y_pred=result_df['result'])"
   ]
  },
  {
   "cell_type": "markdown",
   "id": "e9c9c6af",
   "metadata": {},
   "source": [
    "### Retraining with a second set of arguments "
   ]
  },
  {
   "cell_type": "code",
   "execution_count": 49,
   "id": "a32f5a87",
   "metadata": {},
   "outputs": [
    {
     "name": "stderr",
     "output_type": "stream",
     "text": [
      "PyTorch: setting up devices\n",
      "The default value for the training argument `--report_to` will change in v5 (from all installed integrations to none). In v5, you will need to use `--report_to all` to get the same behavior as now. You should start updating your code and make this info disappear :-).\n"
     ]
    }
   ],
   "source": [
    "# Define Trainer\n",
    "args = TrainingArguments(\n",
    "        output_dir = 'second_test/',\n",
    "        evaluation_strategy = 'epoch',\n",
    "        save_strategy = 'epoch',\n",
    "        learning_rate=2e-5,\n",
    "        per_device_train_batch_size=32,\n",
    "        per_device_eval_batch_size=32,\n",
    "        num_train_epochs=4,\n",
    "        weight_decay=0.01,\n",
    "        load_best_model_at_end=True,\n",
    "        metric_for_best_model='accuracy',\n",
    ")\n"
   ]
  },
  {
   "cell_type": "code",
   "execution_count": 50,
   "id": "5f58bf19",
   "metadata": {},
   "outputs": [],
   "source": [
    "trainer = Trainer(\n",
    "    model=model,\n",
    "    args=args,\n",
    "    train_dataset=train_dataset,\n",
    "    eval_dataset=val_dataset,\n",
    "    compute_metrics=compute_metrics,\n",
    "    callbacks=[EarlyStoppingCallback(early_stopping_patience=3)],\n",
    ")"
   ]
  },
  {
   "cell_type": "code",
   "execution_count": 51,
   "id": "52ec1988",
   "metadata": {},
   "outputs": [
    {
     "name": "stderr",
     "output_type": "stream",
     "text": [
      "***** Running training *****\n",
      "  Num examples = 2146\n",
      "  Num Epochs = 4\n",
      "  Instantaneous batch size per device = 32\n",
      "  Total train batch size (w. parallel, distributed & accumulation) = 32\n",
      "  Gradient Accumulation steps = 1\n",
      "  Total optimization steps = 272\n"
     ]
    },
    {
     "data": {
      "text/html": [
       "\n",
       "    <div>\n",
       "      \n",
       "      <progress value='272' max='272' style='width:300px; height:20px; vertical-align: middle;'></progress>\n",
       "      [272/272 55:07, Epoch 4/4]\n",
       "    </div>\n",
       "    <table border=\"1\" class=\"dataframe\">\n",
       "  <thead>\n",
       " <tr style=\"text-align: left;\">\n",
       "      <th>Epoch</th>\n",
       "      <th>Training Loss</th>\n",
       "      <th>Validation Loss</th>\n",
       "      <th>Accuracy</th>\n",
       "    </tr>\n",
       "  </thead>\n",
       "  <tbody>\n",
       "    <tr>\n",
       "      <td>1</td>\n",
       "      <td>No log</td>\n",
       "      <td>2.270327</td>\n",
       "      <td>0.386946</td>\n",
       "    </tr>\n",
       "    <tr>\n",
       "      <td>2</td>\n",
       "      <td>No log</td>\n",
       "      <td>2.563083</td>\n",
       "      <td>0.379953</td>\n",
       "    </tr>\n",
       "    <tr>\n",
       "      <td>3</td>\n",
       "      <td>No log</td>\n",
       "      <td>2.832335</td>\n",
       "      <td>0.384615</td>\n",
       "    </tr>\n",
       "    <tr>\n",
       "      <td>4</td>\n",
       "      <td>No log</td>\n",
       "      <td>2.900656</td>\n",
       "      <td>0.386946</td>\n",
       "    </tr>\n",
       "  </tbody>\n",
       "</table><p>"
      ],
      "text/plain": [
       "<IPython.core.display.HTML object>"
      ]
     },
     "metadata": {},
     "output_type": "display_data"
    },
    {
     "name": "stderr",
     "output_type": "stream",
     "text": [
      "***** Running Evaluation *****\n",
      "  Num examples = 429\n",
      "  Batch size = 32\n",
      "Saving model checkpoint to second_test/checkpoint-68\n",
      "Configuration saved in second_test/checkpoint-68\\config.json\n",
      "Model weights saved in second_test/checkpoint-68\\pytorch_model.bin\n",
      "***** Running Evaluation *****\n",
      "  Num examples = 429\n",
      "  Batch size = 32\n",
      "Saving model checkpoint to second_test/checkpoint-136\n",
      "Configuration saved in second_test/checkpoint-136\\config.json\n",
      "Model weights saved in second_test/checkpoint-136\\pytorch_model.bin\n",
      "***** Running Evaluation *****\n",
      "  Num examples = 429\n",
      "  Batch size = 32\n",
      "Saving model checkpoint to second_test/checkpoint-204\n",
      "Configuration saved in second_test/checkpoint-204\\config.json\n",
      "Model weights saved in second_test/checkpoint-204\\pytorch_model.bin\n",
      "***** Running Evaluation *****\n",
      "  Num examples = 429\n",
      "  Batch size = 32\n",
      "Saving model checkpoint to second_test/checkpoint-272\n",
      "Configuration saved in second_test/checkpoint-272\\config.json\n",
      "Model weights saved in second_test/checkpoint-272\\pytorch_model.bin\n",
      "\n",
      "\n",
      "Training completed. Do not forget to share your model on huggingface.co/models =)\n",
      "\n",
      "\n",
      "Loading best model from second_test/checkpoint-68 (score: 0.38694638694638694).\n"
     ]
    },
    {
     "data": {
      "text/plain": [
       "TrainOutput(global_step=272, training_loss=0.17228883855483113, metrics={'train_runtime': 3319.2386, 'train_samples_per_second': 2.586, 'train_steps_per_second': 0.082, 'total_flos': 185272957552032.0, 'train_loss': 0.17228883855483113, 'epoch': 4.0})"
      ]
     },
     "execution_count": 51,
     "metadata": {},
     "output_type": "execute_result"
    }
   ],
   "source": [
    "# Train pre-trained model\n",
    "trainer.train()"
   ]
  },
  {
   "cell_type": "code",
   "execution_count": 52,
   "id": "47526fa5",
   "metadata": {},
   "outputs": [],
   "source": [
    "# ----- 3. Predicting -----#\n",
    "# Create torch dataset\n",
    "test_dataset = Dataset(X_test_tokenized, y_test)"
   ]
  },
  {
   "cell_type": "code",
   "execution_count": 53,
   "id": "9b8f6960",
   "metadata": {},
   "outputs": [
    {
     "name": "stderr",
     "output_type": "stream",
     "text": [
      "loading configuration file second_test/checkpoint-204\\config.json\n",
      "Model config BertConfig {\n",
      "  \"_name_or_path\": \"first_test/checkpoint-500\",\n",
      "  \"architectures\": [\n",
      "    \"BertForSequenceClassification\"\n",
      "  ],\n",
      "  \"attention_probs_dropout_prob\": 0.1,\n",
      "  \"classifier_dropout\": null,\n",
      "  \"gradient_checkpointing\": false,\n",
      "  \"hidden_act\": \"gelu\",\n",
      "  \"hidden_dropout_prob\": 0.1,\n",
      "  \"hidden_size\": 768,\n",
      "  \"id2label\": {\n",
      "    \"0\": \"positive\",\n",
      "    \"1\": \"negative\",\n",
      "    \"2\": \"neutral\"\n",
      "  },\n",
      "  \"initializer_range\": 0.02,\n",
      "  \"intermediate_size\": 3072,\n",
      "  \"label2id\": {\n",
      "    \"negative\": 1,\n",
      "    \"neutral\": 2,\n",
      "    \"positive\": 0\n",
      "  },\n",
      "  \"layer_norm_eps\": 1e-12,\n",
      "  \"max_position_embeddings\": 512,\n",
      "  \"model_type\": \"bert\",\n",
      "  \"num_attention_heads\": 12,\n",
      "  \"num_hidden_layers\": 12,\n",
      "  \"pad_token_id\": 0,\n",
      "  \"position_embedding_type\": \"absolute\",\n",
      "  \"problem_type\": \"single_label_classification\",\n",
      "  \"torch_dtype\": \"float32\",\n",
      "  \"transformers_version\": \"4.20.0\",\n",
      "  \"type_vocab_size\": 2,\n",
      "  \"use_cache\": true,\n",
      "  \"vocab_size\": 30522\n",
      "}\n",
      "\n",
      "loading weights file second_test/checkpoint-204\\pytorch_model.bin\n",
      "All model checkpoint weights were used when initializing BertForSequenceClassification.\n",
      "\n",
      "All the weights of BertForSequenceClassification were initialized from the model checkpoint at second_test/checkpoint-204.\n",
      "If your task is similar to the task the model of the checkpoint was trained on, you can already use BertForSequenceClassification for predictions without further training.\n"
     ]
    }
   ],
   "source": [
    "# Load trained model\n",
    "model_path = \"second_test/checkpoint-204\"\n",
    "model = BertForSequenceClassification.from_pretrained(model_path, num_labels=3)"
   ]
  },
  {
   "cell_type": "code",
   "execution_count": 54,
   "id": "5b701bec",
   "metadata": {},
   "outputs": [
    {
     "name": "stderr",
     "output_type": "stream",
     "text": [
      "No `TrainingArguments` passed, using `output_dir=tmp_trainer`.\n",
      "PyTorch: setting up devices\n",
      "The default value for the training argument `--report_to` will change in v5 (from all installed integrations to none). In v5, you will need to use `--report_to all` to get the same behavior as now. You should start updating your code and make this info disappear :-).\n"
     ]
    }
   ],
   "source": [
    "# Define test trainer\n",
    "test_trainer = Trainer(model)"
   ]
  },
  {
   "cell_type": "code",
   "execution_count": 55,
   "id": "6684dc69",
   "metadata": {},
   "outputs": [
    {
     "name": "stderr",
     "output_type": "stream",
     "text": [
      "***** Running Prediction *****\n",
      "  Num examples = 108\n",
      "  Batch size = 8\n"
     ]
    },
    {
     "data": {
      "text/html": [
       "\n",
       "    <div>\n",
       "      \n",
       "      <progress value='14' max='14' style='width:300px; height:20px; vertical-align: middle;'></progress>\n",
       "      [14/14 00:07]\n",
       "    </div>\n",
       "    "
      ],
      "text/plain": [
       "<IPython.core.display.HTML object>"
      ]
     },
     "metadata": {},
     "output_type": "display_data"
    }
   ],
   "source": [
    " #Make prediction\n",
    "raw_pred, _, _ = test_trainer.predict(test_dataset)"
   ]
  },
  {
   "cell_type": "code",
   "execution_count": 56,
   "id": "f88a20c7",
   "metadata": {},
   "outputs": [],
   "source": [
    "# Preprocess raw predictions\n",
    "y_pred = np.argmax(raw_pred, axis=1)"
   ]
  },
  {
   "cell_type": "code",
   "execution_count": 57,
   "id": "84599872",
   "metadata": {},
   "outputs": [
    {
     "data": {
      "text/plain": [
       "0.6759259259259259"
      ]
     },
     "execution_count": 57,
     "metadata": {},
     "output_type": "execute_result"
    }
   ],
   "source": [
    "#The accuracy with the re-trained FinBERT:\n",
    "accuracy_score(y_true=y_test, y_pred=y_pred)"
   ]
  },
  {
   "cell_type": "markdown",
   "id": "db9e5090",
   "metadata": {},
   "source": [
    "## Testing different approaches to improve the model accuracy "
   ]
  },
  {
   "cell_type": "markdown",
   "id": "be1c7795",
   "metadata": {},
   "source": [
    "### Removing the Stopwords "
   ]
  },
  {
   "cell_type": "code",
   "execution_count": 58,
   "id": "e7cf552e",
   "metadata": {
    "scrolled": true
   },
   "outputs": [
    {
     "name": "stderr",
     "output_type": "stream",
     "text": [
      "[nltk_data] Downloading package stopwords to C:\\Users\\Nicolas\n",
      "[nltk_data]     Ponte\\AppData\\Roaming\\nltk_data...\n",
      "[nltk_data]   Package stopwords is already up-to-date!\n"
     ]
    }
   ],
   "source": [
    "import nltk\n",
    "nltk.download('stopwords')\n",
    "from nltk.corpus import stopwords\n",
    "\n",
    "stop_words = stopwords.words('english')\n",
    "df['news'] = df['news'].apply(lambda x: ' '.join([word for word in x.split() if word not in (stop_words)]))"
   ]
  },
  {
   "cell_type": "code",
   "execution_count": 59,
   "id": "9baaa54e",
   "metadata": {},
   "outputs": [],
   "source": [
    "df[\"news\"] = df[\"news\"].str.lower()"
   ]
  },
  {
   "cell_type": "code",
   "execution_count": 60,
   "id": "c3735165",
   "metadata": {},
   "outputs": [
    {
     "name": "stdout",
     "output_type": "stream",
     "text": [
      "0       ripple announces stock buyback nabs 15 billion...\n",
      "1       imf directors urge el salvador remove bitcoin ...\n",
      "2          dragonfly capital raising 500 million new fund\n",
      "3       rick morty cocreator collaborates paradigm nft...\n",
      "4                            how fintech spacs lost shine\n",
      "                              ...                        \n",
      "2678    gambling good cause  cryptoslots donates proce...\n",
      "2679             litecoin the chinese alternative bitcoin\n",
      "2680                     do you know what happening money\n",
      "2681                 download coinmarketcal app app store\n",
      "2682               download coinmarketcal app google play\n",
      "Name: news, Length: 2683, dtype: object\n"
     ]
    }
   ],
   "source": [
    "import string\n",
    "df[\"news\"] = df['news'].str.replace('[^\\w\\s]','')\n",
    "print(df['news'])"
   ]
  },
  {
   "cell_type": "code",
   "execution_count": 61,
   "id": "1f1d8239",
   "metadata": {},
   "outputs": [
    {
     "name": "stderr",
     "output_type": "stream",
     "text": [
      "[nltk_data] Downloading package punkt to C:\\Users\\Nicolas\n",
      "[nltk_data]     Ponte\\AppData\\Roaming\\nltk_data...\n",
      "[nltk_data]   Package punkt is already up-to-date!\n",
      "[nltk_data] Downloading package wordnet to C:\\Users\\Nicolas\n",
      "[nltk_data]     Ponte\\AppData\\Roaming\\nltk_data...\n",
      "[nltk_data]   Package wordnet is already up-to-date!\n"
     ]
    }
   ],
   "source": [
    "from nltk.stem import WordNetLemmatizer\n",
    "from nltk.tokenize import word_tokenize\n",
    "nltk.download('punkt')\n",
    "nltk.download('wordnet')\n",
    "\n",
    "lemmatizer = WordNetLemmatizer()\n",
    "\n",
    "#Function to apply for each word the proper lemmatization.\n",
    "def lemmetize_titles(words):\n",
    "    a = []\n",
    "    tokens = word_tokenize(words)\n",
    "    for token in tokens:\n",
    "        lemmetized_word = lemmatizer.lemmatize(token)\n",
    "        a.append(lemmetized_word)\n",
    "    lemmatized_title = ' '.join(a)\n",
    "    return lemmatized_title"
   ]
  },
  {
   "cell_type": "code",
   "execution_count": 62,
   "id": "ad1100b6",
   "metadata": {},
   "outputs": [],
   "source": [
    "df['lemmetized_titles'] = df['news'].apply(lemmetize_titles)"
   ]
  },
  {
   "cell_type": "code",
   "execution_count": 63,
   "id": "741ee4ee",
   "metadata": {},
   "outputs": [
    {
     "data": {
      "text/html": [
       "<div>\n",
       "<style scoped>\n",
       "    .dataframe tbody tr th:only-of-type {\n",
       "        vertical-align: middle;\n",
       "    }\n",
       "\n",
       "    .dataframe tbody tr th {\n",
       "        vertical-align: top;\n",
       "    }\n",
       "\n",
       "    .dataframe thead th {\n",
       "        text-align: right;\n",
       "    }\n",
       "</style>\n",
       "<table border=\"1\" class=\"dataframe\">\n",
       "  <thead>\n",
       "    <tr style=\"text-align: right;\">\n",
       "      <th></th>\n",
       "      <th>news</th>\n",
       "      <th>labels</th>\n",
       "      <th>lemmetized_titles</th>\n",
       "    </tr>\n",
       "  </thead>\n",
       "  <tbody>\n",
       "    <tr>\n",
       "      <th>0</th>\n",
       "      <td>ripple announces stock buyback nabs 15 billion...</td>\n",
       "      <td>2</td>\n",
       "      <td>ripple announces stock buyback nabs 15 billion...</td>\n",
       "    </tr>\n",
       "    <tr>\n",
       "      <th>1</th>\n",
       "      <td>imf directors urge el salvador remove bitcoin ...</td>\n",
       "      <td>0</td>\n",
       "      <td>imf director urge el salvador remove bitcoin l...</td>\n",
       "    </tr>\n",
       "    <tr>\n",
       "      <th>2</th>\n",
       "      <td>dragonfly capital raising 500 million new fund</td>\n",
       "      <td>2</td>\n",
       "      <td>dragonfly capital raising 500 million new fund</td>\n",
       "    </tr>\n",
       "    <tr>\n",
       "      <th>3</th>\n",
       "      <td>rick morty cocreator collaborates paradigm nft...</td>\n",
       "      <td>1</td>\n",
       "      <td>rick morty cocreator collaborates paradigm nft...</td>\n",
       "    </tr>\n",
       "    <tr>\n",
       "      <th>4</th>\n",
       "      <td>how fintech spacs lost shine</td>\n",
       "      <td>1</td>\n",
       "      <td>how fintech spacs lost shine</td>\n",
       "    </tr>\n",
       "    <tr>\n",
       "      <th>5</th>\n",
       "      <td>multichain vulnerability put billion dollars r...</td>\n",
       "      <td>0</td>\n",
       "      <td>multichain vulnerability put billion dollar ri...</td>\n",
       "    </tr>\n",
       "    <tr>\n",
       "      <th>6</th>\n",
       "      <td>youtube wants help content creators capitalize...</td>\n",
       "      <td>1</td>\n",
       "      <td>youtube want help content creator capitalize nfts</td>\n",
       "    </tr>\n",
       "    <tr>\n",
       "      <th>7</th>\n",
       "      <td>opensea reimbursing users sold nfts market val...</td>\n",
       "      <td>1</td>\n",
       "      <td>opensea reimbursing user sold nfts market valu...</td>\n",
       "    </tr>\n",
       "    <tr>\n",
       "      <th>8</th>\n",
       "      <td>gooddollar launches key protocol upgrade expan...</td>\n",
       "      <td>2</td>\n",
       "      <td>gooddollar launch key protocol upgrade expand ...</td>\n",
       "    </tr>\n",
       "    <tr>\n",
       "      <th>9</th>\n",
       "      <td>bcb group raises 60 million series a round col...</td>\n",
       "      <td>2</td>\n",
       "      <td>bcb group raise 60 million series a round cole...</td>\n",
       "    </tr>\n",
       "    <tr>\n",
       "      <th>10</th>\n",
       "      <td>carola morena boost music talent search ahead ...</td>\n",
       "      <td>2</td>\n",
       "      <td>carola morena boost music talent search ahead ...</td>\n",
       "    </tr>\n",
       "    <tr>\n",
       "      <th>11</th>\n",
       "      <td>twitter growing inhouse crypto team</td>\n",
       "      <td>2</td>\n",
       "      <td>twitter growing inhouse crypto team</td>\n",
       "    </tr>\n",
       "    <tr>\n",
       "      <th>12</th>\n",
       "      <td>bitcoin climbs 10 following extraordinary reco...</td>\n",
       "      <td>2</td>\n",
       "      <td>bitcoin climb 10 following extraordinary recov...</td>\n",
       "    </tr>\n",
       "    <tr>\n",
       "      <th>13</th>\n",
       "      <td>walmart director joins board crypto wallet com...</td>\n",
       "      <td>2</td>\n",
       "      <td>walmart director join board crypto wallet comp...</td>\n",
       "    </tr>\n",
       "    <tr>\n",
       "      <th>14</th>\n",
       "      <td>congressman mchenry says regulators oversteppi...</td>\n",
       "      <td>0</td>\n",
       "      <td>congressman mchenry say regulator overstepping...</td>\n",
       "    </tr>\n",
       "    <tr>\n",
       "      <th>15</th>\n",
       "      <td>coinbase hires former sec counsel serve senior...</td>\n",
       "      <td>2</td>\n",
       "      <td>coinbase hire former sec counsel serve senior ...</td>\n",
       "    </tr>\n",
       "    <tr>\n",
       "      <th>16</th>\n",
       "      <td>ribbon finance automated options selling strat...</td>\n",
       "      <td>1</td>\n",
       "      <td>ribbon finance automated option selling strategy</td>\n",
       "    </tr>\n",
       "    <tr>\n",
       "      <th>17</th>\n",
       "      <td>oko miners announces attractive deals several ...</td>\n",
       "      <td>1</td>\n",
       "      <td>oko miner announces attractive deal several mi...</td>\n",
       "    </tr>\n",
       "    <tr>\n",
       "      <th>18</th>\n",
       "      <td>metavisa start ieo sale mesa token bitmart</td>\n",
       "      <td>1</td>\n",
       "      <td>metavisa start ieo sale mesa token bitmart</td>\n",
       "    </tr>\n",
       "    <tr>\n",
       "      <th>19</th>\n",
       "      <td>dev builds tool lets autoblock nft people twitter</td>\n",
       "      <td>1</td>\n",
       "      <td>dev build tool let autoblock nft people twitter</td>\n",
       "    </tr>\n",
       "  </tbody>\n",
       "</table>\n",
       "</div>"
      ],
      "text/plain": [
       "                                                 news  labels  \\\n",
       "0   ripple announces stock buyback nabs 15 billion...       2   \n",
       "1   imf directors urge el salvador remove bitcoin ...       0   \n",
       "2      dragonfly capital raising 500 million new fund       2   \n",
       "3   rick morty cocreator collaborates paradigm nft...       1   \n",
       "4                        how fintech spacs lost shine       1   \n",
       "5   multichain vulnerability put billion dollars r...       0   \n",
       "6   youtube wants help content creators capitalize...       1   \n",
       "7   opensea reimbursing users sold nfts market val...       1   \n",
       "8   gooddollar launches key protocol upgrade expan...       2   \n",
       "9   bcb group raises 60 million series a round col...       2   \n",
       "10  carola morena boost music talent search ahead ...       2   \n",
       "11                twitter growing inhouse crypto team       2   \n",
       "12  bitcoin climbs 10 following extraordinary reco...       2   \n",
       "13  walmart director joins board crypto wallet com...       2   \n",
       "14  congressman mchenry says regulators oversteppi...       0   \n",
       "15  coinbase hires former sec counsel serve senior...       2   \n",
       "16  ribbon finance automated options selling strat...       1   \n",
       "17  oko miners announces attractive deals several ...       1   \n",
       "18         metavisa start ieo sale mesa token bitmart       1   \n",
       "19  dev builds tool lets autoblock nft people twitter       1   \n",
       "\n",
       "                                    lemmetized_titles  \n",
       "0   ripple announces stock buyback nabs 15 billion...  \n",
       "1   imf director urge el salvador remove bitcoin l...  \n",
       "2      dragonfly capital raising 500 million new fund  \n",
       "3   rick morty cocreator collaborates paradigm nft...  \n",
       "4                        how fintech spacs lost shine  \n",
       "5   multichain vulnerability put billion dollar ri...  \n",
       "6   youtube want help content creator capitalize nfts  \n",
       "7   opensea reimbursing user sold nfts market valu...  \n",
       "8   gooddollar launch key protocol upgrade expand ...  \n",
       "9   bcb group raise 60 million series a round cole...  \n",
       "10  carola morena boost music talent search ahead ...  \n",
       "11                twitter growing inhouse crypto team  \n",
       "12  bitcoin climb 10 following extraordinary recov...  \n",
       "13  walmart director join board crypto wallet comp...  \n",
       "14  congressman mchenry say regulator overstepping...  \n",
       "15  coinbase hire former sec counsel serve senior ...  \n",
       "16   ribbon finance automated option selling strategy  \n",
       "17  oko miner announces attractive deal several mi...  \n",
       "18         metavisa start ieo sale mesa token bitmart  \n",
       "19    dev build tool let autoblock nft people twitter  "
      ]
     },
     "execution_count": 63,
     "metadata": {},
     "output_type": "execute_result"
    }
   ],
   "source": [
    "df.head(20)"
   ]
  },
  {
   "cell_type": "code",
   "execution_count": 64,
   "id": "02ad7887",
   "metadata": {},
   "outputs": [],
   "source": [
    "# Preprocess data\n",
    "X = list(df[\"lemmetized_titles\"])\n",
    "y = list(df[\"labels\"])\n",
    "X_train, X_val, y_train, y_val = train_test_split(X, y, test_size=0.2)\n",
    "X_val_2, X_test, y_val_2, y_test = train_test_split(X_val, y_val, test_size=0.2)\n",
    "X_train_tokenized = tokenizer(X_train, padding=True, truncation=True, max_length=512)\n",
    "X_val_tokenized = tokenizer(X_val_2, padding=True, truncation=True, max_length=512)\n",
    "X_test_tokenized = tokenizer(X_test, padding=True, truncation=True, max_length=512)"
   ]
  },
  {
   "cell_type": "code",
   "execution_count": 65,
   "id": "e703bb8c",
   "metadata": {},
   "outputs": [],
   "source": [
    "train_dataset = Dataset(X_train_tokenized, y_train)\n",
    "val_dataset = Dataset(X_val_tokenized, y_val)\n",
    "test_dataset = Dataset(X_test_tokenized, y_test)"
   ]
  },
  {
   "cell_type": "code",
   "execution_count": 66,
   "id": "83d038bb",
   "metadata": {},
   "outputs": [
    {
     "name": "stderr",
     "output_type": "stream",
     "text": [
      "PyTorch: setting up devices\n",
      "The default value for the training argument `--report_to` will change in v5 (from all installed integrations to none). In v5, you will need to use `--report_to all` to get the same behavior as now. You should start updating your code and make this info disappear :-).\n"
     ]
    }
   ],
   "source": [
    "# Define Trainer\n",
    "args = TrainingArguments(\n",
    "        output_dir = 'third_test/',\n",
    "        evaluation_strategy = 'epoch',\n",
    "        save_strategy = 'epoch',\n",
    "        learning_rate=2e-5,\n",
    "        per_device_train_batch_size=8,\n",
    "        per_device_eval_batch_size=8,\n",
    "        num_train_epochs=4,\n",
    "        weight_decay=0.01,\n",
    "        load_best_model_at_end=True,\n",
    "        metric_for_best_model='accuracy',\n",
    ")"
   ]
  },
  {
   "cell_type": "code",
   "execution_count": 67,
   "id": "bed6ee19",
   "metadata": {},
   "outputs": [],
   "source": [
    "trainer = Trainer(\n",
    "    model=model,\n",
    "    args=args,\n",
    "    train_dataset=train_dataset,\n",
    "    eval_dataset=val_dataset,\n",
    "    compute_metrics=compute_metrics,\n",
    "    callbacks=[EarlyStoppingCallback(early_stopping_patience=3)],\n",
    ")"
   ]
  },
  {
   "cell_type": "code",
   "execution_count": 68,
   "id": "16a0ea4f",
   "metadata": {
    "scrolled": true
   },
   "outputs": [
    {
     "name": "stderr",
     "output_type": "stream",
     "text": [
      "***** Running training *****\n",
      "  Num examples = 2146\n",
      "  Num Epochs = 4\n",
      "  Instantaneous batch size per device = 8\n",
      "  Total train batch size (w. parallel, distributed & accumulation) = 8\n",
      "  Gradient Accumulation steps = 1\n",
      "  Total optimization steps = 1076\n"
     ]
    },
    {
     "data": {
      "text/html": [
       "\n",
       "    <div>\n",
       "      \n",
       "      <progress value='1076' max='1076' style='width:300px; height:20px; vertical-align: middle;'></progress>\n",
       "      [1076/1076 56:06, Epoch 4/4]\n",
       "    </div>\n",
       "    <table border=\"1\" class=\"dataframe\">\n",
       "  <thead>\n",
       " <tr style=\"text-align: left;\">\n",
       "      <th>Epoch</th>\n",
       "      <th>Training Loss</th>\n",
       "      <th>Validation Loss</th>\n",
       "      <th>Accuracy</th>\n",
       "    </tr>\n",
       "  </thead>\n",
       "  <tbody>\n",
       "    <tr>\n",
       "      <td>1</td>\n",
       "      <td>No log</td>\n",
       "      <td>1.963239</td>\n",
       "      <td>0.421911</td>\n",
       "    </tr>\n",
       "    <tr>\n",
       "      <td>2</td>\n",
       "      <td>0.403400</td>\n",
       "      <td>2.884250</td>\n",
       "      <td>0.410256</td>\n",
       "    </tr>\n",
       "    <tr>\n",
       "      <td>3</td>\n",
       "      <td>0.403400</td>\n",
       "      <td>3.467348</td>\n",
       "      <td>0.428904</td>\n",
       "    </tr>\n",
       "    <tr>\n",
       "      <td>4</td>\n",
       "      <td>0.157600</td>\n",
       "      <td>3.653231</td>\n",
       "      <td>0.426573</td>\n",
       "    </tr>\n",
       "  </tbody>\n",
       "</table><p>"
      ],
      "text/plain": [
       "<IPython.core.display.HTML object>"
      ]
     },
     "metadata": {},
     "output_type": "display_data"
    },
    {
     "name": "stderr",
     "output_type": "stream",
     "text": [
      "***** Running Evaluation *****\n",
      "  Num examples = 429\n",
      "  Batch size = 8\n",
      "Saving model checkpoint to third_test/checkpoint-269\n",
      "Configuration saved in third_test/checkpoint-269\\config.json\n",
      "Model weights saved in third_test/checkpoint-269\\pytorch_model.bin\n",
      "***** Running Evaluation *****\n",
      "  Num examples = 429\n",
      "  Batch size = 8\n",
      "Saving model checkpoint to third_test/checkpoint-538\n",
      "Configuration saved in third_test/checkpoint-538\\config.json\n",
      "Model weights saved in third_test/checkpoint-538\\pytorch_model.bin\n",
      "***** Running Evaluation *****\n",
      "  Num examples = 429\n",
      "  Batch size = 8\n",
      "Saving model checkpoint to third_test/checkpoint-807\n",
      "Configuration saved in third_test/checkpoint-807\\config.json\n",
      "Model weights saved in third_test/checkpoint-807\\pytorch_model.bin\n",
      "***** Running Evaluation *****\n",
      "  Num examples = 429\n",
      "  Batch size = 8\n",
      "Saving model checkpoint to third_test/checkpoint-1076\n",
      "Configuration saved in third_test/checkpoint-1076\\config.json\n",
      "Model weights saved in third_test/checkpoint-1076\\pytorch_model.bin\n",
      "\n",
      "\n",
      "Training completed. Do not forget to share your model on huggingface.co/models =)\n",
      "\n",
      "\n",
      "Loading best model from third_test/checkpoint-807 (score: 0.4289044289044289).\n"
     ]
    },
    {
     "data": {
      "text/plain": [
       "TrainOutput(global_step=1076, training_loss=0.26973394301744197, metrics={'train_runtime': 3369.8574, 'train_samples_per_second': 2.547, 'train_steps_per_second': 0.319, 'total_flos': 136749087716976.0, 'train_loss': 0.26973394301744197, 'epoch': 4.0})"
      ]
     },
     "execution_count": 68,
     "metadata": {},
     "output_type": "execute_result"
    }
   ],
   "source": [
    "# Train pre-trained model\n",
    "trainer.train()"
   ]
  },
  {
   "cell_type": "code",
   "execution_count": 69,
   "id": "c7f21b73",
   "metadata": {},
   "outputs": [
    {
     "name": "stderr",
     "output_type": "stream",
     "text": [
      "loading configuration file third_test/checkpoint-269\\config.json\n",
      "Model config BertConfig {\n",
      "  \"_name_or_path\": \"second_test/checkpoint-204\",\n",
      "  \"architectures\": [\n",
      "    \"BertForSequenceClassification\"\n",
      "  ],\n",
      "  \"attention_probs_dropout_prob\": 0.1,\n",
      "  \"classifier_dropout\": null,\n",
      "  \"gradient_checkpointing\": false,\n",
      "  \"hidden_act\": \"gelu\",\n",
      "  \"hidden_dropout_prob\": 0.1,\n",
      "  \"hidden_size\": 768,\n",
      "  \"id2label\": {\n",
      "    \"0\": \"positive\",\n",
      "    \"1\": \"negative\",\n",
      "    \"2\": \"neutral\"\n",
      "  },\n",
      "  \"initializer_range\": 0.02,\n",
      "  \"intermediate_size\": 3072,\n",
      "  \"label2id\": {\n",
      "    \"negative\": 1,\n",
      "    \"neutral\": 2,\n",
      "    \"positive\": 0\n",
      "  },\n",
      "  \"layer_norm_eps\": 1e-12,\n",
      "  \"max_position_embeddings\": 512,\n",
      "  \"model_type\": \"bert\",\n",
      "  \"num_attention_heads\": 12,\n",
      "  \"num_hidden_layers\": 12,\n",
      "  \"pad_token_id\": 0,\n",
      "  \"position_embedding_type\": \"absolute\",\n",
      "  \"problem_type\": \"single_label_classification\",\n",
      "  \"torch_dtype\": \"float32\",\n",
      "  \"transformers_version\": \"4.20.0\",\n",
      "  \"type_vocab_size\": 2,\n",
      "  \"use_cache\": true,\n",
      "  \"vocab_size\": 30522\n",
      "}\n",
      "\n",
      "loading weights file third_test/checkpoint-269\\pytorch_model.bin\n",
      "All model checkpoint weights were used when initializing BertForSequenceClassification.\n",
      "\n",
      "All the weights of BertForSequenceClassification were initialized from the model checkpoint at third_test/checkpoint-269.\n",
      "If your task is similar to the task the model of the checkpoint was trained on, you can already use BertForSequenceClassification for predictions without further training.\n"
     ]
    }
   ],
   "source": [
    "# Load trained model\n",
    "model_path = \"third_test/checkpoint-269\"\n",
    "model = BertForSequenceClassification.from_pretrained(model_path, num_labels=3)"
   ]
  },
  {
   "cell_type": "code",
   "execution_count": 70,
   "id": "81797899",
   "metadata": {},
   "outputs": [
    {
     "name": "stderr",
     "output_type": "stream",
     "text": [
      "No `TrainingArguments` passed, using `output_dir=tmp_trainer`.\n",
      "PyTorch: setting up devices\n",
      "The default value for the training argument `--report_to` will change in v5 (from all installed integrations to none). In v5, you will need to use `--report_to all` to get the same behavior as now. You should start updating your code and make this info disappear :-).\n"
     ]
    }
   ],
   "source": [
    "# Define test trainer\n",
    "test_trainer = Trainer(model)"
   ]
  },
  {
   "cell_type": "code",
   "execution_count": 71,
   "id": "8317c366",
   "metadata": {},
   "outputs": [
    {
     "name": "stderr",
     "output_type": "stream",
     "text": [
      "***** Running Prediction *****\n",
      "  Num examples = 108\n",
      "  Batch size = 8\n"
     ]
    },
    {
     "data": {
      "text/html": [
       "\n",
       "    <div>\n",
       "      \n",
       "      <progress value='30711' max='14' style='width:300px; height:20px; vertical-align: middle;'></progress>\n",
       "      [14/14 17:24:47]\n",
       "    </div>\n",
       "    "
      ],
      "text/plain": [
       "<IPython.core.display.HTML object>"
      ]
     },
     "metadata": {},
     "output_type": "display_data"
    }
   ],
   "source": [
    " #Make prediction\n",
    "raw_pred, _, _ = test_trainer.predict(test_dataset)"
   ]
  },
  {
   "cell_type": "code",
   "execution_count": 72,
   "id": "20c3c375",
   "metadata": {},
   "outputs": [],
   "source": [
    "# Preprocess raw predictions\n",
    "y_pred = np.argmax(raw_pred, axis=1)"
   ]
  },
  {
   "cell_type": "code",
   "execution_count": 73,
   "id": "f54d6793",
   "metadata": {},
   "outputs": [
    {
     "data": {
      "text/plain": [
       "0.8333333333333334"
      ]
     },
     "execution_count": 73,
     "metadata": {},
     "output_type": "execute_result"
    }
   ],
   "source": [
    "#The accuracy with the re-trained FinBERT:\n",
    "accuracy_score(y_true=y_test, y_pred=y_pred)"
   ]
  },
  {
   "cell_type": "code",
   "execution_count": 74,
   "id": "f21132cc",
   "metadata": {},
   "outputs": [],
   "source": [
    "from sklearn.metrics import f1_score, precision_score, recall_score, roc_auc_score, confusion_matrix"
   ]
  },
  {
   "cell_type": "code",
   "execution_count": 75,
   "id": "d083b98d",
   "metadata": {},
   "outputs": [
    {
     "data": {
      "text/plain": [
       "array([[18,  1,  1],\n",
       "       [ 2, 22, 11],\n",
       "       [ 0,  3, 50]], dtype=int64)"
      ]
     },
     "execution_count": 75,
     "metadata": {},
     "output_type": "execute_result"
    }
   ],
   "source": [
    "confusion_matrix(y_true=y_test, y_pred=y_pred)"
   ]
  },
  {
   "cell_type": "code",
   "execution_count": 76,
   "id": "9527776e",
   "metadata": {},
   "outputs": [
    {
     "name": "stderr",
     "output_type": "stream",
     "text": [
      "***** Running Prediction *****\n",
      "  Num examples = 2146\n",
      "  Batch size = 8\n"
     ]
    }
   ],
   "source": [
    "raw_pred, _, _ = test_trainer.predict(train_dataset)"
   ]
  },
  {
   "cell_type": "code",
   "execution_count": 77,
   "id": "d0817428",
   "metadata": {},
   "outputs": [],
   "source": [
    "y_pred = np.argmax(raw_pred, axis=1)"
   ]
  },
  {
   "cell_type": "code",
   "execution_count": 78,
   "id": "5f3e1efc",
   "metadata": {},
   "outputs": [
    {
     "data": {
      "text/plain": [
       "0.9249767008387698"
      ]
     },
     "execution_count": 78,
     "metadata": {},
     "output_type": "execute_result"
    }
   ],
   "source": [
    "accuracy_score(y_true=y_train, y_pred=y_pred)"
   ]
  },
  {
   "cell_type": "code",
   "execution_count": 79,
   "id": "d4dfc83f",
   "metadata": {},
   "outputs": [
    {
     "data": {
      "text/plain": [
       "array([[ 304,   10,    7],\n",
       "       [  18,  617,   99],\n",
       "       [   4,   23, 1064]], dtype=int64)"
      ]
     },
     "execution_count": 79,
     "metadata": {},
     "output_type": "execute_result"
    }
   ],
   "source": [
    "confusion_matrix(y_true=y_train, y_pred=y_pred)"
   ]
  },
  {
   "cell_type": "markdown",
   "id": "06bb41bd",
   "metadata": {},
   "source": [
    "### Checking Manoel Result "
   ]
  },
  {
   "cell_type": "code",
   "execution_count": 109,
   "id": "5ba27678",
   "metadata": {},
   "outputs": [],
   "source": [
    "df_manoel = pd.read_csv('../OneYearNewsDataset_AfterRelevance.csv')"
   ]
  },
  {
   "cell_type": "code",
   "execution_count": 110,
   "id": "cec94404",
   "metadata": {},
   "outputs": [
    {
     "data": {
      "text/html": [
       "<div>\n",
       "<style scoped>\n",
       "    .dataframe tbody tr th:only-of-type {\n",
       "        vertical-align: middle;\n",
       "    }\n",
       "\n",
       "    .dataframe tbody tr th {\n",
       "        vertical-align: top;\n",
       "    }\n",
       "\n",
       "    .dataframe thead th {\n",
       "        text-align: right;\n",
       "    }\n",
       "</style>\n",
       "<table border=\"1\" class=\"dataframe\">\n",
       "  <thead>\n",
       "    <tr style=\"text-align: right;\">\n",
       "      <th></th>\n",
       "      <th>Unnamed: 0</th>\n",
       "      <th>url</th>\n",
       "      <th>url_mobile</th>\n",
       "      <th>title</th>\n",
       "      <th>seendate</th>\n",
       "      <th>socialimage</th>\n",
       "      <th>domain</th>\n",
       "      <th>language</th>\n",
       "      <th>sourcecountry</th>\n",
       "      <th>lemmetized_titles</th>\n",
       "      <th>relevance_probability</th>\n",
       "      <th>relevance_class</th>\n",
       "    </tr>\n",
       "  </thead>\n",
       "  <tbody>\n",
       "    <tr>\n",
       "      <th>0</th>\n",
       "      <td>0</td>\n",
       "      <td>https://www.digitaljournal.com/pr/longhash-ven...</td>\n",
       "      <td>NaN</td>\n",
       "      <td>LongHash Ventures and Terraform Labs Join Forc...</td>\n",
       "      <td>20220406T163000Z</td>\n",
       "      <td>NaN</td>\n",
       "      <td>digitaljournal.com</td>\n",
       "      <td>English</td>\n",
       "      <td>United States</td>\n",
       "      <td>longhash venture terraform lab join force adva...</td>\n",
       "      <td>0.608537</td>\n",
       "      <td>1.0</td>\n",
       "    </tr>\n",
       "    <tr>\n",
       "      <th>1</th>\n",
       "      <td>1</td>\n",
       "      <td>https://www.prnewswire.com/news-releases/terra...</td>\n",
       "      <td>NaN</td>\n",
       "      <td>TERRA . DO TO COMPETE IN FINAL 20 GROUP FOR ED...</td>\n",
       "      <td>20220406T001500Z</td>\n",
       "      <td>NaN</td>\n",
       "      <td>prnewswire.com</td>\n",
       "      <td>English</td>\n",
       "      <td>United States</td>\n",
       "      <td>terra compete final 20 group edtech competitio...</td>\n",
       "      <td>0.289958</td>\n",
       "      <td>0.0</td>\n",
       "    </tr>\n",
       "    <tr>\n",
       "      <th>2</th>\n",
       "      <td>2</td>\n",
       "      <td>https://www.fool.com/investing/2022/04/06/can-...</td>\n",
       "      <td>NaN</td>\n",
       "      <td>Can THORchain Keep Surging ? | The Motley Fool</td>\n",
       "      <td>20220406T120000Z</td>\n",
       "      <td>NaN</td>\n",
       "      <td>fool.com</td>\n",
       "      <td>English</td>\n",
       "      <td>United States</td>\n",
       "      <td>thorchain keep surging motley fool</td>\n",
       "      <td>0.288098</td>\n",
       "      <td>0.0</td>\n",
       "    </tr>\n",
       "    <tr>\n",
       "      <th>3</th>\n",
       "      <td>3</td>\n",
       "      <td>https://www.finanznachrichten.de/nachrichten-2...</td>\n",
       "      <td>NaN</td>\n",
       "      <td>Gold Terra Resource Corp : Gold Terra Intersec...</td>\n",
       "      <td>20220406T123000Z</td>\n",
       "      <td>NaN</td>\n",
       "      <td>finanznachrichten.de</td>\n",
       "      <td>English</td>\n",
       "      <td>Germany</td>\n",
       "      <td>gold terra resource corp gold terra intersects...</td>\n",
       "      <td>0.201722</td>\n",
       "      <td>0.0</td>\n",
       "    </tr>\n",
       "    <tr>\n",
       "      <th>4</th>\n",
       "      <td>4</td>\n",
       "      <td>https://economictimes.indiatimes.com/tech/tech...</td>\n",
       "      <td>NaN</td>\n",
       "      <td>Crypto wallet Leap raises $3 . 2 million throu...</td>\n",
       "      <td>20220406T114500Z</td>\n",
       "      <td>NaN</td>\n",
       "      <td>economictimes.indiatimes.com</td>\n",
       "      <td>English</td>\n",
       "      <td>India</td>\n",
       "      <td>crypto wallet leap raise 3 2 million token sale</td>\n",
       "      <td>0.719981</td>\n",
       "      <td>1.0</td>\n",
       "    </tr>\n",
       "  </tbody>\n",
       "</table>\n",
       "</div>"
      ],
      "text/plain": [
       "   Unnamed: 0                                                url url_mobile  \\\n",
       "0           0  https://www.digitaljournal.com/pr/longhash-ven...        NaN   \n",
       "1           1  https://www.prnewswire.com/news-releases/terra...        NaN   \n",
       "2           2  https://www.fool.com/investing/2022/04/06/can-...        NaN   \n",
       "3           3  https://www.finanznachrichten.de/nachrichten-2...        NaN   \n",
       "4           4  https://economictimes.indiatimes.com/tech/tech...        NaN   \n",
       "\n",
       "                                               title          seendate  \\\n",
       "0  LongHash Ventures and Terraform Labs Join Forc...  20220406T163000Z   \n",
       "1  TERRA . DO TO COMPETE IN FINAL 20 GROUP FOR ED...  20220406T001500Z   \n",
       "2     Can THORchain Keep Surging ? | The Motley Fool  20220406T120000Z   \n",
       "3  Gold Terra Resource Corp : Gold Terra Intersec...  20220406T123000Z   \n",
       "4  Crypto wallet Leap raises $3 . 2 million throu...  20220406T114500Z   \n",
       "\n",
       "  socialimage                        domain language  sourcecountry  \\\n",
       "0         NaN            digitaljournal.com  English  United States   \n",
       "1         NaN                prnewswire.com  English  United States   \n",
       "2         NaN                      fool.com  English  United States   \n",
       "3         NaN          finanznachrichten.de  English        Germany   \n",
       "4         NaN  economictimes.indiatimes.com  English          India   \n",
       "\n",
       "                                   lemmetized_titles  relevance_probability  \\\n",
       "0  longhash venture terraform lab join force adva...               0.608537   \n",
       "1  terra compete final 20 group edtech competitio...               0.289958   \n",
       "2                 thorchain keep surging motley fool               0.288098   \n",
       "3  gold terra resource corp gold terra intersects...               0.201722   \n",
       "4    crypto wallet leap raise 3 2 million token sale               0.719981   \n",
       "\n",
       "   relevance_class  \n",
       "0              1.0  \n",
       "1              0.0  \n",
       "2              0.0  \n",
       "3              0.0  \n",
       "4              1.0  "
      ]
     },
     "execution_count": 110,
     "metadata": {},
     "output_type": "execute_result"
    }
   ],
   "source": [
    "df_manoel.head(5)"
   ]
  },
  {
   "cell_type": "code",
   "execution_count": 111,
   "id": "fd7f3d75",
   "metadata": {},
   "outputs": [],
   "source": [
    "df_manoel.drop(['Unnamed: 0'],axis=1,inplace=True)"
   ]
  },
  {
   "cell_type": "code",
   "execution_count": 112,
   "id": "0d9f7198",
   "metadata": {},
   "outputs": [
    {
     "data": {
      "text/html": [
       "<div>\n",
       "<style scoped>\n",
       "    .dataframe tbody tr th:only-of-type {\n",
       "        vertical-align: middle;\n",
       "    }\n",
       "\n",
       "    .dataframe tbody tr th {\n",
       "        vertical-align: top;\n",
       "    }\n",
       "\n",
       "    .dataframe thead th {\n",
       "        text-align: right;\n",
       "    }\n",
       "</style>\n",
       "<table border=\"1\" class=\"dataframe\">\n",
       "  <thead>\n",
       "    <tr style=\"text-align: right;\">\n",
       "      <th></th>\n",
       "      <th>url</th>\n",
       "      <th>url_mobile</th>\n",
       "      <th>title</th>\n",
       "      <th>seendate</th>\n",
       "      <th>socialimage</th>\n",
       "      <th>domain</th>\n",
       "      <th>language</th>\n",
       "      <th>sourcecountry</th>\n",
       "      <th>lemmetized_titles</th>\n",
       "      <th>relevance_probability</th>\n",
       "      <th>relevance_class</th>\n",
       "    </tr>\n",
       "  </thead>\n",
       "  <tbody>\n",
       "    <tr>\n",
       "      <th>0</th>\n",
       "      <td>https://www.digitaljournal.com/pr/longhash-ven...</td>\n",
       "      <td>NaN</td>\n",
       "      <td>LongHash Ventures and Terraform Labs Join Forc...</td>\n",
       "      <td>20220406T163000Z</td>\n",
       "      <td>NaN</td>\n",
       "      <td>digitaljournal.com</td>\n",
       "      <td>English</td>\n",
       "      <td>United States</td>\n",
       "      <td>longhash venture terraform lab join force adva...</td>\n",
       "      <td>0.608537</td>\n",
       "      <td>1.0</td>\n",
       "    </tr>\n",
       "    <tr>\n",
       "      <th>1</th>\n",
       "      <td>https://www.prnewswire.com/news-releases/terra...</td>\n",
       "      <td>NaN</td>\n",
       "      <td>TERRA . DO TO COMPETE IN FINAL 20 GROUP FOR ED...</td>\n",
       "      <td>20220406T001500Z</td>\n",
       "      <td>NaN</td>\n",
       "      <td>prnewswire.com</td>\n",
       "      <td>English</td>\n",
       "      <td>United States</td>\n",
       "      <td>terra compete final 20 group edtech competitio...</td>\n",
       "      <td>0.289958</td>\n",
       "      <td>0.0</td>\n",
       "    </tr>\n",
       "    <tr>\n",
       "      <th>2</th>\n",
       "      <td>https://www.fool.com/investing/2022/04/06/can-...</td>\n",
       "      <td>NaN</td>\n",
       "      <td>Can THORchain Keep Surging ? | The Motley Fool</td>\n",
       "      <td>20220406T120000Z</td>\n",
       "      <td>NaN</td>\n",
       "      <td>fool.com</td>\n",
       "      <td>English</td>\n",
       "      <td>United States</td>\n",
       "      <td>thorchain keep surging motley fool</td>\n",
       "      <td>0.288098</td>\n",
       "      <td>0.0</td>\n",
       "    </tr>\n",
       "    <tr>\n",
       "      <th>3</th>\n",
       "      <td>https://www.finanznachrichten.de/nachrichten-2...</td>\n",
       "      <td>NaN</td>\n",
       "      <td>Gold Terra Resource Corp : Gold Terra Intersec...</td>\n",
       "      <td>20220406T123000Z</td>\n",
       "      <td>NaN</td>\n",
       "      <td>finanznachrichten.de</td>\n",
       "      <td>English</td>\n",
       "      <td>Germany</td>\n",
       "      <td>gold terra resource corp gold terra intersects...</td>\n",
       "      <td>0.201722</td>\n",
       "      <td>0.0</td>\n",
       "    </tr>\n",
       "    <tr>\n",
       "      <th>4</th>\n",
       "      <td>https://economictimes.indiatimes.com/tech/tech...</td>\n",
       "      <td>NaN</td>\n",
       "      <td>Crypto wallet Leap raises $3 . 2 million throu...</td>\n",
       "      <td>20220406T114500Z</td>\n",
       "      <td>NaN</td>\n",
       "      <td>economictimes.indiatimes.com</td>\n",
       "      <td>English</td>\n",
       "      <td>India</td>\n",
       "      <td>crypto wallet leap raise 3 2 million token sale</td>\n",
       "      <td>0.719981</td>\n",
       "      <td>1.0</td>\n",
       "    </tr>\n",
       "  </tbody>\n",
       "</table>\n",
       "</div>"
      ],
      "text/plain": [
       "                                                 url url_mobile  \\\n",
       "0  https://www.digitaljournal.com/pr/longhash-ven...        NaN   \n",
       "1  https://www.prnewswire.com/news-releases/terra...        NaN   \n",
       "2  https://www.fool.com/investing/2022/04/06/can-...        NaN   \n",
       "3  https://www.finanznachrichten.de/nachrichten-2...        NaN   \n",
       "4  https://economictimes.indiatimes.com/tech/tech...        NaN   \n",
       "\n",
       "                                               title          seendate  \\\n",
       "0  LongHash Ventures and Terraform Labs Join Forc...  20220406T163000Z   \n",
       "1  TERRA . DO TO COMPETE IN FINAL 20 GROUP FOR ED...  20220406T001500Z   \n",
       "2     Can THORchain Keep Surging ? | The Motley Fool  20220406T120000Z   \n",
       "3  Gold Terra Resource Corp : Gold Terra Intersec...  20220406T123000Z   \n",
       "4  Crypto wallet Leap raises $3 . 2 million throu...  20220406T114500Z   \n",
       "\n",
       "  socialimage                        domain language  sourcecountry  \\\n",
       "0         NaN            digitaljournal.com  English  United States   \n",
       "1         NaN                prnewswire.com  English  United States   \n",
       "2         NaN                      fool.com  English  United States   \n",
       "3         NaN          finanznachrichten.de  English        Germany   \n",
       "4         NaN  economictimes.indiatimes.com  English          India   \n",
       "\n",
       "                                   lemmetized_titles  relevance_probability  \\\n",
       "0  longhash venture terraform lab join force adva...               0.608537   \n",
       "1  terra compete final 20 group edtech competitio...               0.289958   \n",
       "2                 thorchain keep surging motley fool               0.288098   \n",
       "3  gold terra resource corp gold terra intersects...               0.201722   \n",
       "4    crypto wallet leap raise 3 2 million token sale               0.719981   \n",
       "\n",
       "   relevance_class  \n",
       "0              1.0  \n",
       "1              0.0  \n",
       "2              0.0  \n",
       "3              0.0  \n",
       "4              1.0  "
      ]
     },
     "execution_count": 112,
     "metadata": {},
     "output_type": "execute_result"
    }
   ],
   "source": [
    "df_manoel.head(5)"
   ]
  },
  {
   "cell_type": "code",
   "execution_count": 113,
   "id": "d878e8a2",
   "metadata": {},
   "outputs": [
    {
     "data": {
      "text/plain": [
       "82"
      ]
     },
     "execution_count": 113,
     "metadata": {},
     "output_type": "execute_result"
    }
   ],
   "source": [
    "df_manoel['lemmetized_titles'].isna().sum()"
   ]
  },
  {
   "cell_type": "code",
   "execution_count": 114,
   "id": "3d851acb",
   "metadata": {},
   "outputs": [],
   "source": [
    "#dropping blanks:\n",
    "df_manoel.dropna(subset=['lemmetized_titles'],inplace=True)"
   ]
  },
  {
   "cell_type": "code",
   "execution_count": 115,
   "id": "fe1e3d89",
   "metadata": {},
   "outputs": [
    {
     "data": {
      "text/plain": [
       "(243422, 11)"
      ]
     },
     "execution_count": 115,
     "metadata": {},
     "output_type": "execute_result"
    }
   ],
   "source": [
    "df_manoel.shape"
   ]
  },
  {
   "cell_type": "code",
   "execution_count": 116,
   "id": "6b476708",
   "metadata": {},
   "outputs": [],
   "source": [
    "X = df_manoel['lemmetized_titles'].tolist()"
   ]
  },
  {
   "cell_type": "code",
   "execution_count": 117,
   "id": "83946ab8",
   "metadata": {},
   "outputs": [
    {
     "data": {
      "text/plain": [
       "['longhash venture terraform lab join force advance web3 project terra blockchain',\n",
       " 'terra compete final 20 group edtech competition asu gsv summit san diego',\n",
       " 'thorchain keep surging motley fool',\n",
       " 'gold terra resource corp gold terra intersects 6 41 gold 26 50 metre including 14 15 g 5 50 meter yellorex zone yellowknife nwt drilling continues con mine property',\n",
       " 'crypto wallet leap raise 3 2 million token sale',\n",
       " 'top photo day jp reuters com',\n",
       " 'speakeasy bar columbus five try',\n",
       " 'shop 111 west 57th street supertall tower one important step closer completion',\n",
       " 'abb technology help copenhagen airport become denmark largest ev charging site',\n",
       " 'longhash announces partnership terraform lab',\n",
       " 'renowned canadian conductor boris brott died',\n",
       " 'bitcoin ethereum positive momentum revers',\n",
       " '3 restaurant dine april',\n",
       " 'national 2022 season exciting new thing national park dc',\n",
       " 'technology focus national park prepares new season',\n",
       " 'spinlaunch rocket flinging launch system loft nasa payload test flight year',\n",
       " 'despite local arrest muncie ball state see catalytic converter theft',\n",
       " 'blast past time capsule',\n",
       " 'aquarium drunkard present dinner party kamasi washington robert glasper terrace martin may 5 6',\n",
       " 'forest fire ministry monitor hotspot dry season approach',\n",
       " 'cargo manifest list car sunken felicity ace',\n",
       " 'gold terra intersects 6 41 gold 26 50 metre including 14 15 g 5 50 meter yellorex zone yellowknife nwt drilling continues con mine property',\n",
       " 'bitcoin slide 44k april first trader warns something btc',\n",
       " 'terra 360 abb brings world fastest charger serbia energetski portal srbije',\n",
       " 'aldi deal april 6 12 spiral sliced ham pork roast butter grape mandarin orange juice wral com',\n",
       " 'defi technology expands availability valour polkadot solana cardano etps euronext exchange',\n",
       " 'top aussie winemaker st hugo release 700 decanter inspired f1 star daniel ricciardo famous shoey celebration',\n",
       " 'globe life field arlington debut 3 new food stand 2022 season',\n",
       " 'drone software maker vhive raise 25m nyc tech news new york business journal',\n",
       " 'disney became nuclear power',\n",
       " 'three wheeler market insight growth challenge future scope 2028 atul auto limited chongqing zongshen tricycle manufacture co ltd',\n",
       " 'dappradar q1 2022 report 2 4 million daily active user dapps despite unfavorable global event blockchain security concern',\n",
       " 'life honored season open perry newspaper',\n",
       " 'scandifornia style highland park renovation make case flipping',\n",
       " 'ultimate guide mediterranean decor',\n",
       " 'county end vaccination mandate new hire testing existing worker',\n",
       " 'supervisor ok updated bylaw human relation commission',\n",
       " 'appellation st helena host wine food bash',\n",
       " 'help local black owned business brunching river',\n",
       " 'echo chamber history today',\n",
       " '5 charming village south france next road trip',\n",
       " 'festival result monday april 4',\n",
       " 'charming town french riviera',\n",
       " 'chilean general visit security assistance enterprise',\n",
       " 'obituary ray wickham fauquier',\n",
       " 'adshares price 4 last 7 day ad',\n",
       " 'nexalt xlt trading 62 4 week',\n",
       " 'bittorrent price 0 1 week bttold',\n",
       " 'world running option hit climate goal',\n",
       " 'former cape cod man launched message bottle 1995 found france',\n",
       " 'tezos one day volume reach 105 05 million xtz',\n",
       " 'tezos xtz trading 15 lower last 7 day',\n",
       " 'travel bird eye view alabama',\n",
       " 'geothermal power infrastructure component market may set new growth story terra gen power enel green power k orka mitsubishi heavy industry turboden',\n",
       " 'drone market report 2022 27 scope trend growth demand analysis outlook',\n",
       " 'bloodline presented mill ridge farm arkansas derby winner cyberknife root claiming race horse racing news',\n",
       " 'lithium australia nl selects lycopodium drive expanded dfs lfp production plant',\n",
       " 'jepson center telfair academy free local saturday sunday',\n",
       " 'toyota tundra 2nd generation xk50 check buy',\n",
       " 'april garden make prime time planting',\n",
       " 'reflection value',\n",
       " 'apology begin path reconciliation',\n",
       " 'maine architect built marijuana dispensary break stereotype',\n",
       " 'wild side wildlife doc',\n",
       " 'prof dr ahmed sharif oh comrade dear comrade beloved comrade',\n",
       " 'digital power optimization form partnership combine hydro power cryptocurrency mining cascade digital power',\n",
       " 'stock slide oil rise crypto theft live update',\n",
       " 'dubai new crypto regulator brings uae firm bitoasis wing',\n",
       " 'auc professor publish landmark report cryptocurrency africa american university cairo',\n",
       " 'smi vantage begin installing cryptocurrency mining machine melaka complete 3 100 installation se asia end may',\n",
       " 'u 600m stolen one biggest crypto heist',\n",
       " 'cryptocurrency scam many irish people losing life saving garda warns',\n",
       " 'japan tighten crypto rule ensure effectiveness anti russian sanction report say',\n",
       " 'heist land blow crypto move mainstream',\n",
       " 'non fungible token blockchain company ronin hit 615 million crypto heist',\n",
       " 'coindesk exec say latest crypto heist one biggest history',\n",
       " 'blockchain network ronin hit 552 million crypto heist',\n",
       " 'grab tech head quits crypto gaming startup ethlas',\n",
       " 'bybit appoints alphan gogus first general manager turkey market',\n",
       " 'hacker stole 500m cryptocurrency record making heist ronin say',\n",
       " 'hacker steal 600 axie infinity heist',\n",
       " 'dubai crypto regulator vara brings bitoasis wing',\n",
       " 'helium raise 200m decentralized wireless future',\n",
       " 'several u state regulator crack voyager digital',\n",
       " 'alberta aim create regulatory sandbox innovative financial technology firm',\n",
       " 'klubcoin token clubbers festival goer electronic music fan',\n",
       " 'cathie wood watch ark buy crypto stock buy sell ev',\n",
       " 'fear mount crypto firm exodus deadline approach',\n",
       " 'ex paytm employee join crypto focused transak double india expansion plan',\n",
       " 'lionel messi sign 20 million deal promote crypto fan token firm socios',\n",
       " 'messi sign 27 million deal promote crypto fan token firm socios',\n",
       " '7 fintech stock set rise ash paypal plunge',\n",
       " 'greater miami chamber commerce host 13th annual economic summit big 105 9',\n",
       " 'web3 really matter tech leader say',\n",
       " 'crypto heist hacker steal 600 mn major crypto heist',\n",
       " 'hacker steal 600m major crypto heist',\n",
       " 'hacker steal 600 mn major crypto heist',\n",
       " 'hacker steal u 600mil major crypto heist',\n",
       " 'hacker steal 600 million one biggest ever crypto heist',\n",
       " 'cryptocurrency lionel messi becomes socios com global brand ambassador promote crypto fan token',\n",
       " 'lady narrates efcc operative raided hotel ibadan broke door arrested lodger',\n",
       " 'hacker steal u 600m major crypto heist money',\n",
       " 'trust one hunt crypto king review coin misdemeanor',\n",
       " 'hacker steal nearly r9bn biggest crypto heist ever nobody noticed six day',\n",
       " 'hacker steal 600 mn one major crypto heist',\n",
       " '7th pay commission da dearness allowance dearness relief dr hiked govt employee pensioner',\n",
       " 'u deputy treasury secretary warns crypto exchange helping russia evade sanction',\n",
       " 'trust one netflix new true crime hit crypto king gerry cotten',\n",
       " 'robinhood crypto head depart',\n",
       " 'daim use trust provides benefit digital asset owner',\n",
       " 'north korean threat actor target news outlet fintechs google chrome vulnerability',\n",
       " 'cryptocurrency entrepreneur enters gop senate race',\n",
       " 'court find el paso man firm liable defrauding forex cryptocurrency client 7 2 million',\n",
       " 'cftc chairman rostin behnam delivers remark fia international future industry conference finance banking',\n",
       " 'better business bureau cryptocurrency ripe fraud financial loss',\n",
       " 'game developer risingwings enters global blockchain game market competz',\n",
       " 'cryptocurrency exchange bybit receives principle',\n",
       " 'expert proffer way firm naira hail cbn managed floating',\n",
       " 'bybit announces plan move global headquarters dubai',\n",
       " 'spot scam mimic irs charity',\n",
       " 'samsung tv let buy sell hold nfts',\n",
       " 'blockchain com raise new funding 14 billion valuation',\n",
       " 'adani wilmar adani power adani transmission share price check latest',\n",
       " 'crypto exchange announces zero fee window aid investor ahead new tax regime',\n",
       " 'largest crypto expo south east asia',\n",
       " 'robinhood extends trading hour ultimate goal 24 7 investing need know',\n",
       " 'kyle lowry guard sumo wrestler hilarious new commercial video',\n",
       " 'crypto investor erik finman warning big tech tyranny social credit system',\n",
       " 'lamar say wish protected khloe reflects smith slap',\n",
       " 'crypto operation move forward brainerd',\n",
       " 'crypto investor erik finman warning big tech tyranny social credit system ricochet',\n",
       " 'bank italy ban digital bank n26 accepting new customer offering new service existing customer',\n",
       " 'mp suggests national bank create cryptocurrency kyrgyzstan',\n",
       " 'google urge user update browser hacking fear',\n",
       " 'bank set ask president elect ease regulation digital asset related service',\n",
       " 'launchbytenews u set launch new android io apps',\n",
       " 'fca extends key crypto deadline revolut 11 applicant',\n",
       " 'two three uae resident interested crypto dubai virtual asset law deepens trust trading report',\n",
       " 'central bank sudan warns risk associated cryptocurrency regulation bitcoin news',\n",
       " 'japan step crypto regulation russia nhk world japan news',\n",
       " '1 chart make robinhood investor nervous',\n",
       " 'avoid falling victim investment fraud',\n",
       " 'vietnam creating legal framework legalize cryptocurrency dailycoin',\n",
       " 'bake n latest news view review update photo video bake n',\n",
       " 'e naira little adoption',\n",
       " 'new crypto survey show 53 american think cryptocurrencies future finance',\n",
       " 'govt understand crypto hence strict regulation priyanka chaturvedi',\n",
       " 'europe breaking news correspondent finance market',\n",
       " '10 question ask crypto tax lawyer',\n",
       " 'ftx europe expansion negotiation united kingdom regulatory body',\n",
       " 'eu considering sanction russian bank coming day',\n",
       " 'alberta bill proposes regulatory sandbox help financial tech company grow infonews',\n",
       " 'second biggest crypto heist yet hacker steal 500 million axie infinity game network',\n",
       " 'dubai looking central hub cryptocurrencies',\n",
       " 'etmarkets conclave crucial aspect taxation crypto india',\n",
       " 'axie infinity blockchain ronin hacked 600m',\n",
       " 'cryptocurrency exchange bitoasis applies new dubai virtual asset licence',\n",
       " 'new world currency disorder loom',\n",
       " 'ministry economy crypto com explore opportunity promote digital investment',\n",
       " 'hacker steal 500 million crypto axie infinity network',\n",
       " 'eu official explore new sanction russian bank wsj',\n",
       " 'robinhood stock soar announcement extended trading hour',\n",
       " 'almost 50 german motivated invest crypto',\n",
       " 'congressional blockchain caucus challenge sec chairman web3 enforcement skadden arp slate meagher flom llp',\n",
       " 'homejab launch nft marketplace real estate image',\n",
       " 'biden crypto executive order portends dollar destruction liberty erosion',\n",
       " 'china apprehension ban nfts hopeful sign investor',\n",
       " 'nyu stern school business start fintech master 2023',\n",
       " 'nifty gateway partner samsung electronics develop industry first smart tv nft platform',\n",
       " 'zilliqa price mooning zil go next',\n",
       " 'watch estevan getting new cryptocurrency atm discoverestevan com local news weather sport free classified business listing estevan saskatchewan',\n",
       " 'mil osi new zealand cryptocurrencies take hold nz must address climate impact colossal energy demand',\n",
       " 'jairo gonz lez speaks dominicana inteligente tech talk event 2022 advance blockchain fintech technology',\n",
       " 'fitnessvr first health fitness metaverse officially',\n",
       " 'harvest trading cap jairo gonz lez speaks dominicana inteligente tech talk event 2022 advance blockchain fintech technology',\n",
       " 'voyager digital fall cease desist order state',\n",
       " 'fitnessvr first health fitness metaverse officially incorporates dubai comunicados edici n united state',\n",
       " 'dubai metaverse dubai municipality create futuristic virtual version city',\n",
       " '35 middle aged adult invested cryptocurrencies hit 96',\n",
       " 'brazilian company want save amazon nfts',\n",
       " 'fitnessvr first health fitness metaverse officially incorporates dubai',\n",
       " 'jairo gonz lez speaks dominicana inteligente tech talk event 2022 advance blockchain fintech technology comunicados edici n united state',\n",
       " 'jairo gonz lez speaks dominicana inteligente tech talk event 2022 advance blockchain fintech technology news release english edition',\n",
       " 'investegate fitnessvr announcement fitnessvr fitnessvr first health fitness metaverse officially incorporates dubai',\n",
       " 'investegate harvest trading cap announcement harvest trading cap jairo gonz lez speaks dominicana inteligente tech talk event 2022 advance blockchain fintech technology',\n",
       " 'eu readying new russia sanction may retaliate rouble payment gas',\n",
       " 'cryptocurrency expansion continue 2022',\n",
       " 'today tax billionaire minimum income tax cryptocurrency tax provision biden 2023 budget proposal miller nash llp',\n",
       " 'getting investment advice social medium good idea',\n",
       " 'ignore investor',\n",
       " 'hyderabad police arrest nigerian national mahesh bank e fraud case',\n",
       " 'emea morning briefing stock struggle despite 2',\n",
       " 'cbi global agreement atari unwind cross shareholding terminate license agreement granted atari cbi',\n",
       " 'whole new world metaverse thailand',\n",
       " 'tennessee banker association offer access banker helping banker member bank',\n",
       " 'world government summit 2022 dubai announces plan enter metaverse',\n",
       " 'nuvei xt com team enhance onboarding new user',\n",
       " 'bright future vietnam blockchain industry without challenge',\n",
       " 'dubai set world next crypto capital need know',\n",
       " 'stock market news today russia see breakthrough peace talk',\n",
       " 'bill gross say meme stock gamestop amc lottery ticket',\n",
       " 'nuvei xt com team enhance onboarding new u',\n",
       " 'bright future vietnam blockchain industry',\n",
       " 'youhodler enriches kyc verification process sumsub',\n",
       " '44 german open investing crypto report',\n",
       " 'ennui early retiree share hard lesson vnexpress international',\n",
       " 'bright future vietnam blockchain industry',\n",
       " 'metaverse influence apparel universe',\n",
       " 'wall street journal hacker steal 500 million crypto axie infinity network',\n",
       " 'explainer ronin 615 million crypto heist',\n",
       " 'axie infinity 615 million crypto hack know heist',\n",
       " 'jeff koons launch nft backed sculpture moon',\n",
       " 'vietnam prepares legal framework establish crypto friendly policy',\n",
       " 'magnitude announces client growth entry new market',\n",
       " 'explainer ronin 615 million crypto heist',\n",
       " 'dollar eas euro rise hope progress ukraine peace talk',\n",
       " 'explainer ronin 615 million crypto heist one america news network',\n",
       " 'monacoin trading 1 8 higher last week mona',\n",
       " 'celestial burden john mangun',\n",
       " 'high potential tech firm chosen fintech innovation lab new york',\n",
       " 'biden harris administration take digital asset regulation morgan lewis',\n",
       " 'cybermusic reach 24 hour volume 1 00 cymt',\n",
       " 'aave coin continues bull run 31 surge today buy',\n",
       " 'bitcoin king cryptocurrency actually buy',\n",
       " 'buying bitcoin directly better investing crypto mining stock based valuation model',\n",
       " 'bitcoin pristine collateral',\n",
       " 'billionaire michael saylor set bolster confidence bitcoin',\n",
       " 'brea police searching bitcoin scammer',\n",
       " 'microstrategy saylor say market ready bitcoin bond',\n",
       " 'invest bitcoin bill gate think',\n",
       " 'bitcoin miner dusting kentucky coal town spurred state crypto tax incentive techcrunch',\n",
       " 'bitcoin adoption quickly accelerating bitcoin magazine bitcoin news article chart guide',\n",
       " 'microstrategy secures bitcoin collateralized loan silvergate bank buy 250m worth btc',\n",
       " 'bitcoin greenhouse gas problem coding tweak could fix',\n",
       " 'bitcoin hold ground touching highest year money',\n",
       " 'crypto stock fail match scale bitcoin blistering rally',\n",
       " 'chris larsen bitcoin focused climate campaign receives backlash community',\n",
       " 'u resident purchase stx directly within hiro wallet',\n",
       " 'bitcoin democratic part five bitcoin magazine bitcoin news article chart guide',\n",
       " 'bitcoin price steady crypto heist prominent whale getting bigger',\n",
       " 'sec could approve spot bitcoin etf early 2023 bloomberg analyst',\n",
       " 'factbox crypto biggest hack heist',\n",
       " 'factbox crypto biggest hack heist one america news network',\n",
       " 'bitcoin whale transfer 4 000 btc gemini coinbase',\n",
       " 'united state house price index hpi mom',\n",
       " 'bitcoin pull back 3 month high',\n",
       " 'share stronghold digital mining crashed today',\n",
       " 'uber ceo say crypto need become efficient payment',\n",
       " 'argentina promote large scale bitcoin mining dailycoin',\n",
       " 'chickenfast unique hassle free automated cloud mining',\n",
       " 'greek student arrested la vega 500 000 bitcoin scam charge',\n",
       " 'bitcoin sentiment hit greed 2022 first amid call 45 000 btc price pullback',\n",
       " 'cryptocurrencies take hold nz must address climate impact colossal energy demand',\n",
       " 'blockware mining name jackie price chief operating',\n",
       " 'bitcoin mining facility coming corpus christi',\n",
       " 'poilievre counter obnoxious nerd image revealing bitcoin',\n",
       " 'cryptocurrencies take hold nz must address climate',\n",
       " 'finish 5 thing income tax rule change april 1',\n",
       " 'bitcoin little changed day remains 200 day moving average',\n",
       " 'cryptocurrency nfts',\n",
       " 'address climate impact cryptocurrencies',\n",
       " 'double spend scam suspect wanted brea',\n",
       " 'mysterious death 30 yr old conman stole 215m bitcoin',\n",
       " 'marathon digital holding augments executive leadership',\n",
       " 'validus power corp startmining announce canadian data centre expansion',\n",
       " 'surfing com partner heylayer launch first nft series wave rider club',\n",
       " 'thing change time part ii current financial trend',\n",
       " 'bitcoin miner stronghold digital issue 2022 warning stock sinking',\n",
       " 'vietnam create legal framework cryptocurrency',\n",
       " 'exxonmobil bitcoin play show crypto isnt climate friendly',\n",
       " 'bitcoin education system bitcoin magazine bitcoin news article chart guide',\n",
       " 'blockchain game etheking level bitcoin man herbert sim investor advisor news',\n",
       " 'entrepreneur samir tabar drive evolution environmentally responsible crypto',\n",
       " 'blockchain game etheking level bitcoin man herbert sim investor advisor',\n",
       " 'marathon digital name hugh gallagher new cfo',\n",
       " 'trading armstrong economics',\n",
       " 'bitcoin miner tap wisconsin hydro plant bid control power cost',\n",
       " 'thrilling new netflix show must watch true crime fan',\n",
       " 'yield curve wall street food shortage bitcoin magazine bitcoin news article chart guide',\n",
       " '3d projector market grow exponential rate',\n",
       " 'government controlled cryptocurrencies could lead dystopian future',\n",
       " '3 reason prefer gold stock bitcoin 2022 motley fool canada',\n",
       " 'police seek mr flashy shoe bitcoin swindle nbc los angeles',\n",
       " 'sign progress russia ukraine talk lift stock dollar skid',\n",
       " 'bet formula one using crypto',\n",
       " 'decentralization crypto greatest strength great',\n",
       " 'dubai virtual asset law could global model cryptocurrency regulation',\n",
       " '5 thing didnt know bitcoin',\n",
       " 'bitcoin 2 market capitalization reach 16 23 million btc2',\n",
       " 'nothing growing fast cryptocurrency kyrgyz mp want national crypto',\n",
       " 'bitcoin hit 24 hour trading volume 28 18 billion btc',\n",
       " 'anthony scaramucci bitcoin hit 100k within two year',\n",
       " 'rh defended well fargo long term upside',\n",
       " 'stronghold digital mining share drop 4q loss revenue miss',\n",
       " 'action fraud issue warning fake fundraising email',\n",
       " 'key participant ottawa convoy protest yet charged',\n",
       " 'new math predict financial bubble pop',\n",
       " 'ethan lou rising cost compliance may setting crypto sector wave consolidation',\n",
       " 'bitcoin pull back 48 3k could see correction',\n",
       " 'crypto king gerald cotten gerry',\n",
       " 'stronghold digital mining share plunge third 52 week low 4q loss',\n",
       " 'bitcoin nft market tremendously grow 2072',\n",
       " 'ethereum price hit local market top',\n",
       " '3 500 resistance level biggest challenge ethereum price',\n",
       " '600 billion crypto boom bitcoin price prediction ethereum supply squeeze',\n",
       " 'opera take giant leap web3 integrates solana polygon starkex others',\n",
       " 'sequoia ftx venture a16z lead 135 million investment crypto firm breaking barrier blockchains',\n",
       " 'hacker stole nearly 600 million nft game one biggest crypto heist',\n",
       " 'ethereum dogecoin convex finance dropping today',\n",
       " 'hacker steal 600 million cryptocurrency ronin blockchain network',\n",
       " '800 million worth crypto stolen video game one largest hack history',\n",
       " 'axie infinity plummet 7 news bridge hack',\n",
       " 'crypto bridge hack reach 1 billion little year',\n",
       " 'hacker break axie infinity ronin network 600 million stolen',\n",
       " 'make million next ethereum pacman frog built solana network',\n",
       " '625m ronin blockchain hack show need better security web3 world',\n",
       " 'hacker steal 600 million video game axie infinity ronin network',\n",
       " 'axie infinity hack result 600m cryptocurrency heist',\n",
       " 'axie infinity nft network hacked 625 million stolen massive digital heist',\n",
       " 'fonbnk app using crypto help people convert sim card credit card',\n",
       " 'bored ape yacht club sale surge drive nft sale 300 million last week',\n",
       " '2 top cryptocurrencies buy never sell',\n",
       " 'huge deficiency crypto industry reel 600 million hack',\n",
       " '14 800 asrock mining rig powered 12 playstation 5 chip',\n",
       " 'norwegian web browser opera integrates blockchains crypto wallet functionality',\n",
       " 'know getting started cryptocurrency like bitcoin ethereum nbc 7 san diego',\n",
       " 'campaign propels change bitcoin mining method prot',\n",
       " 'investigator play catch hacker steal r9bn record crypto heist',\n",
       " 'huge deficiency crypto industry reel 600 mn hack',\n",
       " 'spain storied department store getting crypto quartz',\n",
       " 'expect solana price opensea integration',\n",
       " 'recent 550 million defi hack could severe effect axie infinity price',\n",
       " 'ronin blockchain network hacked 625 mn stolen biggest reported crypto hack date',\n",
       " 'hacker steal 615 million ronin network supporting popular game axie infinity',\n",
       " 'safu launch volt inu announces migration plan release p2e game',\n",
       " 'crypto report cryptos hold tight bitcoin energy use could slashed 99 coding changed',\n",
       " 'opensea list solana nfts april',\n",
       " 'ronin crypto hack worth roughly 625m went unnoticed week',\n",
       " 'axie infinity confirms 615 million cryptocurrency hack console associate p c',\n",
       " 'readen holding corporation otc pink rhco announces listing oktoken uniswap',\n",
       " 'inside 625 million axie hack mean crypto gaming',\n",
       " 'nvidia ransomware attack decision make harder use gpus mine crypto',\n",
       " 'top 10 cryptocurrency heist',\n",
       " 'cryptocurrency price today top cryptocurrency price today bitcoin dogecoin fall marginally terra gain 4',\n",
       " 'cryptocurrency news today bitcoin gain 10 000 two week',\n",
       " 'genesis comment bitcoin crypto recent run',\n",
       " '615m stolen ronin network blockchain behind axie infinity game',\n",
       " 'acrana compare big coin solana avalanche',\n",
       " 'solana price 50 two week 120 hard crack',\n",
       " 'pro trader curb enthusiasm ethereum confirms 3 400 support',\n",
       " 'ethereum proof stake transition save planet',\n",
       " 'maharashta govt issue caste certificate using blockchain tech',\n",
       " 'xswap protocol dex look provide many useful feature service ahead mainnet launch march 31st',\n",
       " 'amd crypto mining rig rumoured use recycled ps5 chip',\n",
       " 'frogcoin fight forest attracts attention',\n",
       " 'biggest ever crypto hack happened ronin bridge attack',\n",
       " 'big shiba inu biggest dao ever conceived',\n",
       " 'marathon digital bottomed 20',\n",
       " 'ethereum merge',\n",
       " 'former interpol bassist carlos dengler releasing new age album stream track',\n",
       " 'crypto heist hacker steal us600m blockchain connected online game',\n",
       " 'hacker steal 620 million massive gaming crypto heist',\n",
       " 'ukrainian rescue token launching',\n",
       " 'nft nfts 2022 popular trend marketplace',\n",
       " 'maker axie infinity suffered one largest heist crypto history',\n",
       " 'online game hit massive crypto heist',\n",
       " 'alpha venture leading community based venture capital firm italy',\n",
       " 'international artist successfully sell nft artwork',\n",
       " 'hacker steal 625 mn crypto blockchain platform ro',\n",
       " 'ftse 100 take pause tuesday upbeat sentiment',\n",
       " 'spain storied department store getting crypto',\n",
       " 'sushiswap price break plan upgrade multi chain protocol',\n",
       " 'drift club racer nft',\n",
       " 'blockchain enterprise application market going boom ericsson ethereum everledger',\n",
       " 'everything need know web3 according blockchain engineer',\n",
       " 'amd asrock built 15k crypto mining rig seemingly recycled playstation 5 apus',\n",
       " 'robert kiyosaki say dollar implode buy bitcoin',\n",
       " 'crypto executive fundraising democrat biden regulator eye industry',\n",
       " 'building alignment metaverse',\n",
       " 'fan token creator socios com score lionel messi first ever global ambassador',\n",
       " 'tech company build bank bridge legacy system blockchains',\n",
       " 'u lawmaker propose new bill create digital dollar alibaba lead 60m investment round nreal',\n",
       " 'opinion crypto latest promise lowering home mortgage cost',\n",
       " 'hacker steal 625 mn crypto blockchain platform ronin',\n",
       " 'forex today dollar extends decline alongside yield eye key u eu data',\n",
       " 'bitcoin price jump 50 000 first time year',\n",
       " 'nameless ape take nft next level uniquely interactive experience holder',\n",
       " 'axie infinity ronin network loss 615m recent hack',\n",
       " 'hedera network announces 155m grant foster defi development',\n",
       " 'boosting india economy creating job realising true potential cryptos',\n",
       " 'deltachain hit market capitalization 272 093 75 delta',\n",
       " 'cyber attacker nft blockchain heist net hundred million stolen cryptocurrency',\n",
       " 'bitcoin price consolidates 47k analyst call upside near term',\n",
       " 'defi mean paypal motley fool',\n",
       " 'polygon launch web3 user id keep personal detail anonymous',\n",
       " 'axie infinity ronin network loses 625 million hacker',\n",
       " 'xio price top 0 24 exchange xio',\n",
       " 'decentralization movement global company moss releasing governance token',\n",
       " 'evencoin achieves market capitalization 42 614 42 evn',\n",
       " 'beefy finance 24 hour trading volume hit 1 93 million bifi',\n",
       " 'prop token prop price 3 9 last 7 day',\n",
       " 'tech leader delusional think web3 give power back people',\n",
       " 'roobee price 7 7 last week roobee',\n",
       " 'world government summit 2022 asks ready new world order',\n",
       " 'embily launch crypto operation otc service business client',\n",
       " 'hacker steal 600 million one biggest crypto heist',\n",
       " 'hacker steal 600 million one biggest',\n",
       " 'cybee dao largest nft community provides passive income benefit holder',\n",
       " 'affyn metaverse listed bitmart following 20 million funding round',\n",
       " 'itwire ethereum linked sidechain ronin loses u 600m exploit',\n",
       " 'hacker steal 600 million axie infinity heist',\n",
       " 'crypto gaming company booming',\n",
       " 'hacker steal 600 million one biggest crypto heist',\n",
       " 'hacker steal 600m one biggest crypto heist',\n",
       " 'filipino ride nft gold rush predicted bust',\n",
       " 'mustangcoin mst trading 42 7 lower last 7 day',\n",
       " 'acoin price top 0 0189 exchange acoin',\n",
       " 'chandler accepting cryptocurrency utility payment',\n",
       " 'curecoin cure achieves market capitalization 1 57 million',\n",
       " 'e gulden price hit 0 12 exchange efl',\n",
       " 'chainlink price delay 30 upswing bull hit minor blockade',\n",
       " 'last night ministry house blue',\n",
       " 'get solana ecosystem token sky rocket value link wave grt audio',\n",
       " 'belfrics group plan open 200 phygital centre hindu businessline',\n",
       " 'blockpass support h3ro3s play earn system kyc identity solution',\n",
       " 'soar fi reach 1 day volume 50 00 soar',\n",
       " 'yffii finance yffii market cap top 500 28',\n",
       " 'jarvis reach market cap 486 114 49 jar',\n",
       " 'truedeck trading 129 2 last week tdp',\n",
       " 'gitcoin price hit 7 88 top exchange gtc',\n",
       " 'exrnchain exrn price top 0 0000 exchange',\n",
       " 'raise reach 1 day volume 491 00 raise',\n",
       " 'xceltoken plus market capitalization achieves 396 818 49 xlab',\n",
       " 'dragon coin drg market capitalization hit 1 44 million',\n",
       " 'eltcoin eltcoin price top 0 0005 exchange',\n",
       " 'lendingblock price 0 2 last week lnd',\n",
       " 'coin trading 25 higher last week',\n",
       " 'databroker dtx top one day volume 57 00',\n",
       " 'tierion top 24 hour volume 48 568 00 tnt',\n",
       " 'trias try price reach 0 0003 top exchange',\n",
       " 'exmo coin achieves market capitalization 3 71 million exm',\n",
       " 'ellipsis achieves market capitalization 149 09 million eps',\n",
       " 'ixt one day volume top 1 489 00 ixt',\n",
       " 'sonm bep 20 snm achieves market capitalization 7 72 million',\n",
       " 'smart mfg mfg trading 15 3 last week',\n",
       " 'moviebloc market capitalization reach 170 31 million mbl',\n",
       " 'apix apix market capitalization top 5 03 million',\n",
       " 'genesis vision gvt price hit 0 37 exchange',\n",
       " 'savix svx 24 hour volume hit 384 00',\n",
       " 'funfair one day trading volume top 47 11 million fun',\n",
       " 'aleph im 1 day volume top 566 732 00 aleph',\n",
       " 'sentivate trading 11 week sntvt',\n",
       " 'humanscape market capitalization reach 246 61 million hum',\n",
       " 'blockpass hit one day trading volume 97 00 pas',\n",
       " 'keeperdao market capitalization reach 86 14 million rook',\n",
       " 'melon mln market cap top 57 42 million',\n",
       " 'idex idex market cap top 103 62 million',\n",
       " 'weown chx price hit 0 0087 exchange',\n",
       " 'venus reward token price top 0 0006 major exchange vrt',\n",
       " 'swarm market capitalization achieves 1 63 million swm',\n",
       " 'zeon reach market cap 25 16 million zeon',\n",
       " 'reef reef hit market cap 212 24 million',\n",
       " 'paycent pyn 24 hour volume hit 2 00',\n",
       " 'digitex dgtx top 1 day volume 280 841 00',\n",
       " 'orbit chain price 0 6 week orc',\n",
       " 'anchor neural world trading 3 4 week anw',\n",
       " 'patientory ptoy price hit 0 0075 major exchange',\n",
       " 'stasis euro eurs price hit 1 11 exchange',\n",
       " 'storj market capitalization hit 542 13 million storj',\n",
       " 'cova cova reach 24 hour trading volume 2 587 00',\n",
       " 'tripio trio reach market capitalization 1 34 million',\n",
       " 'stox stx market cap hit 470 729 25',\n",
       " 'gather gth achieves market capitalization 4 46 million',\n",
       " 'electrify asia price 7 7 last 7 day elec',\n",
       " 'global rental token grt reach market capitalization 555 573 82',\n",
       " 'mysterium myst trading 8 9 last week',\n",
       " 'youcash 24 hour trading volume hit 1 703 00 youc',\n",
       " 'cashaa ca top 1 day volume 576 477 00',\n",
       " 'clintex cti cti price top 0 0262 major exchange',\n",
       " 'everex hit market capitalization 596 944 27 evx',\n",
       " 'hapi price top 35 67 major exchange hapi',\n",
       " 'naviaddress navi price hit 0 0002',\n",
       " 'pundi x achieves market cap 1 78 billion npxs',\n",
       " 'vidt datalink vidt trading 11 5 last 7 day',\n",
       " 'iht real estate protocol reach market cap 398 500 22 iht',\n",
       " 'aergo aergo achieves market capitalization 108 34 million',\n",
       " 'defi pulse index dpi price top 206 85 major exchange',\n",
       " 'coinsbit token 24 hour trading volume reach 8 716 00 cnb',\n",
       " 'coin artist trading 13 3 higher week coin',\n",
       " 'definer fin market cap achieves 7 94 million',\n",
       " 'blox cdt one day volume hit 620 892 00',\n",
       " 'spectre ai dividend token sxdt price reach 0 12 exchange',\n",
       " 'valor token price top 0 55 valor',\n",
       " 'trueusd trading 0 week tusd',\n",
       " 'commerceblock cbt price hit 0 0153 major exchange',\n",
       " 'int chain int hit market cap 10 81 million',\n",
       " 'araw araw hit market cap 36 920 32',\n",
       " 'rigel protocol trading 8 lower week rgp',\n",
       " 'gowithmi gmat 24 hour trading volume reach 4 163 00',\n",
       " 'bluzelle blz 1 day volume top 9 86 million',\n",
       " 'decentralized vulnerability platform price hit 0 0014 exchange dvp',\n",
       " 'fetch ai fet trading 17 8 higher week',\n",
       " 'cappasity top 1 day trading volume 269 975 00 capp',\n",
       " 'trueusd reach market capitalization 1 37 billion tusd',\n",
       " '1inch price top 3 77 1inch',\n",
       " 'mco reach market capitalization 251 01 million mco',\n",
       " 'cudos market capitalization hit 73 31 million cudos',\n",
       " 'dark horse look past uranus organism ancient cosmos',\n",
       " 'brain computer startup aim treat depression without opening skull',\n",
       " 'brain computer startup aim treat depression without opening skull',\n",
       " 'make million cosmos atom near protocol near aquasis protocol aqs',\n",
       " 'meet cast julia',\n",
       " 'tag james webb space telescope nbc new york',\n",
       " 'tag james webb space telescope nbc4 washington',\n",
       " 'tag james webb space telescope nbc los angeles',\n",
       " 'tag james webb space telescope nbc chicago',\n",
       " 'tag james webb space telescope nbc connecticut',\n",
       " 'tag james webb space telescope nbc10 philadelphia',\n",
       " 'best bar hook john carroll cwru student 2005',\n",
       " 'leading microrna revolution',\n",
       " 'distant star ever seen found hubble space telescope image',\n",
       " 'dave adalian earthsky',\n",
       " 'hubble spot distant star ever seen 28 billion light year away',\n",
       " 'discover image cosmos mythical space telescope captured birthday teach science',\n",
       " 'ulysse nardin release freak freak x aventurine',\n",
       " 'hubble spot distant single star ever seen near dawn universe',\n",
       " 'paying homage utah spellbinding dark sky spot michael golding unveils stirring new single',\n",
       " 'hubble telescope discovers farthest star away earth',\n",
       " 'ancient star earendel spotted hubble space telescope',\n",
       " 'new covid 19 test promise accuracy efficiency',\n",
       " 'earendel distant star ever seen human',\n",
       " 'move icarus hubble find earendel farthest star earth',\n",
       " 'scientist discover one universe earliest star',\n",
       " 'hubble space telescope spot distant star ever seen',\n",
       " '6 cool reason pre order oppo a96',\n",
       " 'space news potentially hazardou asteroid pas earth april fool day science',\n",
       " 'space telescope help astronomer discover farthest star yet',\n",
       " 'hubble space telescope spot distant star ever seen',\n",
       " 'work art based starry night culpeper student display elevate',\n",
       " 'blank space bounce back celebrate 10th anniversary cherokee street',\n",
       " 'astronomy exoplanet boom crest 5 000 confirmed world',\n",
       " 'sophim biophytosebum act natural alternative silicone',\n",
       " 'child stone family fun avebury wiltshire',\n",
       " 'red hot chili pepper release atmospheric new single one',\n",
       " 'red hot chili pepper release atmospheric new single one classic rock 101 5 tri city classic rock station',\n",
       " 'hubble spot distant single star ever seen record distance 28 billion lightyears',\n",
       " 'herm celebrates travel watch wonder',\n",
       " 'bad astronomy farthest star ever seen almost 13 billion light year away',\n",
       " 'future yard host night new work south african cellist composer',\n",
       " 'hubble see distant star ever 28 billion light year away',\n",
       " 'hubble telescope detects distant star ever seen near cosmic dawn',\n",
       " 'twinkle twinkle farthest star hubble telescope detects distant star ever seen',\n",
       " 'mstable usd musd hit market cap 41 30 million',\n",
       " 'yieldfarming insure safe price reach 391 50',\n",
       " 'paradise dental latest proaperks partner',\n",
       " 'day hubble telescope detects distant star ever seen near cosmic dawn news southeastern connecticut',\n",
       " 'brandon island society child sott net',\n",
       " 'offshift price hit 5 33 top exchange xft',\n",
       " 'tranche chess 24 hour trading volume reach 41 94 million',\n",
       " 'ten million indian worker join general strike modi class war assault',\n",
       " 'march madness flower houston press',\n",
       " 'oduwa owc price hit 0 44 top exchange',\n",
       " 'border science neutron star larry niven',\n",
       " 'ap news brief 6 09 p edt',\n",
       " 'ocean flower fill tower london moat superbloom field sowing begin',\n",
       " '2 top cryptocurrencies buy april',\n",
       " 'mathwallet support arweave',\n",
       " 'popular crypto firm axie infinity lost 625 million hack',\n",
       " 'multi chain network key blockchain dlt long term development report',\n",
       " '5 item get lion lamb weather',\n",
       " 'daoventures dvd 1 day volume reach 125 00',\n",
       " 'defi cryptocurrencies make rich terra tezos logarithmic finance',\n",
       " 'aqru earn interest crypto saving',\n",
       " '19 year old river rouge man accused murdering grandmother lived',\n",
       " 'woman bite dog ohio say pooch attack',\n",
       " 'juxtapoz magazine live breathe angela hennessy somarts cultural center san francisco',\n",
       " 'caf dubai accepts bitcoin ethereum tether payment breakfast brewed coffee baked good',\n",
       " 'crypto critic bother fud useful cointelegraph magazine',\n",
       " 'bitcoin price going',\n",
       " 'raven protocol raven trading 7 3 higher last 7 day',\n",
       " 'dogelon mar elon reach market cap 582 04 million',\n",
       " 'hodooi achieves market capitalization 8 83 million hod',\n",
       " 'chainge reach market cap 7 06 million chng',\n",
       " 'earn interest stablecoins',\n",
       " 'project txa txa price top 2 01 exchange',\n",
       " 'omlira price 2 last 7 day oml',\n",
       " 'benqi trading 4 7 last 7 day qi',\n",
       " 'ethereum stake reach 24 hour volume 935 00 ethys',\n",
       " 'lith token lith reach market capitalization 8 75 million',\n",
       " 'apecoin ape reach 24 hour volume 841 22 million',\n",
       " 'gocrypto token trading 10 6 last 7 day goc',\n",
       " 'equalizer trading 14 6 higher last week eqz',\n",
       " '1millionnfts 1mil price top 0 57',\n",
       " 'ichi price top 71 82 ichi',\n",
       " 'arion arion reach one day volume 94 00',\n",
       " 'dexlab dxl trading 56 1 higher last week',\n",
       " 'unslashed finance price reach 0 25 usf',\n",
       " 'mileverse trading 1 9 last week mvc',\n",
       " 'kryptomon kmon price 8 7 last week',\n",
       " 'locgame trading 2 1 higher last 7 day locg',\n",
       " 'bunicorn achieves market capitalization 401 881 15 buni',\n",
       " 'pangolin reach market cap 19 31 million png',\n",
       " 'argon argon reach 24 hour volume 44 276 00',\n",
       " 'coldstack market capitalization reach 1 01 million cl',\n",
       " 'ichi farm 24 hour volume reach 76 547 00 ichi',\n",
       " 'alien world hit market cap 118 07 million tlm',\n",
       " 'hyper finance price top 0 0005 major exchange hyfi',\n",
       " 'swace price reach 0 0010 exchange swace',\n",
       " 'hyper finance hit market cap 15 620 31 hyfi',\n",
       " 'sakura sku achieves market cap 3 28 million',\n",
       " 'binamon trading 2 7 higher last week bmon',\n",
       " 'defi pet price top 0 42 top exchange dpet',\n",
       " 'mate mate price hit 0 0010 major exchange',\n",
       " 'stanbul ba ak ehir fan token price reach 1 28 exchange ibfk',\n",
       " 'bitgear gear price top 0 0068 exchange',\n",
       " 'imagecash imgc trading 10 8 week',\n",
       " 'deeper network dpr market capitalization top 103 78 million',\n",
       " 'keyfi hit 1 day volume 17 634 00 keyfi',\n",
       " 'mirrored netflix mnflx trading 2 6 higher last 7 day',\n",
       " 'eunomia price top 0 0000 ents',\n",
       " 'superlauncher launch 24 hour trading volume hit 35 462 00',\n",
       " '8pay 8pay price reach 0 0304 top exchange',\n",
       " 'cubiex hit market cap 73 273 35 cbix',\n",
       " 'collateral pay trading 9 7 lower week coll',\n",
       " 'polkawar pwar top one day volume 648 285 00',\n",
       " 'xmon price reach 32 510 09 top exchange xmon',\n",
       " 'sonocoin reach market capitalization 617 212 38 sono',\n",
       " 'vanilla network top one day volume 16 101 00 vnla',\n",
       " 'bscpad market capitalization hit 57 62 million bscpad',\n",
       " 'hiblocks hibs top 1 day volume 2 20 million',\n",
       " 'centric swap cns price 0 3 last 7 day',\n",
       " 'lync network achieves market cap 527 745 00 lync',\n",
       " 'gravitycoin trading 12 higher week gxx',\n",
       " 'peet defi pte price reach 1 06 exchange',\n",
       " 'lympo market token market capitalization top 159 354 58 lmt',\n",
       " 'bidr bidr hit market capitalization 15 74 million',\n",
       " 'boosted finance boost price reach 1 49',\n",
       " 'drop ownership power dop price reach 3 66 major exchange',\n",
       " 'bitdao bit price 12 4 last week',\n",
       " 'peri finance reach market capitalization 1 68 million peri',\n",
       " 'fuze token fuze achieves market capitalization 40 004 61',\n",
       " 'mahadao maha trading 9 4 last 7 day',\n",
       " 'bitcny price 0 week bitcny',\n",
       " 'rai reflex index rai price top 3 02 major exchange',\n",
       " 'usdk price 0 2 week usdk',\n",
       " 'newton new reach 1 day trading volume 161 262 00',\n",
       " 'phantasma energy 24 hour trading volume hit 79 876 00 kcal',\n",
       " 'qcash qc trading 0 6 higher week',\n",
       " 'neutrino token trading 42 6 higher last 7 day nsbt',\n",
       " 'whale whale trading 6 4 higher week',\n",
       " 'pylon finance trading 9 2 week pylon',\n",
       " 'zeepin zpt trading 4 9 higher last 7 day',\n",
       " 'amond amon price hit 0 0016 exchange',\n",
       " 'ig gold igg market capitalization hit 2 94 million',\n",
       " 'deepbrain chain 1 day volume reach 168 865 00 dbc',\n",
       " 'rally rly price top 0 22 top exchange',\n",
       " 'sun old top 24 hour volume 22 37 million sun',\n",
       " 'flamingo price 18 8 last 7 day flm',\n",
       " 'rsk infrastructure framework rif price top 0 17 exchange',\n",
       " 'travala com ava trading 21 8 higher week',\n",
       " 'hacken token trading 35 4 week hai',\n",
       " 'factom fct price hit 0 81 exchange',\n",
       " 'clubhouse casino bonus free spin ireland',\n",
       " 'bittube tube market cap achieves 640 504 09',\n",
       " 'soufriere anse la raye advance freekick qualifier st lucia news voice',\n",
       " 'news online cloud system new battleground crypto mining threat actor',\n",
       " 'zero zer 24 hour volume hit 20 00',\n",
       " 'zclassic market cap reach 767 624 62 zcl',\n",
       " 'flux flux price top 1 93',\n",
       " 'woodcoin log trading 8 2 last 7 day',\n",
       " 'yenten ytn reach 1 day trading volume 67 00',\n",
       " 'exosis exo price reach 0 0118 top exchange',\n",
       " 'protocol xhv hit market cap 162 51 million',\n",
       " 'bitcore price hit 0 0845 top exchange btx',\n",
       " 'ripple report 130 yearly basis growth asia pacific transaction amid emerging use case',\n",
       " 'qnb unveils new payment service smart city expo doha 202',\n",
       " 'qnb unveils new payment service smart city expo doha 2022',\n",
       " 'cryptocurrencies price prediction shiba inu bitcoin chainlink european wrap 30 march',\n",
       " 'un official world must forget afghanistan',\n",
       " 'kelly lee owen announces new album lp 8 share new song',\n",
       " 'airline news top air travel story march',\n",
       " 'easter egg highest sugar content could bad teeth',\n",
       " 'step future',\n",
       " 'hubble snap record breaking photo star 12 9 billion light year away',\n",
       " 'kelly lee owen announces new album lp 8 share new song listen',\n",
       " 'kelly lee owen detail lp 8 share two new single',\n",
       " 'record broken hubble spot farthest star ever seen',\n",
       " 'apple stock rise 10 consecutive session first time since 2010',\n",
       " 'crypto market slow rally bitcoin dip',\n",
       " 'free egg box turn ripple effect kindness livingston community',\n",
       " 'vn index slip near 1 500 point vnexpress international',\n",
       " 'namibia hockey get n 300 000 boost',\n",
       " 'bitcoin mining change code could slash energy usage 99',\n",
       " 'proposed congressional map redrawn desanti veto',\n",
       " 'photo show colorado lake lowest water level',\n",
       " 'fidelity bank help entrepreneur explore international market',\n",
       " 'semiconductor u manufacturing wont silver bullet industry analyst say',\n",
       " 'hubble may spotted distant star date',\n",
       " 'star align hubble space telescope discovery',\n",
       " 'cannabis farmer growing drug newcastle home also found indecent image',\n",
       " 'nasa announces discovery furthest star ever seen universe',\n",
       " 'fidelity bank help entrepreneur explore u market',\n",
       " 'equilibrium sustainability big park make american happiest',\n",
       " 'ukraine military internet provider brought cyberattack',\n",
       " 'overachieving hubble telescope glimpse distant star ever seen',\n",
       " 'knoxville starbucks employee vote favor unionizing',\n",
       " 'incredible photo show much critical reservoir dried',\n",
       " 'vietnam economy rebound strongly',\n",
       " 'european adjust diet help save planet',\n",
       " 'cannibal coronal mass ejection hit earth tonight scientist say',\n",
       " 'gupc ceo commends piac report petroleum revenue management',\n",
       " 'sjpd chief officer shot man disarmed another man brandishing gun restaurant fight chaos',\n",
       " '2022 dance electronic grammy preview olafur arnalds stumped nomination popping tiny bottle celebrate',\n",
       " 'could use ultrasound command bacteria nuke tumor',\n",
       " 'mnpd 20 year old charged criminal homicide death 58 year old',\n",
       " 'vinfast automotive selects nc first electric vehicle assembly plant',\n",
       " 'analysis cant ignore statement donald trump',\n",
       " 'russia could disrupt u europe rare earth supply chain',\n",
       " 'future cryptocurrency vechain quant network secure crypto',\n",
       " 'parent say called dont say gay bill hurt child',\n",
       " 'vinfast build first ev factory north america',\n",
       " 'doctor say 2nd booster everyone could advised next fall',\n",
       " 'lapd recruitment ad showcase officer personal side',\n",
       " 'form 8 5 ept ri tungsten corporation plc',\n",
       " 'transaction share',\n",
       " 'border patrol agent bracing total chao title 42 expires',\n",
       " 'millerknoll inc report third quarter fiscal 2022 result',\n",
       " 'oh permian dance award',\n",
       " 'charge filed palace bar shooting',\n",
       " 'evidence biden admin generated economic growth holtz eakin',\n",
       " 'lowe invests 2 5 million toward initiative queen university',\n",
       " 'comedian reacting smith slapping chris rock oscar joke jada pinkett smith many worry could set precedent striking performer',\n",
       " 'paul george expected return month long absence injury',\n",
       " 'tacoma city council considers punishment street race spectator',\n",
       " 'aker horizon announces merger plan aker offshore wind aker clean hydrogen',\n",
       " 'taking chance could help achieve goal seem reach',\n",
       " 'atari announces termination relationship crypto blockchain industry',\n",
       " 'canada announces grand prize winner impact canada challenge',\n",
       " '17 year old 19 year old hurt gastonia shooting police say',\n",
       " 'openline williamson county animal center p2',\n",
       " 'three burned seymour explosion police say',\n",
       " 'mlb mets ready take new york yankee',\n",
       " 'reading eagle bechtelsville woman mark 100th birthday',\n",
       " 'isi trial family victim hope justice landmark case isi beatle begin u court',\n",
       " 'city removing aging oak tree city hall',\n",
       " 'netflix game studio buying spree lay groundwork next streaming battle',\n",
       " 'chrome o get new launcher 100th birthday',\n",
       " 'keysight key support vtt open testing center finland',\n",
       " 'jamestown park recreation offer unique experience',\n",
       " 'microsoft online build 2022 event kick may 24',\n",
       " 'j j green paper receives patent approval fully compostable natural paper coating process united state',\n",
       " 'canny sign run central',\n",
       " 'gov kevin stitt sign controversial save woman sport act law',\n",
       " 'sacramento teacher become face scusd strike',\n",
       " 'jada pinkett la madre de smith reaccionan tras la bofetada chris rock',\n",
       " 'ywca techgyrls program encourages girl explore career e industry',\n",
       " 'firefighter find man dead hall county home putting flame',\n",
       " 'aeroguard flight training center provides clear path skywest airline 4 major airline',\n",
       " 'dayton police seek woman suspected using stolen credit card',\n",
       " 'antimony ore market report production company trend forecast 2030 indexbox',\n",
       " 'tennessee man pleads guilty minor protesting charge u capitol riot case',\n",
       " 'ashley cain safiyya vorajee break',\n",
       " 'prosecutor finish gov whitmer kidnap trial',\n",
       " 'emerging market stock currency lifted progress russia ukraine talk',\n",
       " 'president biden tout administration new one stop online resource deal risk covid',\n",
       " 'predator targeted mother dating apps gain access child police say',\n",
       " 'u weighs easing limit chevron contact venezuela',\n",
       " 'wanda sykes say chris rock apologized oscar party incident smith taking show',\n",
       " 'community celebrates burleson isd substitute teacher richard livingston',\n",
       " 'soprano goodfella actor paul herman dead 76',\n",
       " 'armed carjacking bay bridge creates traffic gridlock',\n",
       " 'wekiva high school teacher arrested sexual battery soliciting minor',\n",
       " 'pineapple energy launch next phase corporate development',\n",
       " 'buxton grand slam help twin roll past pirate grapefruit play',\n",
       " 'man involved manhattan shooting drove ambulance police',\n",
       " 'gist nigeria pt 2 pilot',\n",
       " 'longmont council waif development fee veteran tiny house village',\n",
       " 'kevin curry lightens creamy stroganoff healthy swap',\n",
       " 'idex corporation acquire kzvalve business expanding solution agriculture industrial application',\n",
       " 'apple let content apps like netflix spotify link website sign user',\n",
       " 'smith refused leave oscar slap academy say',\n",
       " 'stradivarius tiene la sandalias de tac n de los bridgerton para tus look de invitada',\n",
       " 'weather authority wednesday 5 p update',\n",
       " 'attenborough ship prof polar credential',\n",
       " 'u postal worker robbed broad daylight',\n",
       " 'paterson receives hundred smoke alarm part operation 7',\n",
       " 'one international general insurance holding ltd nasdaq igic insider upped stake 1 0 previous year',\n",
       " 'cedreo costcertified announce strategic partnership accelerate sale process home project',\n",
       " 'clarendon college oldest institution higher ed texas panhandle affirms commitment yuja multi year contract extension',\n",
       " 'stephen ayesha curry announce little town library',\n",
       " 'kristin smart trial moved san luis obispo',\n",
       " 'inoue donaire rematch set unification take place june 7 saitama super arena',\n",
       " 'georgia teen got 49 college share secret',\n",
       " 'reparation debate california limit reparation slave descendant',\n",
       " 'afectar la comunidades latinas negras nativas el error de c lculo en el censo 2020',\n",
       " '10 stock trending robinhood',\n",
       " 'fca extends crypto registration deadline firm',\n",
       " 'police woman jailed biting officer',\n",
       " 'fbi using advanced dna technology diana ault cold case',\n",
       " 'free dress offered saturday howard county formal event fairy godmother needed',\n",
       " 'fda authorizes second covid booster people age 50 older',\n",
       " 'resident differ bass river plan',\n",
       " 'understand cryptocurrency popular',\n",
       " 'top wrap 1 ukraine isnt naive zelenskiy say russia pledge scale attack kyiv',\n",
       " 'ezra miller need know',\n",
       " 'seven team make field world cup qatar',\n",
       " 'countdown grammy hitmaker',\n",
       " 'nyc mayor vow rid homeless encampment street 2 week period fails specify people living would go',\n",
       " 'kyrgios unrepentant miami meltdown',\n",
       " 'daily crunch child friendly amazon glow video chat projector available across u',\n",
       " 'u stock rise russia ukraine peace talk boost investor sentiment',\n",
       " 'u envoy say russia biological weapon allegation u n potential false flag',\n",
       " 'intoxicated man jump fence midway airport attempt climb private jet chicago police say',\n",
       " 'time explore transfer option lobos aggies others',\n",
       " 'man charged duo atv accident involving minor',\n",
       " 'prosecution defense make opening statement ronnie hyde trial crime scene evidence presented',\n",
       " 'solarium despega tras vulnerar el rango lateral de largo plazo',\n",
       " 'parole recommended last chowchilla kidnapper',\n",
       " 'singapore hang drug trafficker resumption execution',\n",
       " 'clarivate launch new report research profile central europe',\n",
       " 'cerave resurfacing retinol serum sale amazon',\n",
       " 'thomas j kent jr chairman ceo kent global llc moved art commodity business',\n",
       " 'adopting three legged dog helped accept disability',\n",
       " 'adm mike rogers putin could use cyber warfare create economic pain domestic pressure west',\n",
       " 'fest ville returning louisville detail',\n",
       " 'bill requiring domestic violence defendant wear gps monitor fails senate judiciary committee',\n",
       " 'people revealing toxic practice industry work regardless much money make',\n",
       " 'arrow exploration corp arrow company 2021 year end reserve',\n",
       " 'activewear apparel market size grow usd 157 1 billion',\n",
       " 'parrott pace bsu invite',\n",
       " 'quiet wednesday morning temp 80 possible later',\n",
       " 'viewer issue warning scammer impersonated florida nonprofit offer job fake check buy work equipment',\n",
       " 'official release new image connection deadly road rage shooting 76 camden county',\n",
       " 'feel liberating mask longer required outdoors singapore',\n",
       " 'south carolina family hurt gun violence ask done',\n",
       " 'federal verdict call denver police chief credibility question',\n",
       " 'local final 4 alumnus villanova',\n",
       " 'lead paint presentation held meadville ymca thursday',\n",
       " 'family speaks plea agreement',\n",
       " '10 banking finance stock buy today according rajiv jain gqg partner',\n",
       " 'consorzio del parmigiano reggiano p chip corporation kaasmerk matec partner launch breakthrough food safe digital tracking technology',\n",
       " 'windy cool today',\n",
       " 'exclusive ice considers relocating london cd clearing source say',\n",
       " 'taking vitamin omega 3 fatty acid supplement could lower risk developing autoimmune disease',\n",
       " 'swisher field get name change golden eagle field brownell activity complex',\n",
       " 'el tuit de 2016 sobre smith chris rock que resurge ahora deja muchos sin palabras',\n",
       " 'nfl owner approve change ot rule playoff',\n",
       " 'suspect wanted brooklyn synagogue burglary',\n",
       " 'relation insurance service inc acquires asset woller anger company llc',\n",
       " 'power probiotic',\n",
       " 'camilla keep hi tech watch charles new meta headquarters',\n",
       " 'headkrack talk jada pinkett smith response oscar slap',\n",
       " 'betty taylor missing girl 12 found safe police arrest 23 year old male kidnapping charge',\n",
       " 'woman falsely claimed married tim cook allegedly stalked agreed stay away apple ceo 3 year',\n",
       " 'trevor bauer sue athletic former writer sexual assault allegation',\n",
       " 'chris rock brother reject smith apology oscar slap',\n",
       " 'nasa record setting astronaut land kazakhstan',\n",
       " 'verse immersive hologram gallery presented enklu non plus ultra fever augmented reality exhibition open denver starting april',\n",
       " 'chambersburg fountain damaged wild crash removed repair',\n",
       " 'suspect shot killed assaulting police detective chief say',\n",
       " 'death toll 60 vehicle crash pennsylvania highway climb six two day search wreckage',\n",
       " 'year lmpd say investigation almost done officer punched protester',\n",
       " 'bitwise industry announces five state national expansion investing million toward solving generational poverty',\n",
       " 'cross river bank go tiny mighty 3b valuation crypto first strategy',\n",
       " 'seattle storm dance troupe hold audition',\n",
       " 'jon stewart torched outnumbered panel comment racism',\n",
       " 'renavotio inc riii provides shareholder update',\n",
       " 'earnings working blue star capital plc lon blu share price',\n",
       " 'rand paul cut deal russia trade bill',\n",
       " 'auto repair emission inspection',\n",
       " 'hailey bieber 2 minute makeup routine surprisingly easy step step guide',\n",
       " 'woman reveals husband sold baby shower gift help friend pay fix van',\n",
       " '5 minute day brighten smile',\n",
       " 'five question mind mccormick co shareholder',\n",
       " 'wave terror attack bennett biggest test',\n",
       " 'un concerned resurgence m23 rebel movement drcongo',\n",
       " 'best city urban gardening according new survey',\n",
       " 'wave financial launch ada yield fund support cardano defi ecosystem growth',\n",
       " '3 cryptocurrencies could dwarf ethereum',\n",
       " 'nft marketplace hoskinsea begin hsk token private sale',\n",
       " 'cardano price rise 1 5 amid bullish squeeze',\n",
       " 'wave financial launch ada yield fund',\n",
       " 'next cardano ada fantom ftm latest crypto rally analyst micha l',\n",
       " 'top 10 cryptocurrencies india',\n",
       " 'adaswap backed gal gadot launch nft marketplace',\n",
       " 'crypto price today bitcoin slip 46k',\n",
       " 'crypto news terra bitcoin avax cardano fatf',\n",
       " 'industry voice ensure scheme cash available match beneficiary payment',\n",
       " 'best worst performing cryptocurrencies 31 mar 2022',\n",
       " 'crypto billionaire environmental group launch effort slash bitcoin energy use',\n",
       " '10 googled crypto question',\n",
       " 'defi technology provides q1 asset management update announces subsidiary valour surpasses u 274 million aum',\n",
       " 'defi technology provides q1 asset management update',\n",
       " 'uk pension award 2022 shortlist published',\n",
       " 'first mover asia bc technology group crypto platform made big gain 2021',\n",
       " 'hedera hashgraph hbar price reach 0 36',\n",
       " 'bitgreen 24 hour volume reach 8 573 00 bitg',\n",
       " 'find bitcoin halving matter',\n",
       " 'binance smart chain everything need know',\n",
       " 'stellar data recovery review',\n",
       " 'stellar service brand recognizes honor woman trade 2022 convention fort worth texas',\n",
       " 'sam sealey join litemint llc strategic advisor',\n",
       " 'kid covid vaccine arent performing like adult',\n",
       " 'abbie chatfield call home away star sam frost magazine cover story disgusting epic rant',\n",
       " 'atlantic',\n",
       " 'top 10 dive bar actually good food',\n",
       " 'gm brad holmes lot confidence jared goff detroit lion qb',\n",
       " 'gabriella brook keep glam classic mini skirt dior opening',\n",
       " 'easeus data recovery wizard review',\n",
       " 'marvin j chomsky emmy winning director root star trek dy 92',\n",
       " 'vitol profit jump record 2021 energy price surge',\n",
       " 'teaser trailer animated adventure sea beast netflix',\n",
       " 'karim benzema injury update ahead real madrid v chelsea',\n",
       " 'best wine store 2012',\n",
       " 'republican susan collins back ketanji brown jackson supreme court live',\n",
       " 'chrisland school win 34 medal 2022 world school game',\n",
       " 'gov desantis call special session call disney big 105 9',\n",
       " 'gov desantis call special session call disney newsradio wfla',\n",
       " 'gov desantis call special session call disney wmmb',\n",
       " 'gov desantis call special session call disney 1290 wjno',\n",
       " 'mumbai centre stealing common people pocket nana patole rising fuel price',\n",
       " 'bitcoin price drop check latest cryptocurrency price',\n",
       " 'stellar africagold hit 4 meter 11 48 g gold trench t4 5 namarana gold project mali',\n",
       " 'review heifetz debut blend immigrant experience americana',\n",
       " 'wonder filled new immersive adventure set open date sugar land',\n",
       " 'ram intend sign sean mcvay le snead extension',\n",
       " 'sf giant gabe kapler provides timetable evan longoria return finger surgery',\n",
       " 'rrr ranveer singh praise s rajamouli blockbuster beating hollywood movie collection call proud moment bollywood news',\n",
       " 'dana wilde life star',\n",
       " 'sam frost look pretty stunning fifty style pink dress',\n",
       " 'upenn wharton mba complete guide admission gmat club gmat club',\n",
       " 'rrr kangana ranaut praise s rajamoli call greatest indian film director',\n",
       " 'anupamaa twitterati hail rupali ganguly monologue baa vanraj say flower nahi fire hai',\n",
       " 'bad news microsoft window 11 growth stall dramatically',\n",
       " '5 best dividend stock roth ira insider monkey',\n",
       " 'warne remembered emotional state memorial',\n",
       " 'buck 118 116 76ers nba defensive play year giannis antetokounmpo make walk block joel embiid',\n",
       " 'latest atlantic',\n",
       " 'trending box office vivek agnihotri kashmir file crossing r 300 cr worldwide box office ram charan jr ntr rrr surpassing batman s rajamouli film entering r 100 crore club late',\n",
       " 'rrr ranveer singh lauds s rajamouli film beating hollywood movie collection call proud moment',\n",
       " 'ranbir kapoor aamir khan vicky kaushal alia bhatt pay heartfelt tribute late rishi kapoor watch',\n",
       " 'new member milky way family revealed',\n",
       " 'jared leto reflects playing pale faced icon marvel dc',\n",
       " 'former fresno state hc tim deruyter belief sky limit derek carr davante adam accomplish silver black',\n",
       " 'nifty50 tech view breach 17 500 must sustained nifty upside',\n",
       " 'raphinha barcelona transfer talk brazil winger ignores leeds contract call',\n",
       " 'popular atlantic',\n",
       " 'germany based content creator recreates scene suno chanda much nadia afgan approval film tv',\n",
       " 'manchester united player harry maguire break silence england boo',\n",
       " 'sun erupts 17 flare solar storm hit earth thursday',\n",
       " 'robert earl keen bringing final tour buddy holly hall lubbock',\n",
       " 'khawaja leap career best 7 test ranking',\n",
       " 'oneplus 9 pro get price cut head oneplus 10 pro launch',\n",
       " 'ancient part milky way much older ever knew',\n",
       " 'halo ring new halo show',\n",
       " 'ranbir kapoor alia bhatt planning october wedding',\n",
       " 'new food drink festival something marlburians savour',\n",
       " 'watch 64th grammy award',\n",
       " 'book talk epicenter event egypt diplomacy war peace transition nabil fahmy',\n",
       " 'mike whelan named senior vice president general manager round hill music nashville',\n",
       " 'baftas nomination leave line duty love island fan furious snub',\n",
       " 'c j lais movie went right oscar night',\n",
       " 'nakedsword invite viewer bred breakfast come inn',\n",
       " 'wow check unknown fact ghum hai kisikey pyaar meiin fame neil bhatt',\n",
       " 'real housewife atlanta back new season 14 trailer',\n",
       " 'value buy exist growth focused etf',\n",
       " 'phoenix top four',\n",
       " 'could atlanta falcon target north carolina qb sam howell sport illustrated atlanta falcon news analysis',\n",
       " 'shane warne memorial former teammate world cricket great pay tribute legend mcg',\n",
       " 'stronghold token shx price 1 3 last week',\n",
       " 'chase pay cash llc formally announces plan expand reach city',\n",
       " 'crystal hermitage tulip garden reopens',\n",
       " 'assist king speaks talk man utd offer leeds target sergio gomez swell',\n",
       " 'lionsgate play malaysia name astro talent phait lee wong gm',\n",
       " 'free league publishing announces death space ttrpg',\n",
       " 'giannis antetokounmpo make mvp statement sixer',\n",
       " 'marquette poll two third people nationally support confirmation ketanji brown jackson',\n",
       " 'call duty subscription service could way',\n",
       " 'bury grammar school introduces courthouse new academic centre sixth form september 2022',\n",
       " 'stock rally 3rd day russia ukraine talk raise hope de escalation war',\n",
       " 'chemistry execution key factor pvl open semifinal match',\n",
       " 'daniel radcliffe name amazing harry potter actor credit influencing acting career',\n",
       " 'oneplus 9 pro 5g oneplus 9 5g price slashed india check new pricing',\n",
       " '3 team sign ricky rubio summer',\n",
       " 'best seller 16 thing gq reader couldnt stop buying march',\n",
       " '2020 hyundai ioniq facelifted trio launched u',\n",
       " 'nigeria 2023 coast clear igbo presidency',\n",
       " 'citymall raise 75 series c led norwest venture partner',\n",
       " 'review pretty woman ohio theatre powerful vocal despite dated material',\n",
       " 'celebrity social medium round march 30 2022',\n",
       " '5 thing know food right austin iconic ranch 616 reopens',\n",
       " 'attention nft marketplace launching cardano',\n",
       " 'top pick 1 gold stock mind blowing 640 profit growth',\n",
       " 'collins back jackson supreme court',\n",
       " 'internet applauds diner job listing offering benefit booze biscuit',\n",
       " 'mzansi star raise glass mo chandon top golden glow sunset spot',\n",
       " 'mallorca commercial real estate advisory inducted nakheel diamond club news',\n",
       " 'bomma aligns hand blown glass light hypnotizing star constellation',\n",
       " 'sensex nifty end higher third session banking stock lead gain',\n",
       " 'back 2 festival announces 2022 summer lineup',\n",
       " ...]"
      ]
     },
     "execution_count": 117,
     "metadata": {},
     "output_type": "execute_result"
    }
   ],
   "source": [
    "X"
   ]
  },
  {
   "cell_type": "code",
   "execution_count": 118,
   "id": "2b257b92",
   "metadata": {},
   "outputs": [
    {
     "data": {
      "text/plain": [
       "243422"
      ]
     },
     "execution_count": 118,
     "metadata": {},
     "output_type": "execute_result"
    }
   ],
   "source": [
    "len(X)"
   ]
  },
  {
   "cell_type": "code",
   "execution_count": 119,
   "id": "8bf7a74d",
   "metadata": {},
   "outputs": [],
   "source": [
    "y = np.ones(len(X))"
   ]
  },
  {
   "cell_type": "code",
   "execution_count": 120,
   "id": "67f4d92c",
   "metadata": {},
   "outputs": [
    {
     "data": {
      "text/plain": [
       "243422"
      ]
     },
     "execution_count": 120,
     "metadata": {},
     "output_type": "execute_result"
    }
   ],
   "source": [
    "len(y)"
   ]
  },
  {
   "cell_type": "code",
   "execution_count": 121,
   "id": "8086a238",
   "metadata": {},
   "outputs": [],
   "source": [
    "y = [int(x) for x in y]"
   ]
  },
  {
   "cell_type": "code",
   "execution_count": 122,
   "id": "2df0e3eb",
   "metadata": {},
   "outputs": [],
   "source": [
    "XT = tokenizer(X, padding=True, truncation=True, max_length=512)"
   ]
  },
  {
   "cell_type": "code",
   "execution_count": 123,
   "id": "1ca09169",
   "metadata": {},
   "outputs": [],
   "source": [
    "train_dataset = Dataset(XT, y)"
   ]
  },
  {
   "cell_type": "code",
   "execution_count": 124,
   "id": "052c7d34",
   "metadata": {},
   "outputs": [
    {
     "name": "stderr",
     "output_type": "stream",
     "text": [
      "***** Running Prediction *****\n",
      "  Num examples = 243422\n",
      "  Batch size = 8\n"
     ]
    }
   ],
   "source": [
    "raw_pred, raw_pred2, raw_pred3 = test_trainer.predict(train_dataset)"
   ]
  },
  {
   "cell_type": "code",
   "execution_count": 125,
   "id": "bb20b35d",
   "metadata": {},
   "outputs": [
    {
     "data": {
      "text/plain": [
       "array([[-2.91391   ,  1.1038746 ,  2.7978225 ],\n",
       "       [-1.9013687 ,  2.2464314 ,  0.5738592 ],\n",
       "       [-0.6870062 ,  1.4756547 ,  0.14030182],\n",
       "       ...,\n",
       "       [-1.4556764 ,  2.7135031 , -0.9773732 ],\n",
       "       [ 2.3284633 , -0.08987612, -2.873111  ],\n",
       "       [-2.6961954 ,  0.14528114,  3.3509033 ]], dtype=float32)"
      ]
     },
     "execution_count": 125,
     "metadata": {},
     "output_type": "execute_result"
    }
   ],
   "source": [
    "raw_pred"
   ]
  },
  {
   "cell_type": "code",
   "execution_count": 126,
   "id": "d6152a9b",
   "metadata": {},
   "outputs": [
    {
     "data": {
      "text/plain": [
       "array([[-2.91391   ,  1.1038746 ,  2.7978225 ],\n",
       "       [-1.9013687 ,  2.2464314 ,  0.5738592 ],\n",
       "       [-0.6870062 ,  1.4756547 ,  0.14030182],\n",
       "       ...,\n",
       "       [-1.4556764 ,  2.7135031 , -0.9773732 ],\n",
       "       [ 2.3284633 , -0.08987612, -2.873111  ],\n",
       "       [-2.6961954 ,  0.14528114,  3.3509033 ]], dtype=float32)"
      ]
     },
     "execution_count": 126,
     "metadata": {},
     "output_type": "execute_result"
    }
   ],
   "source": [
    "raw_pred"
   ]
  },
  {
   "cell_type": "code",
   "execution_count": 127,
   "id": "a24ad40b",
   "metadata": {},
   "outputs": [],
   "source": [
    "y_pred = np.argmax(raw_pred, axis=1)"
   ]
  },
  {
   "cell_type": "code",
   "execution_count": 128,
   "id": "d5ae1b88",
   "metadata": {},
   "outputs": [
    {
     "data": {
      "text/plain": [
       "array([2, 1, 1, ..., 1, 0, 2], dtype=int64)"
      ]
     },
     "execution_count": 128,
     "metadata": {},
     "output_type": "execute_result"
    }
   ],
   "source": [
    "y_pred"
   ]
  },
  {
   "cell_type": "code",
   "execution_count": 129,
   "id": "2853e420",
   "metadata": {},
   "outputs": [
    {
     "data": {
      "text/plain": [
       "array([-2.91391  ,  1.1038746,  2.7978225], dtype=float32)"
      ]
     },
     "execution_count": 129,
     "metadata": {},
     "output_type": "execute_result"
    }
   ],
   "source": [
    "raw_pred[0]"
   ]
  },
  {
   "cell_type": "code",
   "execution_count": 130,
   "id": "5a21d676",
   "metadata": {},
   "outputs": [],
   "source": [
    "from math import exp"
   ]
  },
  {
   "cell_type": "code",
   "execution_count": 131,
   "id": "a3a150ac",
   "metadata": {},
   "outputs": [
    {
     "data": {
      "text/plain": [
       "0.0027857301512203957"
      ]
     },
     "execution_count": 131,
     "metadata": {},
     "output_type": "execute_result"
    }
   ],
   "source": [
    "exp(raw_pred[0][0])/(exp(raw_pred[0][0])+exp(raw_pred[0][1])+exp(raw_pred[0][2]))"
   ]
  },
  {
   "cell_type": "code",
   "execution_count": 132,
   "id": "1efb967f",
   "metadata": {},
   "outputs": [
    {
     "data": {
      "text/plain": [
       "0.1548248515637921"
      ]
     },
     "execution_count": 132,
     "metadata": {},
     "output_type": "execute_result"
    }
   ],
   "source": [
    "exp(raw_pred[0][1])/(exp(raw_pred[0][0])+exp(raw_pred[0][1])+exp(raw_pred[0][2]))"
   ]
  },
  {
   "cell_type": "code",
   "execution_count": 133,
   "id": "9611c486",
   "metadata": {},
   "outputs": [
    {
     "data": {
      "text/plain": [
       "0.8423894182849875"
      ]
     },
     "execution_count": 133,
     "metadata": {},
     "output_type": "execute_result"
    }
   ],
   "source": [
    "exp(raw_pred[0][2])/(exp(raw_pred[0][0])+exp(raw_pred[0][1])+exp(raw_pred[0][2]))"
   ]
  },
  {
   "cell_type": "code",
   "execution_count": 134,
   "id": "064f5cb1",
   "metadata": {},
   "outputs": [],
   "source": [
    "neg_class = []\n",
    "neut_class = []\n",
    "pos_class = []\n",
    "\n",
    "for item in raw_pred:\n",
    "    neg = exp(item[0])/(exp(item[0])+exp(item[1])+exp(item[2]))\n",
    "    neut = exp(item[1])/(exp(item[0])+exp(item[1])+exp(item[2]))\n",
    "    pos = exp(item[2])/(exp(item[0])+exp(item[1])+exp(item[2]))\n",
    "    neg_class.append(neg)\n",
    "    neut_class.append(neut)\n",
    "    pos_class.append(pos)"
   ]
  },
  {
   "cell_type": "code",
   "execution_count": 135,
   "id": "3c272ab9",
   "metadata": {},
   "outputs": [],
   "source": [
    "df_manoel['sentiment_negative_probability']=neg_class\n",
    "df_manoel['sentiment_neutral_probability']=neut_class\n",
    "df_manoel['sentiment_positive_probability']=pos_class\n",
    "df_manoel['sentiment_class']=y_pred-1"
   ]
  },
  {
   "cell_type": "code",
   "execution_count": 136,
   "id": "46224508",
   "metadata": {},
   "outputs": [],
   "source": [
    "df_manoel.to_csv('../OneYearNewsDataset_AfterSentiment.csv')"
   ]
  },
  {
   "cell_type": "code",
   "execution_count": null,
   "id": "190089e7",
   "metadata": {},
   "outputs": [],
   "source": []
  }
 ],
 "metadata": {
  "kernelspec": {
   "display_name": "Python 3",
   "language": "python",
   "name": "python3"
  },
  "language_info": {
   "codemirror_mode": {
    "name": "ipython",
    "version": 3
   },
   "file_extension": ".py",
   "mimetype": "text/x-python",
   "name": "python",
   "nbconvert_exporter": "python",
   "pygments_lexer": "ipython3",
   "version": "3.8.8"
  }
 },
 "nbformat": 4,
 "nbformat_minor": 5
}
