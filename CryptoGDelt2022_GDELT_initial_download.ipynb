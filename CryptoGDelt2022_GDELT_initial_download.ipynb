{
 "cells": [
  {
   "cell_type": "code",
   "execution_count": null,
   "id": "0022325a",
   "metadata": {},
   "outputs": [],
   "source": [
    "!pip install gdeltdoc"
   ]
  },
  {
   "cell_type": "code",
   "execution_count": 7,
   "id": "25470ba4",
   "metadata": {},
   "outputs": [],
   "source": [
    "from datetime import date, timedelta, datetime\n",
    "start_date = datetime.strptime('31/03/2021 00:00:00', '%d/%m/%Y %H:%M:%S')\n",
    "end_date = datetime.strptime('30/04/2022 23:59:59', '%d/%m/%Y %H:%M:%S')"
   ]
  },
  {
   "cell_type": "code",
   "execution_count": 15,
   "id": "e65d572b",
   "metadata": {},
   "outputs": [
    {
     "data": {
      "text/plain": [
       "396"
      ]
     },
     "execution_count": 15,
     "metadata": {},
     "output_type": "execute_result"
    }
   ],
   "source": [
    "num_of_days = (end_date - start_date).days+1\n",
    "num_of_days"
   ]
  },
  {
   "cell_type": "code",
   "execution_count": null,
   "id": "36d8a600",
   "metadata": {},
   "outputs": [],
   "source": [
    "# bitcoin%20OR%20cryptocurrency%20OR%20cryptocurrencies\n",
    "\n",
    "import pandas as pd\n",
    "\n",
    "from gdeltdoc import GdeltDoc, Filters\n",
    "\n",
    "f = Filters(\n",
    "    keyword = \"bitcoin\",\n",
    "    start_date = str(start_date),\n",
    "    end_date = str(end_date)\n",
    ")\n",
    "\n",
    "gd = GdeltDoc()\n",
    "\n",
    "# Search for articles matching the filters\n",
    "articles = gd.article_search(f)\n",
    "df = articles[(articles[\"language\"] == 'English')]\n",
    "df"
   ]
  },
  {
   "cell_type": "code",
   "execution_count": null,
   "id": "481cd5ea",
   "metadata": {},
   "outputs": [],
   "source": [
    "import time\n",
    "for i in range(num_of_days):\n",
    "    currenday = end_date- timedelta(days=i)\n",
    "    previousday = end_date- timedelta(days=i+1)\n",
    "    print(\"start_date, end_date = \",previousday,currenday)\n",
    "    for item in ['cryptocurrency', 'cryptocurrencies','CBDC','Bitcoin', 'Ethereum', 'Litecoin', 'BitcoinCash', 'BitcoinSV', 'Polkadot', 'Chainlink', 'BinanceCoin', 'VeChain', 'Cosmos', 'Polkadot', 'NEO', 'Tezos', 'Tether', 'USDCoin', 'Monero', 'Dash', 'Zcash', 'Ripple', 'Cardano', 'Stellar', 'CounosX']:\n",
    "        print(item)\n",
    "        try:\n",
    "            f = Filters(\n",
    "                keyword = item,\n",
    "                start_date = str(previousday),\n",
    "                end_date = str(currenday)\n",
    "            )\n",
    "\n",
    "            gd = GdeltDoc()\n",
    "            # Search for articles matching the filters\n",
    "            articles = gd.article_search(f)\n",
    "            articles = articles[(articles[\"language\"] == 'English')]\n",
    "            df = pd.concat([df, articles], axis=0)\n",
    "            df = df.drop_duplicates(subset=['url'], keep='last')\n",
    "            time.sleep(1)\n",
    "        except:\n",
    "            pass\n",
    "    currenday =  currenday - timedelta(days=1)\n",
    "    daybefore = currenday - timedelta(days=1)\n",
    "    start_date = daybefore.strftime(\"%Y-%m-%d\")\n",
    "    end_date = currenday.strftime(\"%Y-%m-%d\")\n",
    "#    start_date,end_date    \n",
    "    time.sleep(5) # Sleeping 5 seconds to avoid being blocked by Gdelt/Gdeltdoc\n"
   ]
  },
  {
   "cell_type": "code",
   "execution_count": null,
   "id": "93550fb9",
   "metadata": {},
   "outputs": [],
   "source": [
    "df = df.reset_index(drop=True)"
   ]
  },
  {
   "cell_type": "code",
   "execution_count": null,
   "id": "536f6c72",
   "metadata": {},
   "outputs": [],
   "source": [
    "df.to_csv(\"OneYearNewsDataset.csv\", index=False)"
   ]
  },
  {
   "cell_type": "code",
   "execution_count": null,
   "id": "e546f22c",
   "metadata": {},
   "outputs": [],
   "source": [
    "df.tail()"
   ]
  },
  {
   "cell_type": "code",
   "execution_count": null,
   "id": "831dfd91",
   "metadata": {},
   "outputs": [],
   "source": []
  }
 ],
 "metadata": {
  "kernelspec": {
   "display_name": "Python 3",
   "language": "python",
   "name": "python3"
  },
  "language_info": {
   "codemirror_mode": {
    "name": "ipython",
    "version": 3
   },
   "file_extension": ".py",
   "mimetype": "text/x-python",
   "name": "python",
   "nbconvert_exporter": "python",
   "pygments_lexer": "ipython3",
   "version": "3.8.8"
  }
 },
 "nbformat": 4,
 "nbformat_minor": 5
}
